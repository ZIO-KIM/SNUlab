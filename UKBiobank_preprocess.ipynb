{
 "cells": [
  {
   "cell_type": "code",
   "execution_count": 28,
   "metadata": {},
   "outputs": [],
   "source": [
    "# 기본\n",
    "import os\n",
    "import pandas as pd\n",
    "import seaborn as sns\n",
    "import matplotlib.pyplot as plt\n",
    "import numpy as np\n",
    "import matplotlib\n",
    "from matplotlib import font_manager, rc\n",
    "import platform\n",
    "from tqdm import tqdm\n",
    "import sklearn\n",
    "from sklearn import linear_model\n",
    "import scipy.stats as stats\n",
    "from sklearn.preprocessing import StandardScaler\n",
    "import statsmodels.api as sm\n",
    "import statsmodels.formula.api as smf\n",
    "from statsmodels.stats.outliers_influence import variance_inflation_factor\n",
    "from patsy import dmatrices\n",
    "from sklearn.model_selection import train_test_split\n",
    "\n",
    "# time\n",
    "import datetime\n",
    "\n",
    "# crawling\n",
    "import requests\n",
    "import lxml.html\n",
    "import sqlite3\n",
    "from pandas.io import sql\n",
    "from bs4 import BeautifulSoup\n",
    "\n",
    "# 한글 폰트 설정\n",
    "if platform.system() == 'Windows':\n",
    "# 윈도우인 경우\n",
    "    font_name = font_manager.FontProperties(fname=\"c:/Windows/Fonts/malgun.ttf\").get_name()\n",
    "    rc('font', family=font_name)"
   ]
  },
  {
   "cell_type": "code",
   "execution_count": null,
   "metadata": {},
   "outputs": [],
   "source": [
    "ukb37332 = pd.read_sas('SAS\\\\UKBIOBANK\\\\ukb37332.sas7bdat', format = 'sas7bdat')\n",
    "ukb37332"
   ]
  },
  {
   "cell_type": "code",
   "execution_count": null,
   "metadata": {},
   "outputs": [],
   "source": [
    "ukb45783_data = []\n",
    "ukb45783 = pd.read_sas('SAS\\\\UKBIOBANK\\\\ukb45783.sas7bdat', format = 'sas7bdat', chunksize=100000, iterator=True)\n",
    "\n",
    "for chunk in ukb45783:\n",
    "    ukb45783_data.append(chunk)\n",
    "asm_data_df=pd.concat(ukb45783_data)"
   ]
  },
  {
   "cell_type": "code",
   "execution_count": null,
   "metadata": {},
   "outputs": [],
   "source": [
    "ukb46987 = pd.read_sas('SAS\\\\UKBIOBANK\\\\ukb46987.sas7bdat', format = 'sas7bdat')\n",
    "ukb46987"
   ]
  },
  {
   "cell_type": "code",
   "execution_count": null,
   "metadata": {},
   "outputs": [],
   "source": []
  },
  {
   "cell_type": "code",
   "execution_count": null,
   "metadata": {},
   "outputs": [],
   "source": []
  },
  {
   "cell_type": "code",
   "execution_count": null,
   "metadata": {},
   "outputs": [],
   "source": [
    "ukb46987 = pd.read_sas('SAS\\\\ukb46987_new.sas7bdat', format = 'sas7bdat', encoding = 'euc-kr')\n",
    "ukb46987"
   ]
  },
  {
   "cell_type": "code",
   "execution_count": null,
   "metadata": {},
   "outputs": [],
   "source": [
    "df = ukb46987.copy()"
   ]
  },
  {
   "cell_type": "code",
   "execution_count": null,
   "metadata": {},
   "outputs": [],
   "source": [
    "df2 = df.iloc[:, :224]\n",
    "df2"
   ]
  },
  {
   "cell_type": "code",
   "execution_count": null,
   "metadata": {},
   "outputs": [],
   "source": [
    "df4 = df.iloc[:, 224:]\n",
    "df4"
   ]
  },
  {
   "cell_type": "code",
   "execution_count": null,
   "metadata": {},
   "outputs": [],
   "source": [
    "# colnames = df2.columns.tolist()\n",
    "# colnames.remove('eid')\n",
    "\n",
    "# n18 = 0\n",
    "# for row in range(len(df2)): \n",
    "#     for col in colnames: \n",
    "#         print(df2[col][row])\n",
    "#         if df2[col][row] is not np.nan: \n",
    "#             disease = df2[col][row].decode('euc-kr')\n",
    "#             if disease.startswith('N18') == True: \n",
    "#                 n18 += 1\n",
    "#                 break"
   ]
  },
  {
   "cell_type": "code",
   "execution_count": null,
   "metadata": {},
   "outputs": [],
   "source": [
    "df2['N180'] = 0\n",
    "df2['N181'] = 0\n",
    "df2['N182'] = 0\n",
    "df2['N183'] = 0\n",
    "df2['N184'] = 0\n",
    "df2['N185'] = 0\n",
    "df2['N186'] = 0\n",
    "df2['N187'] = 0\n",
    "df2['N188'] = 0\n",
    "df2['N189'] = 0"
   ]
  },
  {
   "cell_type": "code",
   "execution_count": null,
   "metadata": {},
   "outputs": [],
   "source": [
    "df2"
   ]
  },
  {
   "cell_type": "code",
   "execution_count": null,
   "metadata": {},
   "outputs": [],
   "source": [
    "colnames = df2.columns.tolist()\n",
    "colnames.remove('eid')\n",
    "\n",
    "for col in colnames: \n",
    "    df2.loc[df2[col] == 'N180', 'N180'] = 1  # 전체 222개 칼럼 순회하면서 N180 있으면 1 넣어주기\n",
    "    df2.loc[df2[col] == 'N180', 'N180_index'] = col[6:]  # 41280 변수에서 N18 진단받은 위치와 동일한 위치에 있는 날짜 뽑아오기 위해 칼럼명을 잘라서 인덱스만 가져오기\n",
    "\n",
    "    #df2[\"N180\"] = df2.apply(lambda x: 1 if x[col] == 'N180' else 0, axis=0)"
   ]
  },
  {
   "cell_type": "code",
   "execution_count": null,
   "metadata": {},
   "outputs": [],
   "source": [
    "df2['N180'].value_counts() "
   ]
  },
  {
   "cell_type": "code",
   "execution_count": null,
   "metadata": {},
   "outputs": [],
   "source": [
    "# 인덱스랑 진단여부 갯수 똑같은 거 확인\n",
    "\n",
    "df2['N180_index'].isna().sum()"
   ]
  },
  {
   "cell_type": "code",
   "execution_count": null,
   "metadata": {},
   "outputs": [],
   "source": [
    "for col in colnames: \n",
    "    df2.loc[df2[col] == 'N181', 'N181'] = 1  # 전체 222개 칼럼 순회하면서 N181 있으면 1 넣어주기\n",
    "    df2.loc[df2[col] == 'N181', 'N181_index'] = col[6:]  # 41280 변수에서 N18 진단받은 위치와 동일한 위치에 있는 날짜 뽑아오기 위해 칼럼명을 잘라서 인덱스만 가져오기"
   ]
  },
  {
   "cell_type": "code",
   "execution_count": null,
   "metadata": {},
   "outputs": [],
   "source": [
    "for col in colnames: \n",
    "    df2.loc[df2[col] == 'N182', 'N182'] = 1  # 전체 222개 칼럼 순회하면서 N182 있으면 1 넣어주기\n",
    "    df2.loc[df2[col] == 'N182', 'N182_index'] = col[6:]  # 41280 변수에서 N18 진단받은 위치와 동일한 위치에 있는 날짜 뽑아오기 위해 칼럼명을 잘라서 인덱스만 가져오기"
   ]
  },
  {
   "cell_type": "code",
   "execution_count": null,
   "metadata": {},
   "outputs": [],
   "source": [
    "for col in colnames: \n",
    "    df2.loc[df2[col] == 'N183', 'N183'] = 1  # 전체 222개 칼럼 순회하면서 N183 있으면 1 넣어주기\n",
    "    df2.loc[df2[col] == 'N183', 'N183_index'] = col[6:]  # 41280 변수에서 N18 진단받은 위치와 동일한 위치에 있는 날짜 뽑아오기 위해 칼럼명을 잘라서 인덱스만 가져오기"
   ]
  },
  {
   "cell_type": "code",
   "execution_count": null,
   "metadata": {},
   "outputs": [],
   "source": [
    "for col in colnames: \n",
    "    df2.loc[df2[col] == 'N184', 'N184'] = 1  # 전체 222개 칼럼 순회하면서 N184 있으면 1 넣어주기\n",
    "    df2.loc[df2[col] == 'N184', 'N184_index'] = col[6:]  # 41280 변수에서 N18 진단받은 위치와 동일한 위치에 있는 날짜 뽑아오기 위해 칼럼명을 잘라서 인덱스만 가져오기"
   ]
  },
  {
   "cell_type": "code",
   "execution_count": null,
   "metadata": {},
   "outputs": [],
   "source": [
    "for col in colnames: \n",
    "    df2.loc[df2[col] == 'N185', 'N185'] = 1  # 전체 222개 칼럼 순회하면서 N185 있으면 1 넣어주기\n",
    "    df2.loc[df2[col] == 'N185', 'N185_index'] = col[6:]  # 41280 변수에서 N18 진단받은 위치와 동일한 위치에 있는 날짜 뽑아오기 위해 칼럼명을 잘라서 인덱스만 가져오기"
   ]
  },
  {
   "cell_type": "code",
   "execution_count": null,
   "metadata": {},
   "outputs": [],
   "source": [
    "for col in colnames: \n",
    "    df2.loc[df2[col] == 'N186', 'N186'] = 1  # 전체 222개 칼럼 순회하면서 N186 있으면 1 넣어주기\n",
    "    df2.loc[df2[col] == 'N186', 'N186_index'] = col[6:]  # 41280 변수에서 N18 진단받은 위치와 동일한 위치에 있는 날짜 뽑아오기 위해 칼럼명을 잘라서 인덱스만 가져오기"
   ]
  },
  {
   "cell_type": "code",
   "execution_count": null,
   "metadata": {},
   "outputs": [],
   "source": [
    "for col in colnames: \n",
    "    df2.loc[df2[col] == 'N187', 'N187'] = 1  # 전체 222개 칼럼 순회하면서 N187 있으면 1 넣어주기\n",
    "    df2.loc[df2[col] == 'N187', 'N187_index'] = col[6:]  # 41280 변수에서 N18 진단받은 위치와 동일한 위치에 있는 날짜 뽑아오기 위해 칼럼명을 잘라서 인덱스만 가져오기"
   ]
  },
  {
   "cell_type": "code",
   "execution_count": null,
   "metadata": {},
   "outputs": [],
   "source": [
    "for col in colnames: \n",
    "    df2.loc[df2[col] == 'N188', 'N188'] = 1  # 전체 222개 칼럼 순회하면서 N188 있으면 1 넣어주기\n",
    "    df2.loc[df2[col] == 'N188', 'N188_index'] = col[6:]  # 41280 변수에서 N18 진단받은 위치와 동일한 위치에 있는 날짜 뽑아오기 위해 칼럼명을 잘라서 인덱스만 가져오기"
   ]
  },
  {
   "cell_type": "code",
   "execution_count": null,
   "metadata": {},
   "outputs": [],
   "source": [
    "for col in colnames: \n",
    "    df2.loc[df2[col] == 'N189', 'N189'] = 1  # 전체 222개 칼럼 순회하면서 N189 있으면 1 넣어주기\n",
    "    df2.loc[df2[col] == 'N189', 'N189_index'] = col[6:]  # 41280 변수에서 N18 진단받은 위치와 동일한 위치에 있는 날짜 뽑아오기 위해 칼럼명을 잘라서 인덱스만 가져오기"
   ]
  },
  {
   "cell_type": "code",
   "execution_count": null,
   "metadata": {},
   "outputs": [],
   "source": [
    "# colnames = df2.columns.tolist()\n",
    "# colnames.remove('eid')\n",
    "\n",
    "# for col in colnames: \n",
    "#     print(col, ' ', df2.loc[df2[col] == 'N181', col].count())"
   ]
  },
  {
   "cell_type": "code",
   "execution_count": null,
   "metadata": {},
   "outputs": [],
   "source": [
    "# for col in colnames: \n",
    "#     df[\"N180\"] = df.apply(lambda x: 1 if x[col] == 'N180' else 0, axis = 1)\n",
    "#     df[\"N181\"] = df.apply(lambda x: 1 if x[col] == 'N181' else 0, axis = 1)\n",
    "#     df[\"N182\"] = df.apply(lambda x: 1 if x[col] == 'N182' else 0, axis = 1)\n",
    "#     df[\"N183\"] = df.apply(lambda x: 1 if x[col] == 'N183' else 0, axis = 1)\n",
    "#     df[\"N184\"] = df.apply(lambda x: 1 if x[col] == 'N184' else 0, axis = 1)\n",
    "#     df[\"N185\"] = df.apply(lambda x: 1 if x[col] == 'N185' else 0, axis = 1)\n",
    "#     df[\"N186\"] = df.apply(lambda x: 1 if x[col] == 'N186' else 0, axis = 1)\n",
    "#     df[\"N187\"] = df.apply(lambda x: 1 if x[col] == 'N187' else 0, axis = 1)\n",
    "#     df[\"N188\"] = df.apply(lambda x: 1 if x[col] == 'N188' else 0, axis = 1)\n",
    "#     df[\"N189\"] = df.apply(lambda x: 1 if x[col] == 'N189' else 0, axis = 1)"
   ]
  },
  {
   "cell_type": "code",
   "execution_count": null,
   "metadata": {},
   "outputs": [],
   "source": [
    "df2[\"N180\"].value_counts()"
   ]
  },
  {
   "cell_type": "code",
   "execution_count": null,
   "metadata": {},
   "outputs": [],
   "source": [
    "df2['N180_index'].isna().sum()"
   ]
  },
  {
   "cell_type": "code",
   "execution_count": null,
   "metadata": {},
   "outputs": [],
   "source": [
    "df2[\"N181\"].value_counts()"
   ]
  },
  {
   "cell_type": "code",
   "execution_count": null,
   "metadata": {},
   "outputs": [],
   "source": [
    "df2['N181_index'].isna().sum()"
   ]
  },
  {
   "cell_type": "code",
   "execution_count": null,
   "metadata": {},
   "outputs": [],
   "source": [
    "df2[\"N182\"].value_counts()"
   ]
  },
  {
   "cell_type": "code",
   "execution_count": null,
   "metadata": {},
   "outputs": [],
   "source": [
    "df2['N182_index'].isna().sum()"
   ]
  },
  {
   "cell_type": "code",
   "execution_count": null,
   "metadata": {},
   "outputs": [],
   "source": [
    "df2[\"N183\"].value_counts()"
   ]
  },
  {
   "cell_type": "code",
   "execution_count": null,
   "metadata": {},
   "outputs": [],
   "source": [
    "df2['N183_index'].isna().sum()"
   ]
  },
  {
   "cell_type": "code",
   "execution_count": null,
   "metadata": {},
   "outputs": [],
   "source": [
    "df2[\"N184\"].value_counts()"
   ]
  },
  {
   "cell_type": "code",
   "execution_count": null,
   "metadata": {},
   "outputs": [],
   "source": [
    "df2['N184_index'].isna().sum()"
   ]
  },
  {
   "cell_type": "code",
   "execution_count": null,
   "metadata": {},
   "outputs": [],
   "source": [
    "df2[\"N185\"].value_counts()"
   ]
  },
  {
   "cell_type": "code",
   "execution_count": null,
   "metadata": {},
   "outputs": [],
   "source": [
    "df2['N185_index'].isna().sum()"
   ]
  },
  {
   "cell_type": "code",
   "execution_count": null,
   "metadata": {},
   "outputs": [],
   "source": [
    "df2[\"N186\"].value_counts()"
   ]
  },
  {
   "cell_type": "code",
   "execution_count": null,
   "metadata": {},
   "outputs": [],
   "source": [
    "df2['N186_index'].isna().sum()"
   ]
  },
  {
   "cell_type": "code",
   "execution_count": null,
   "metadata": {},
   "outputs": [],
   "source": [
    "df2[\"N187\"].value_counts()"
   ]
  },
  {
   "cell_type": "code",
   "execution_count": null,
   "metadata": {},
   "outputs": [],
   "source": [
    "df2['N187_index'].isna().sum()"
   ]
  },
  {
   "cell_type": "code",
   "execution_count": null,
   "metadata": {},
   "outputs": [],
   "source": [
    "df2[\"N188\"].value_counts()"
   ]
  },
  {
   "cell_type": "code",
   "execution_count": null,
   "metadata": {},
   "outputs": [],
   "source": [
    "df2['N188_index'].isna().sum()"
   ]
  },
  {
   "cell_type": "code",
   "execution_count": null,
   "metadata": {},
   "outputs": [],
   "source": [
    "df2[\"N189\"].value_counts()"
   ]
  },
  {
   "cell_type": "code",
   "execution_count": null,
   "metadata": {},
   "outputs": [],
   "source": [
    "df2['N189_index'].isna().sum()"
   ]
  },
  {
   "cell_type": "code",
   "execution_count": null,
   "metadata": {},
   "outputs": [],
   "source": [
    "df_final = df2[['eid', 'N180', 'N181', 'N182', 'N183', 'N184', 'N185', 'N186', 'N187', 'N188', 'N189', \n",
    "                'N180_index', 'N181_index', 'N182_index', 'N183_index', 'N184_index', 'N185_index', 'N186_index', 'N187_index', 'N188_index', 'N189_index']]\n",
    "df_final"
   ]
  },
  {
   "cell_type": "code",
   "execution_count": null,
   "metadata": {},
   "outputs": [],
   "source": [
    "df4"
   ]
  },
  {
   "cell_type": "code",
   "execution_count": null,
   "metadata": {},
   "outputs": [],
   "source": [
    "df5 = pd.concat([df_final, df4], axis = 1)\n",
    "df5"
   ]
  },
  {
   "cell_type": "code",
   "execution_count": null,
   "metadata": {},
   "outputs": [],
   "source": [
    "dftmp = df5[['N180_index', 'N181_index', 'N182_index', 'N183_index', 'N184_index', 'N185_index', 'N186_index', 'N187_index', 'N188_index', 'N189_index']].copy()"
   ]
  },
  {
   "cell_type": "code",
   "execution_count": null,
   "metadata": {},
   "outputs": [],
   "source": [
    "dftmp['N180_index'].unique()"
   ]
  },
  {
   "cell_type": "code",
   "execution_count": null,
   "metadata": {},
   "outputs": [],
   "source": [
    "#### TEST\n",
    "\n",
    "coltest = ['idx1', 'idx2', 'idx3', '41280-1.0', '41280-5.0', '41280-9.0']\n",
    "value = [[1, np.nan, np.nan, '2010-01-01', np.nan, np.nan], [np.nan, 5, np.nan, np.nan, '2010-03-03', np.nan], [np.nan, np.nan, 9, np.nan, np.nan, '2021-01-01'], [np.nan, np.nan, np.nan, np.nan, np.nan, np.nan]]\n",
    "testdf = pd.DataFrame(columns = coltest, data=value)\n",
    "\n",
    "# vltest = testdf[col].sum(axis = 1).tolist()\n",
    "# vltestdf = pd.DataFrame(vltest)\n",
    "# vltestdf[0].unique()\n",
    "\n",
    "testdf['N18_idx'] = testdf.stack().groupby(level=0).first().reindex(testdf.index)   # 각 행에서 Nan 값이 아닌 유일한 값 가져오기\n",
    "testdf\n",
    "# testdf['N18_Date'] = list(map(lambda y: np.nan if y is np.nan else testdf['41280-' + str(y)].values[0], testdf['N18_idx']))"
   ]
  },
  {
   "cell_type": "code",
   "execution_count": null,
   "metadata": {},
   "outputs": [],
   "source": [
    "testdf['eid'] = ['A', 'B', 'C', 'D']\n",
    "valuelist = testdf['N18_idx'].tolist()\n",
    "\n",
    "testdf['N18_Date'] = list(map(lambda x, y: np.nan if y is np.nan else testdf.loc[testdf['eid'] == x, '41280-' + str(y)].values[0], testdf['eid'], valuelist))"
   ]
  },
  {
   "cell_type": "code",
   "execution_count": null,
   "metadata": {},
   "outputs": [],
   "source": [
    "testdf"
   ]
  },
  {
   "cell_type": "code",
   "execution_count": null,
   "metadata": {},
   "outputs": [],
   "source": [
    "########## test end"
   ]
  },
  {
   "cell_type": "code",
   "execution_count": null,
   "metadata": {},
   "outputs": [],
   "source": [
    "column_list = ['N180_index', 'N181_index', 'N182_index', 'N183_index', 'N184_index', 'N185_index', 'N186_index', 'N187_index', 'N188_index', 'N189_index']\n",
    "\n",
    "dftmp['N18_idx'] = dftmp.stack().groupby(level=0).first().reindex(dftmp.index)  # 각 행에서 Nan 값이 아닌 유일한 값 가져오기"
   ]
  },
  {
   "cell_type": "code",
   "execution_count": null,
   "metadata": {},
   "outputs": [],
   "source": [
    "dftmp['N18_idx'].unique()"
   ]
  },
  {
   "cell_type": "code",
   "execution_count": null,
   "metadata": {},
   "outputs": [],
   "source": [
    "dftmp"
   ]
  },
  {
   "cell_type": "code",
   "execution_count": null,
   "metadata": {},
   "outputs": [],
   "source": [
    "df5 = pd.concat([df5, dftmp['N18_idx']], axis = 1)\n",
    "df5"
   ]
  },
  {
   "cell_type": "code",
   "execution_count": null,
   "metadata": {},
   "outputs": [],
   "source": [
    "c = df5.columns.tolist()\n",
    "for col in c: \n",
    "    print(col)"
   ]
  },
  {
   "cell_type": "code",
   "execution_count": null,
   "metadata": {},
   "outputs": [],
   "source": [
    "# 열별로 진단받은 날짜 추가하기\n",
    "\n",
    "valuelist = df5['N18_idx'].tolist()\n",
    "df5['N18_Date'] = list(map(lambda x, y: np.nan if y is np.nan else df5.loc[df5['eid'] == x, '41280-' + str(y)].values[0], df5['eid'], valuelist))"
   ]
  },
  {
   "cell_type": "code",
   "execution_count": null,
   "metadata": {},
   "outputs": [],
   "source": [
    "len(df5['N18_Date'].unique())"
   ]
  },
  {
   "cell_type": "code",
   "execution_count": null,
   "metadata": {},
   "outputs": [],
   "source": [
    "df5"
   ]
  },
  {
   "cell_type": "code",
   "execution_count": null,
   "metadata": {},
   "outputs": [],
   "source": [
    "df6 = df5[['eid', \n",
    "'N180', 'N181', 'N182', 'N183', 'N184', 'N185', 'N186', 'N187', 'N188', 'N189', \n",
    "'N180_index', 'N181_index', 'N182_index', 'N183_index', 'N184_index', 'N185_index', 'N186_index', 'N187_index', 'N188_index', 'N189_index',\n",
    "'N18_idx', 'N18_Date']]"
   ]
  },
  {
   "cell_type": "code",
   "execution_count": null,
   "metadata": {},
   "outputs": [],
   "source": [
    "df6"
   ]
  },
  {
   "cell_type": "code",
   "execution_count": null,
   "metadata": {},
   "outputs": [],
   "source": [
    "df6.to_csv('data\\\\ukb46987_N18preprocessed.csv', encoding = 'euc-kr', index = False)"
   ]
  },
  {
   "cell_type": "markdown",
   "metadata": {},
   "source": [
    "#### 2021.12.06 ~"
   ]
  },
  {
   "cell_type": "code",
   "execution_count": null,
   "metadata": {},
   "outputs": [],
   "source": [
    "df = pd.read_csv('data\\\\ukb46987_N18preprocessed.csv', encoding = 'euc-kr')\n",
    "df"
   ]
  },
  {
   "cell_type": "code",
   "execution_count": null,
   "metadata": {},
   "outputs": [],
   "source": [
    "def conditions(df):\n",
    "    if (df['N180'] == 1) or (df['N181'] == 1) or (df['N182'] == 1) or (df['N183'] == 1) or (df['N184'] == 1) or (df['N185'] == 1) or (df['N186'] == 1) or (df['N187'] == 1) or (df['N188'] == 1) or (df['N189'] == 1):\n",
    "        return 1\n",
    "    else:\n",
    "        return 0"
   ]
  },
  {
   "cell_type": "code",
   "execution_count": null,
   "metadata": {},
   "outputs": [],
   "source": [
    "df['N18'] = df.apply(conditions, axis=1)"
   ]
  },
  {
   "cell_type": "code",
   "execution_count": null,
   "metadata": {},
   "outputs": [],
   "source": [
    "df['N18'].value_counts()"
   ]
  },
  {
   "cell_type": "code",
   "execution_count": null,
   "metadata": {},
   "outputs": [],
   "source": [
    "df['N18_Date'].fillna(0, inplace = True)"
   ]
  },
  {
   "cell_type": "code",
   "execution_count": null,
   "metadata": {},
   "outputs": [],
   "source": [
    "df.loc[df['N18_Date'] == 0, 'N18_Date'].count()"
   ]
  },
  {
   "cell_type": "code",
   "execution_count": null,
   "metadata": {},
   "outputs": [],
   "source": [
    "df"
   ]
  },
  {
   "cell_type": "code",
   "execution_count": null,
   "metadata": {},
   "outputs": [],
   "source": [
    "df_final = df[['eid', 'N18_Date', 'N18']]\n",
    "df_final"
   ]
  },
  {
   "cell_type": "code",
   "execution_count": null,
   "metadata": {},
   "outputs": [],
   "source": [
    "df_final.to_csv('data\\\\ukb46987_N18preprocessed.csv', encoding = 'euc-kr', index = False)"
   ]
  },
  {
   "cell_type": "markdown",
   "metadata": {},
   "source": [
    "#### HTN drug preprocessing"
   ]
  },
  {
   "cell_type": "code",
   "execution_count": null,
   "metadata": {},
   "outputs": [],
   "source": [
    "ukb45783_drug = pd.read_sas('SAS\\\\ukb45783_drug.sas7bdat', format = 'sas7bdat')\n",
    "ukb45783_drug"
   ]
  },
  {
   "cell_type": "code",
   "execution_count": null,
   "metadata": {},
   "outputs": [],
   "source": [
    "df = ukb45783_drug.copy()"
   ]
  },
  {
   "cell_type": "code",
   "execution_count": null,
   "metadata": {},
   "outputs": [],
   "source": [
    "HTN_drugcode_preprocessed_FINAL = pd.read_csv('data\\\\HTN_drugcode_preprocessed_FINAL.csv', encoding = 'euc-kr')\n",
    "HTN_drugcode_preprocessed_FINAL"
   ]
  },
  {
   "cell_type": "code",
   "execution_count": null,
   "metadata": {},
   "outputs": [],
   "source": [
    "htn_drugcode = HTN_drugcode_preprocessed_FINAL['UK Biobank code'].dropna()\n",
    "htn_drugcode = htn_drugcode.tolist()\n",
    "htn_drugcode"
   ]
  },
  {
   "cell_type": "code",
   "execution_count": null,
   "metadata": {},
   "outputs": [],
   "source": [
    "colnames = df.columns.tolist()\n",
    "colnames.remove('eid')"
   ]
  },
  {
   "cell_type": "code",
   "execution_count": null,
   "metadata": {},
   "outputs": [],
   "source": [
    "for col in colnames: \n",
    "    for val in htn_drugcode: \n",
    "        df.loc[df[col] == val, str(val)] = 1  # 전체 칼럼 순회하면서 drug code 있으면 칼럼 만들어서 1 넣어주기"
   ]
  },
  {
   "cell_type": "code",
   "execution_count": null,
   "metadata": {},
   "outputs": [],
   "source": [
    "df"
   ]
  },
  {
   "cell_type": "code",
   "execution_count": null,
   "metadata": {},
   "outputs": [],
   "source": [
    "# 엑셀로 정리해둔 명수랑 얼추 맞음\n",
    "\n",
    "for val in htn_drugcode: \n",
    "    print(df[str(val)].value_counts())"
   ]
  },
  {
   "cell_type": "code",
   "execution_count": null,
   "metadata": {},
   "outputs": [],
   "source": [
    "htn_drugcode_str = list(map(str, htn_drugcode))\n",
    "htn_drugcode_str.insert(0, 'eid')\n",
    "htn_drugcode_str"
   ]
  },
  {
   "cell_type": "code",
   "execution_count": null,
   "metadata": {},
   "outputs": [],
   "source": [
    "df_final = df[htn_drugcode_str].copy()\n",
    "df_final"
   ]
  },
  {
   "cell_type": "code",
   "execution_count": null,
   "metadata": {},
   "outputs": [],
   "source": [
    "df_final.fillna(0, inplace = True)\n",
    "df_final"
   ]
  },
  {
   "cell_type": "code",
   "execution_count": null,
   "metadata": {},
   "outputs": [],
   "source": [
    "#### test\n",
    "\n",
    "d = {'A':[1, 0, 0, 0, 0], \n",
    "          'B':[0, 1, 0, 0, 1], \n",
    "          'C':[1, 1, 1, 0, 0], \n",
    "          'D':[0, 0, 0, 0, 1], \n",
    "          'E':[0, 0, 0, 0, 0], \n",
    "          'col':[1, 1, 1, 0, 1]}\n",
    "testdf = pd.DataFrame(data = d, index = ['prsn1', 'prsn2', 'prsn3', 'prsn4', 'prsn5'])\n",
    "testdf"
   ]
  },
  {
   "cell_type": "code",
   "execution_count": null,
   "metadata": {},
   "outputs": [],
   "source": [
    "def create_htnmed(df):\n",
    "    count = 0\n",
    "    col = pd.DataFrame(df).columns.tolist()\n",
    "    print(col)\n",
    "\n",
    "    for c in col: \n",
    "        if df[str(c)] == 1: \n",
    "            count += 1\n",
    "    if count > 0: \n",
    "        return 1\n",
    "    else: \n",
    "        return 0"
   ]
  },
  {
   "cell_type": "code",
   "execution_count": null,
   "metadata": {},
   "outputs": [],
   "source": [
    "for val in htn_drugcode: \n",
    "    df_final.loc[df_final[str(val)] == 1, 'HTN_med'] = 1"
   ]
  },
  {
   "cell_type": "code",
   "execution_count": null,
   "metadata": {},
   "outputs": [],
   "source": [
    "df_final['HTN_med'].fillna(0, inplace = True)"
   ]
  },
  {
   "cell_type": "code",
   "execution_count": null,
   "metadata": {},
   "outputs": [],
   "source": [
    "df_final['HTN_med'].value_counts()"
   ]
  },
  {
   "cell_type": "code",
   "execution_count": null,
   "metadata": {},
   "outputs": [],
   "source": [
    "df_final"
   ]
  },
  {
   "cell_type": "code",
   "execution_count": null,
   "metadata": {},
   "outputs": [],
   "source": [
    "df_final.to_csv('data\\\\ukb45783_drugpreprocessed.csv', encoding = 'euc-kr', index = False)"
   ]
  },
  {
   "cell_type": "markdown",
   "metadata": {},
   "source": [
    "#### 2021.12.08 ~     \n",
    "#### Last follow up date 생성"
   ]
  },
  {
   "cell_type": "code",
   "execution_count": 29,
   "metadata": {},
   "outputs": [
    {
     "data": {
      "text/html": [
       "<div>\n",
       "<style scoped>\n",
       "    .dataframe tbody tr th:only-of-type {\n",
       "        vertical-align: middle;\n",
       "    }\n",
       "\n",
       "    .dataframe tbody tr th {\n",
       "        vertical-align: top;\n",
       "    }\n",
       "\n",
       "    .dataframe thead th {\n",
       "        text-align: right;\n",
       "    }\n",
       "</style>\n",
       "<table border=\"1\" class=\"dataframe\">\n",
       "  <thead>\n",
       "    <tr style=\"text-align: right;\">\n",
       "      <th></th>\n",
       "      <th>eid</th>\n",
       "      <th>23048-0.0</th>\n",
       "      <th>23048-1.0</th>\n",
       "      <th>30502-0.0</th>\n",
       "      <th>30502-1.0</th>\n",
       "      <th>30512-0.0</th>\n",
       "      <th>30512-1.0</th>\n",
       "      <th>30522-0.0</th>\n",
       "      <th>30522-1.0</th>\n",
       "      <th>30601-0.0</th>\n",
       "      <th>...</th>\n",
       "      <th>41281-0.38</th>\n",
       "      <th>41281-0.39</th>\n",
       "      <th>41281-0.40</th>\n",
       "      <th>41281-0.41</th>\n",
       "      <th>41281-0.42</th>\n",
       "      <th>41281-0.43</th>\n",
       "      <th>41281-0.44</th>\n",
       "      <th>41281-0.45</th>\n",
       "      <th>41281-0.46</th>\n",
       "      <th>last_followup_date</th>\n",
       "    </tr>\n",
       "  </thead>\n",
       "  <tbody>\n",
       "    <tr>\n",
       "      <th>0</th>\n",
       "      <td>1000015</td>\n",
       "      <td>NaN</td>\n",
       "      <td>NaN</td>\n",
       "      <td>2014-11-08</td>\n",
       "      <td>NaN</td>\n",
       "      <td>2014-11-08</td>\n",
       "      <td>NaN</td>\n",
       "      <td>2014-11-08</td>\n",
       "      <td>NaN</td>\n",
       "      <td>2016-01-10</td>\n",
       "      <td>...</td>\n",
       "      <td>NaN</td>\n",
       "      <td>NaN</td>\n",
       "      <td>NaN</td>\n",
       "      <td>NaN</td>\n",
       "      <td>NaN</td>\n",
       "      <td>NaN</td>\n",
       "      <td>NaN</td>\n",
       "      <td>NaN</td>\n",
       "      <td>NaN</td>\n",
       "      <td>1000015.0</td>\n",
       "    </tr>\n",
       "    <tr>\n",
       "      <th>1</th>\n",
       "      <td>1000027</td>\n",
       "      <td>NaN</td>\n",
       "      <td>NaN</td>\n",
       "      <td>2014-12-04</td>\n",
       "      <td>2015-06-08</td>\n",
       "      <td>2014-12-04</td>\n",
       "      <td>2015-06-08</td>\n",
       "      <td>2014-12-04</td>\n",
       "      <td>2015-06-08</td>\n",
       "      <td>2017-02-04</td>\n",
       "      <td>...</td>\n",
       "      <td>NaN</td>\n",
       "      <td>NaN</td>\n",
       "      <td>NaN</td>\n",
       "      <td>NaN</td>\n",
       "      <td>NaN</td>\n",
       "      <td>NaN</td>\n",
       "      <td>NaN</td>\n",
       "      <td>NaN</td>\n",
       "      <td>NaN</td>\n",
       "      <td>1000027.0</td>\n",
       "    </tr>\n",
       "    <tr>\n",
       "      <th>2</th>\n",
       "      <td>1000039</td>\n",
       "      <td>NaN</td>\n",
       "      <td>NaN</td>\n",
       "      <td>2014-12-01</td>\n",
       "      <td>NaN</td>\n",
       "      <td>2014-12-01</td>\n",
       "      <td>NaN</td>\n",
       "      <td>2014-12-01</td>\n",
       "      <td>NaN</td>\n",
       "      <td>2017-01-07</td>\n",
       "      <td>...</td>\n",
       "      <td>NaN</td>\n",
       "      <td>NaN</td>\n",
       "      <td>NaN</td>\n",
       "      <td>NaN</td>\n",
       "      <td>NaN</td>\n",
       "      <td>NaN</td>\n",
       "      <td>NaN</td>\n",
       "      <td>NaN</td>\n",
       "      <td>NaN</td>\n",
       "      <td>1000039.0</td>\n",
       "    </tr>\n",
       "    <tr>\n",
       "      <th>3</th>\n",
       "      <td>1000040</td>\n",
       "      <td>NaN</td>\n",
       "      <td>NaN</td>\n",
       "      <td>2015-07-12</td>\n",
       "      <td>NaN</td>\n",
       "      <td>2015-07-12</td>\n",
       "      <td>NaN</td>\n",
       "      <td>2015-07-12</td>\n",
       "      <td>NaN</td>\n",
       "      <td>2017-03-07</td>\n",
       "      <td>...</td>\n",
       "      <td>NaN</td>\n",
       "      <td>NaN</td>\n",
       "      <td>NaN</td>\n",
       "      <td>NaN</td>\n",
       "      <td>NaN</td>\n",
       "      <td>NaN</td>\n",
       "      <td>NaN</td>\n",
       "      <td>NaN</td>\n",
       "      <td>NaN</td>\n",
       "      <td>1000040.0</td>\n",
       "    </tr>\n",
       "    <tr>\n",
       "      <th>4</th>\n",
       "      <td>1000053</td>\n",
       "      <td>NaN</td>\n",
       "      <td>NaN</td>\n",
       "      <td>2015-01-31</td>\n",
       "      <td>NaN</td>\n",
       "      <td>2015-01-31</td>\n",
       "      <td>NaN</td>\n",
       "      <td>2015-01-31</td>\n",
       "      <td>NaN</td>\n",
       "      <td>2017-08-07</td>\n",
       "      <td>...</td>\n",
       "      <td>NaN</td>\n",
       "      <td>NaN</td>\n",
       "      <td>NaN</td>\n",
       "      <td>NaN</td>\n",
       "      <td>NaN</td>\n",
       "      <td>NaN</td>\n",
       "      <td>NaN</td>\n",
       "      <td>NaN</td>\n",
       "      <td>NaN</td>\n",
       "      <td>1000053.0</td>\n",
       "    </tr>\n",
       "    <tr>\n",
       "      <th>...</th>\n",
       "      <td>...</td>\n",
       "      <td>...</td>\n",
       "      <td>...</td>\n",
       "      <td>...</td>\n",
       "      <td>...</td>\n",
       "      <td>...</td>\n",
       "      <td>...</td>\n",
       "      <td>...</td>\n",
       "      <td>...</td>\n",
       "      <td>...</td>\n",
       "      <td>...</td>\n",
       "      <td>...</td>\n",
       "      <td>...</td>\n",
       "      <td>...</td>\n",
       "      <td>...</td>\n",
       "      <td>...</td>\n",
       "      <td>...</td>\n",
       "      <td>...</td>\n",
       "      <td>...</td>\n",
       "      <td>...</td>\n",
       "      <td>...</td>\n",
       "    </tr>\n",
       "    <tr>\n",
       "      <th>502470</th>\n",
       "      <td>6025327</td>\n",
       "      <td>NaN</td>\n",
       "      <td>NaN</td>\n",
       "      <td>2014-11-29</td>\n",
       "      <td>NaN</td>\n",
       "      <td>2014-11-29</td>\n",
       "      <td>NaN</td>\n",
       "      <td>2014-11-29</td>\n",
       "      <td>NaN</td>\n",
       "      <td>2016-05-10</td>\n",
       "      <td>...</td>\n",
       "      <td>NaN</td>\n",
       "      <td>NaN</td>\n",
       "      <td>NaN</td>\n",
       "      <td>NaN</td>\n",
       "      <td>NaN</td>\n",
       "      <td>NaN</td>\n",
       "      <td>NaN</td>\n",
       "      <td>NaN</td>\n",
       "      <td>NaN</td>\n",
       "      <td>6025327.0</td>\n",
       "    </tr>\n",
       "    <tr>\n",
       "      <th>502471</th>\n",
       "      <td>6025339</td>\n",
       "      <td>NaN</td>\n",
       "      <td>NaN</td>\n",
       "      <td>2015-02-07</td>\n",
       "      <td>NaN</td>\n",
       "      <td>2015-02-07</td>\n",
       "      <td>NaN</td>\n",
       "      <td>2015-02-07</td>\n",
       "      <td>NaN</td>\n",
       "      <td>2017-04-06</td>\n",
       "      <td>...</td>\n",
       "      <td>NaN</td>\n",
       "      <td>NaN</td>\n",
       "      <td>NaN</td>\n",
       "      <td>NaN</td>\n",
       "      <td>NaN</td>\n",
       "      <td>NaN</td>\n",
       "      <td>NaN</td>\n",
       "      <td>NaN</td>\n",
       "      <td>NaN</td>\n",
       "      <td>6025339.0</td>\n",
       "    </tr>\n",
       "    <tr>\n",
       "      <th>502472</th>\n",
       "      <td>6025340</td>\n",
       "      <td>NaN</td>\n",
       "      <td>NaN</td>\n",
       "      <td>2015-02-21</td>\n",
       "      <td>NaN</td>\n",
       "      <td>2015-02-21</td>\n",
       "      <td>NaN</td>\n",
       "      <td>2015-02-21</td>\n",
       "      <td>NaN</td>\n",
       "      <td>NaN</td>\n",
       "      <td>...</td>\n",
       "      <td>NaN</td>\n",
       "      <td>NaN</td>\n",
       "      <td>NaN</td>\n",
       "      <td>NaN</td>\n",
       "      <td>NaN</td>\n",
       "      <td>NaN</td>\n",
       "      <td>NaN</td>\n",
       "      <td>NaN</td>\n",
       "      <td>NaN</td>\n",
       "      <td>6025340.0</td>\n",
       "    </tr>\n",
       "    <tr>\n",
       "      <th>502473</th>\n",
       "      <td>6025353</td>\n",
       "      <td>NaN</td>\n",
       "      <td>NaN</td>\n",
       "      <td>2015-09-17</td>\n",
       "      <td>NaN</td>\n",
       "      <td>2015-09-17</td>\n",
       "      <td>NaN</td>\n",
       "      <td>2015-09-17</td>\n",
       "      <td>NaN</td>\n",
       "      <td>2016-12-20</td>\n",
       "      <td>...</td>\n",
       "      <td>NaN</td>\n",
       "      <td>NaN</td>\n",
       "      <td>NaN</td>\n",
       "      <td>NaN</td>\n",
       "      <td>NaN</td>\n",
       "      <td>NaN</td>\n",
       "      <td>NaN</td>\n",
       "      <td>NaN</td>\n",
       "      <td>NaN</td>\n",
       "      <td>6025353.0</td>\n",
       "    </tr>\n",
       "    <tr>\n",
       "      <th>502474</th>\n",
       "      <td>6025364</td>\n",
       "      <td>NaN</td>\n",
       "      <td>NaN</td>\n",
       "      <td>2014-11-26</td>\n",
       "      <td>NaN</td>\n",
       "      <td>2014-11-26</td>\n",
       "      <td>NaN</td>\n",
       "      <td>2014-11-26</td>\n",
       "      <td>NaN</td>\n",
       "      <td>2017-03-19</td>\n",
       "      <td>...</td>\n",
       "      <td>NaN</td>\n",
       "      <td>NaN</td>\n",
       "      <td>NaN</td>\n",
       "      <td>NaN</td>\n",
       "      <td>NaN</td>\n",
       "      <td>NaN</td>\n",
       "      <td>NaN</td>\n",
       "      <td>NaN</td>\n",
       "      <td>NaN</td>\n",
       "      <td>6025364.0</td>\n",
       "    </tr>\n",
       "  </tbody>\n",
       "</table>\n",
       "<p>502475 rows × 496 columns</p>\n",
       "</div>"
      ],
      "text/plain": [
       "            eid 23048-0.0 23048-1.0   30502-0.0   30502-1.0   30512-0.0  \\\n",
       "0       1000015       NaN       NaN  2014-11-08         NaN  2014-11-08   \n",
       "1       1000027       NaN       NaN  2014-12-04  2015-06-08  2014-12-04   \n",
       "2       1000039       NaN       NaN  2014-12-01         NaN  2014-12-01   \n",
       "3       1000040       NaN       NaN  2015-07-12         NaN  2015-07-12   \n",
       "4       1000053       NaN       NaN  2015-01-31         NaN  2015-01-31   \n",
       "...         ...       ...       ...         ...         ...         ...   \n",
       "502470  6025327       NaN       NaN  2014-11-29         NaN  2014-11-29   \n",
       "502471  6025339       NaN       NaN  2015-02-07         NaN  2015-02-07   \n",
       "502472  6025340       NaN       NaN  2015-02-21         NaN  2015-02-21   \n",
       "502473  6025353       NaN       NaN  2015-09-17         NaN  2015-09-17   \n",
       "502474  6025364       NaN       NaN  2014-11-26         NaN  2014-11-26   \n",
       "\n",
       "         30512-1.0   30522-0.0   30522-1.0   30601-0.0  ... 41281-0.38  \\\n",
       "0              NaN  2014-11-08         NaN  2016-01-10  ...        NaN   \n",
       "1       2015-06-08  2014-12-04  2015-06-08  2017-02-04  ...        NaN   \n",
       "2              NaN  2014-12-01         NaN  2017-01-07  ...        NaN   \n",
       "3              NaN  2015-07-12         NaN  2017-03-07  ...        NaN   \n",
       "4              NaN  2015-01-31         NaN  2017-08-07  ...        NaN   \n",
       "...            ...         ...         ...         ...  ...        ...   \n",
       "502470         NaN  2014-11-29         NaN  2016-05-10  ...        NaN   \n",
       "502471         NaN  2015-02-07         NaN  2017-04-06  ...        NaN   \n",
       "502472         NaN  2015-02-21         NaN         NaN  ...        NaN   \n",
       "502473         NaN  2015-09-17         NaN  2016-12-20  ...        NaN   \n",
       "502474         NaN  2014-11-26         NaN  2017-03-19  ...        NaN   \n",
       "\n",
       "       41281-0.39 41281-0.40 41281-0.41 41281-0.42 41281-0.43 41281-0.44  \\\n",
       "0             NaN        NaN        NaN        NaN        NaN        NaN   \n",
       "1             NaN        NaN        NaN        NaN        NaN        NaN   \n",
       "2             NaN        NaN        NaN        NaN        NaN        NaN   \n",
       "3             NaN        NaN        NaN        NaN        NaN        NaN   \n",
       "4             NaN        NaN        NaN        NaN        NaN        NaN   \n",
       "...           ...        ...        ...        ...        ...        ...   \n",
       "502470        NaN        NaN        NaN        NaN        NaN        NaN   \n",
       "502471        NaN        NaN        NaN        NaN        NaN        NaN   \n",
       "502472        NaN        NaN        NaN        NaN        NaN        NaN   \n",
       "502473        NaN        NaN        NaN        NaN        NaN        NaN   \n",
       "502474        NaN        NaN        NaN        NaN        NaN        NaN   \n",
       "\n",
       "       41281-0.45 41281-0.46 last_followup_date  \n",
       "0             NaN        NaN          1000015.0  \n",
       "1             NaN        NaN          1000027.0  \n",
       "2             NaN        NaN          1000039.0  \n",
       "3             NaN        NaN          1000040.0  \n",
       "4             NaN        NaN          1000053.0  \n",
       "...           ...        ...                ...  \n",
       "502470        NaN        NaN          6025327.0  \n",
       "502471        NaN        NaN          6025339.0  \n",
       "502472        NaN        NaN          6025340.0  \n",
       "502473        NaN        NaN          6025353.0  \n",
       "502474        NaN        NaN          6025364.0  \n",
       "\n",
       "[502475 rows x 496 columns]"
      ]
     },
     "execution_count": 29,
     "metadata": {},
     "output_type": "execute_result"
    }
   ],
   "source": [
    "date_merged = pd.read_sas('SAS\\\\ukb_date_merged.sas7bdat', format = 'sas7bdat', encoding = 'cp1252')\n",
    "date_merged"
   ]
  },
  {
   "cell_type": "code",
   "execution_count": 30,
   "metadata": {},
   "outputs": [],
   "source": [
    "df = date_merged.copy()"
   ]
  },
  {
   "cell_type": "code",
   "execution_count": 31,
   "metadata": {},
   "outputs": [],
   "source": [
    "id_tmp = df[['eid']]"
   ]
  },
  {
   "cell_type": "code",
   "execution_count": 32,
   "metadata": {},
   "outputs": [
    {
     "data": {
      "text/html": [
       "<div>\n",
       "<style scoped>\n",
       "    .dataframe tbody tr th:only-of-type {\n",
       "        vertical-align: middle;\n",
       "    }\n",
       "\n",
       "    .dataframe tbody tr th {\n",
       "        vertical-align: top;\n",
       "    }\n",
       "\n",
       "    .dataframe thead th {\n",
       "        text-align: right;\n",
       "    }\n",
       "</style>\n",
       "<table border=\"1\" class=\"dataframe\">\n",
       "  <thead>\n",
       "    <tr style=\"text-align: right;\">\n",
       "      <th></th>\n",
       "      <th>eid</th>\n",
       "    </tr>\n",
       "  </thead>\n",
       "  <tbody>\n",
       "    <tr>\n",
       "      <th>0</th>\n",
       "      <td>1000015</td>\n",
       "    </tr>\n",
       "    <tr>\n",
       "      <th>1</th>\n",
       "      <td>1000027</td>\n",
       "    </tr>\n",
       "    <tr>\n",
       "      <th>2</th>\n",
       "      <td>1000039</td>\n",
       "    </tr>\n",
       "    <tr>\n",
       "      <th>3</th>\n",
       "      <td>1000040</td>\n",
       "    </tr>\n",
       "    <tr>\n",
       "      <th>4</th>\n",
       "      <td>1000053</td>\n",
       "    </tr>\n",
       "    <tr>\n",
       "      <th>...</th>\n",
       "      <td>...</td>\n",
       "    </tr>\n",
       "    <tr>\n",
       "      <th>502470</th>\n",
       "      <td>6025327</td>\n",
       "    </tr>\n",
       "    <tr>\n",
       "      <th>502471</th>\n",
       "      <td>6025339</td>\n",
       "    </tr>\n",
       "    <tr>\n",
       "      <th>502472</th>\n",
       "      <td>6025340</td>\n",
       "    </tr>\n",
       "    <tr>\n",
       "      <th>502473</th>\n",
       "      <td>6025353</td>\n",
       "    </tr>\n",
       "    <tr>\n",
       "      <th>502474</th>\n",
       "      <td>6025364</td>\n",
       "    </tr>\n",
       "  </tbody>\n",
       "</table>\n",
       "<p>502475 rows × 1 columns</p>\n",
       "</div>"
      ],
      "text/plain": [
       "            eid\n",
       "0       1000015\n",
       "1       1000027\n",
       "2       1000039\n",
       "3       1000040\n",
       "4       1000053\n",
       "...         ...\n",
       "502470  6025327\n",
       "502471  6025339\n",
       "502472  6025340\n",
       "502473  6025353\n",
       "502474  6025364\n",
       "\n",
       "[502475 rows x 1 columns]"
      ]
     },
     "execution_count": 32,
     "metadata": {},
     "output_type": "execute_result"
    }
   ],
   "source": [
    "id_tmp"
   ]
  },
  {
   "cell_type": "code",
   "execution_count": 33,
   "metadata": {},
   "outputs": [
    {
     "data": {
      "text/html": [
       "<div>\n",
       "<style scoped>\n",
       "    .dataframe tbody tr th:only-of-type {\n",
       "        vertical-align: middle;\n",
       "    }\n",
       "\n",
       "    .dataframe tbody tr th {\n",
       "        vertical-align: top;\n",
       "    }\n",
       "\n",
       "    .dataframe thead th {\n",
       "        text-align: right;\n",
       "    }\n",
       "</style>\n",
       "<table border=\"1\" class=\"dataframe\">\n",
       "  <thead>\n",
       "    <tr style=\"text-align: right;\">\n",
       "      <th></th>\n",
       "      <th>23048-0.0</th>\n",
       "      <th>23048-1.0</th>\n",
       "      <th>30502-0.0</th>\n",
       "      <th>30502-1.0</th>\n",
       "      <th>30512-0.0</th>\n",
       "      <th>30512-1.0</th>\n",
       "      <th>30522-0.0</th>\n",
       "      <th>30522-1.0</th>\n",
       "      <th>30601-0.0</th>\n",
       "      <th>30601-1.0</th>\n",
       "      <th>...</th>\n",
       "      <th>41281-0.37</th>\n",
       "      <th>41281-0.38</th>\n",
       "      <th>41281-0.39</th>\n",
       "      <th>41281-0.40</th>\n",
       "      <th>41281-0.41</th>\n",
       "      <th>41281-0.42</th>\n",
       "      <th>41281-0.43</th>\n",
       "      <th>41281-0.44</th>\n",
       "      <th>41281-0.45</th>\n",
       "      <th>41281-0.46</th>\n",
       "    </tr>\n",
       "  </thead>\n",
       "  <tbody>\n",
       "    <tr>\n",
       "      <th>0</th>\n",
       "      <td>NaN</td>\n",
       "      <td>NaN</td>\n",
       "      <td>2014-11-08</td>\n",
       "      <td>NaN</td>\n",
       "      <td>2014-11-08</td>\n",
       "      <td>NaN</td>\n",
       "      <td>2014-11-08</td>\n",
       "      <td>NaN</td>\n",
       "      <td>2016-01-10</td>\n",
       "      <td>NaN</td>\n",
       "      <td>...</td>\n",
       "      <td>NaN</td>\n",
       "      <td>NaN</td>\n",
       "      <td>NaN</td>\n",
       "      <td>NaN</td>\n",
       "      <td>NaN</td>\n",
       "      <td>NaN</td>\n",
       "      <td>NaN</td>\n",
       "      <td>NaN</td>\n",
       "      <td>NaN</td>\n",
       "      <td>NaN</td>\n",
       "    </tr>\n",
       "    <tr>\n",
       "      <th>1</th>\n",
       "      <td>NaN</td>\n",
       "      <td>NaN</td>\n",
       "      <td>2014-12-04</td>\n",
       "      <td>2015-06-08</td>\n",
       "      <td>2014-12-04</td>\n",
       "      <td>2015-06-08</td>\n",
       "      <td>2014-12-04</td>\n",
       "      <td>2015-06-08</td>\n",
       "      <td>2017-02-04</td>\n",
       "      <td>2016-10-20</td>\n",
       "      <td>...</td>\n",
       "      <td>NaN</td>\n",
       "      <td>NaN</td>\n",
       "      <td>NaN</td>\n",
       "      <td>NaN</td>\n",
       "      <td>NaN</td>\n",
       "      <td>NaN</td>\n",
       "      <td>NaN</td>\n",
       "      <td>NaN</td>\n",
       "      <td>NaN</td>\n",
       "      <td>NaN</td>\n",
       "    </tr>\n",
       "    <tr>\n",
       "      <th>2</th>\n",
       "      <td>NaN</td>\n",
       "      <td>NaN</td>\n",
       "      <td>2014-12-01</td>\n",
       "      <td>NaN</td>\n",
       "      <td>2014-12-01</td>\n",
       "      <td>NaN</td>\n",
       "      <td>2014-12-01</td>\n",
       "      <td>NaN</td>\n",
       "      <td>2017-01-07</td>\n",
       "      <td>NaN</td>\n",
       "      <td>...</td>\n",
       "      <td>NaN</td>\n",
       "      <td>NaN</td>\n",
       "      <td>NaN</td>\n",
       "      <td>NaN</td>\n",
       "      <td>NaN</td>\n",
       "      <td>NaN</td>\n",
       "      <td>NaN</td>\n",
       "      <td>NaN</td>\n",
       "      <td>NaN</td>\n",
       "      <td>NaN</td>\n",
       "    </tr>\n",
       "    <tr>\n",
       "      <th>3</th>\n",
       "      <td>NaN</td>\n",
       "      <td>NaN</td>\n",
       "      <td>2015-07-12</td>\n",
       "      <td>NaN</td>\n",
       "      <td>2015-07-12</td>\n",
       "      <td>NaN</td>\n",
       "      <td>2015-07-12</td>\n",
       "      <td>NaN</td>\n",
       "      <td>2017-03-07</td>\n",
       "      <td>NaN</td>\n",
       "      <td>...</td>\n",
       "      <td>NaN</td>\n",
       "      <td>NaN</td>\n",
       "      <td>NaN</td>\n",
       "      <td>NaN</td>\n",
       "      <td>NaN</td>\n",
       "      <td>NaN</td>\n",
       "      <td>NaN</td>\n",
       "      <td>NaN</td>\n",
       "      <td>NaN</td>\n",
       "      <td>NaN</td>\n",
       "    </tr>\n",
       "    <tr>\n",
       "      <th>4</th>\n",
       "      <td>NaN</td>\n",
       "      <td>NaN</td>\n",
       "      <td>2015-01-31</td>\n",
       "      <td>NaN</td>\n",
       "      <td>2015-01-31</td>\n",
       "      <td>NaN</td>\n",
       "      <td>2015-01-31</td>\n",
       "      <td>NaN</td>\n",
       "      <td>2017-08-07</td>\n",
       "      <td>NaN</td>\n",
       "      <td>...</td>\n",
       "      <td>NaN</td>\n",
       "      <td>NaN</td>\n",
       "      <td>NaN</td>\n",
       "      <td>NaN</td>\n",
       "      <td>NaN</td>\n",
       "      <td>NaN</td>\n",
       "      <td>NaN</td>\n",
       "      <td>NaN</td>\n",
       "      <td>NaN</td>\n",
       "      <td>NaN</td>\n",
       "    </tr>\n",
       "    <tr>\n",
       "      <th>...</th>\n",
       "      <td>...</td>\n",
       "      <td>...</td>\n",
       "      <td>...</td>\n",
       "      <td>...</td>\n",
       "      <td>...</td>\n",
       "      <td>...</td>\n",
       "      <td>...</td>\n",
       "      <td>...</td>\n",
       "      <td>...</td>\n",
       "      <td>...</td>\n",
       "      <td>...</td>\n",
       "      <td>...</td>\n",
       "      <td>...</td>\n",
       "      <td>...</td>\n",
       "      <td>...</td>\n",
       "      <td>...</td>\n",
       "      <td>...</td>\n",
       "      <td>...</td>\n",
       "      <td>...</td>\n",
       "      <td>...</td>\n",
       "      <td>...</td>\n",
       "    </tr>\n",
       "    <tr>\n",
       "      <th>502470</th>\n",
       "      <td>NaN</td>\n",
       "      <td>NaN</td>\n",
       "      <td>2014-11-29</td>\n",
       "      <td>NaN</td>\n",
       "      <td>2014-11-29</td>\n",
       "      <td>NaN</td>\n",
       "      <td>2014-11-29</td>\n",
       "      <td>NaN</td>\n",
       "      <td>2016-05-10</td>\n",
       "      <td>NaN</td>\n",
       "      <td>...</td>\n",
       "      <td>NaN</td>\n",
       "      <td>NaN</td>\n",
       "      <td>NaN</td>\n",
       "      <td>NaN</td>\n",
       "      <td>NaN</td>\n",
       "      <td>NaN</td>\n",
       "      <td>NaN</td>\n",
       "      <td>NaN</td>\n",
       "      <td>NaN</td>\n",
       "      <td>NaN</td>\n",
       "    </tr>\n",
       "    <tr>\n",
       "      <th>502471</th>\n",
       "      <td>NaN</td>\n",
       "      <td>NaN</td>\n",
       "      <td>2015-02-07</td>\n",
       "      <td>NaN</td>\n",
       "      <td>2015-02-07</td>\n",
       "      <td>NaN</td>\n",
       "      <td>2015-02-07</td>\n",
       "      <td>NaN</td>\n",
       "      <td>2017-04-06</td>\n",
       "      <td>NaN</td>\n",
       "      <td>...</td>\n",
       "      <td>NaN</td>\n",
       "      <td>NaN</td>\n",
       "      <td>NaN</td>\n",
       "      <td>NaN</td>\n",
       "      <td>NaN</td>\n",
       "      <td>NaN</td>\n",
       "      <td>NaN</td>\n",
       "      <td>NaN</td>\n",
       "      <td>NaN</td>\n",
       "      <td>NaN</td>\n",
       "    </tr>\n",
       "    <tr>\n",
       "      <th>502472</th>\n",
       "      <td>NaN</td>\n",
       "      <td>NaN</td>\n",
       "      <td>2015-02-21</td>\n",
       "      <td>NaN</td>\n",
       "      <td>2015-02-21</td>\n",
       "      <td>NaN</td>\n",
       "      <td>2015-02-21</td>\n",
       "      <td>NaN</td>\n",
       "      <td>NaN</td>\n",
       "      <td>NaN</td>\n",
       "      <td>...</td>\n",
       "      <td>NaN</td>\n",
       "      <td>NaN</td>\n",
       "      <td>NaN</td>\n",
       "      <td>NaN</td>\n",
       "      <td>NaN</td>\n",
       "      <td>NaN</td>\n",
       "      <td>NaN</td>\n",
       "      <td>NaN</td>\n",
       "      <td>NaN</td>\n",
       "      <td>NaN</td>\n",
       "    </tr>\n",
       "    <tr>\n",
       "      <th>502473</th>\n",
       "      <td>NaN</td>\n",
       "      <td>NaN</td>\n",
       "      <td>2015-09-17</td>\n",
       "      <td>NaN</td>\n",
       "      <td>2015-09-17</td>\n",
       "      <td>NaN</td>\n",
       "      <td>2015-09-17</td>\n",
       "      <td>NaN</td>\n",
       "      <td>2016-12-20</td>\n",
       "      <td>NaN</td>\n",
       "      <td>...</td>\n",
       "      <td>NaN</td>\n",
       "      <td>NaN</td>\n",
       "      <td>NaN</td>\n",
       "      <td>NaN</td>\n",
       "      <td>NaN</td>\n",
       "      <td>NaN</td>\n",
       "      <td>NaN</td>\n",
       "      <td>NaN</td>\n",
       "      <td>NaN</td>\n",
       "      <td>NaN</td>\n",
       "    </tr>\n",
       "    <tr>\n",
       "      <th>502474</th>\n",
       "      <td>NaN</td>\n",
       "      <td>NaN</td>\n",
       "      <td>2014-11-26</td>\n",
       "      <td>NaN</td>\n",
       "      <td>2014-11-26</td>\n",
       "      <td>NaN</td>\n",
       "      <td>2014-11-26</td>\n",
       "      <td>NaN</td>\n",
       "      <td>2017-03-19</td>\n",
       "      <td>NaN</td>\n",
       "      <td>...</td>\n",
       "      <td>NaN</td>\n",
       "      <td>NaN</td>\n",
       "      <td>NaN</td>\n",
       "      <td>NaN</td>\n",
       "      <td>NaN</td>\n",
       "      <td>NaN</td>\n",
       "      <td>NaN</td>\n",
       "      <td>NaN</td>\n",
       "      <td>NaN</td>\n",
       "      <td>NaN</td>\n",
       "    </tr>\n",
       "  </tbody>\n",
       "</table>\n",
       "<p>502475 rows × 493 columns</p>\n",
       "</div>"
      ],
      "text/plain": [
       "       23048-0.0 23048-1.0   30502-0.0   30502-1.0   30512-0.0   30512-1.0  \\\n",
       "0            NaN       NaN  2014-11-08         NaN  2014-11-08         NaN   \n",
       "1            NaN       NaN  2014-12-04  2015-06-08  2014-12-04  2015-06-08   \n",
       "2            NaN       NaN  2014-12-01         NaN  2014-12-01         NaN   \n",
       "3            NaN       NaN  2015-07-12         NaN  2015-07-12         NaN   \n",
       "4            NaN       NaN  2015-01-31         NaN  2015-01-31         NaN   \n",
       "...          ...       ...         ...         ...         ...         ...   \n",
       "502470       NaN       NaN  2014-11-29         NaN  2014-11-29         NaN   \n",
       "502471       NaN       NaN  2015-02-07         NaN  2015-02-07         NaN   \n",
       "502472       NaN       NaN  2015-02-21         NaN  2015-02-21         NaN   \n",
       "502473       NaN       NaN  2015-09-17         NaN  2015-09-17         NaN   \n",
       "502474       NaN       NaN  2014-11-26         NaN  2014-11-26         NaN   \n",
       "\n",
       "         30522-0.0   30522-1.0   30601-0.0   30601-1.0  ... 41281-0.37  \\\n",
       "0       2014-11-08         NaN  2016-01-10         NaN  ...        NaN   \n",
       "1       2014-12-04  2015-06-08  2017-02-04  2016-10-20  ...        NaN   \n",
       "2       2014-12-01         NaN  2017-01-07         NaN  ...        NaN   \n",
       "3       2015-07-12         NaN  2017-03-07         NaN  ...        NaN   \n",
       "4       2015-01-31         NaN  2017-08-07         NaN  ...        NaN   \n",
       "...            ...         ...         ...         ...  ...        ...   \n",
       "502470  2014-11-29         NaN  2016-05-10         NaN  ...        NaN   \n",
       "502471  2015-02-07         NaN  2017-04-06         NaN  ...        NaN   \n",
       "502472  2015-02-21         NaN         NaN         NaN  ...        NaN   \n",
       "502473  2015-09-17         NaN  2016-12-20         NaN  ...        NaN   \n",
       "502474  2014-11-26         NaN  2017-03-19         NaN  ...        NaN   \n",
       "\n",
       "       41281-0.38 41281-0.39 41281-0.40 41281-0.41 41281-0.42 41281-0.43  \\\n",
       "0             NaN        NaN        NaN        NaN        NaN        NaN   \n",
       "1             NaN        NaN        NaN        NaN        NaN        NaN   \n",
       "2             NaN        NaN        NaN        NaN        NaN        NaN   \n",
       "3             NaN        NaN        NaN        NaN        NaN        NaN   \n",
       "4             NaN        NaN        NaN        NaN        NaN        NaN   \n",
       "...           ...        ...        ...        ...        ...        ...   \n",
       "502470        NaN        NaN        NaN        NaN        NaN        NaN   \n",
       "502471        NaN        NaN        NaN        NaN        NaN        NaN   \n",
       "502472        NaN        NaN        NaN        NaN        NaN        NaN   \n",
       "502473        NaN        NaN        NaN        NaN        NaN        NaN   \n",
       "502474        NaN        NaN        NaN        NaN        NaN        NaN   \n",
       "\n",
       "       41281-0.44 41281-0.45 41281-0.46  \n",
       "0             NaN        NaN        NaN  \n",
       "1             NaN        NaN        NaN  \n",
       "2             NaN        NaN        NaN  \n",
       "3             NaN        NaN        NaN  \n",
       "4             NaN        NaN        NaN  \n",
       "...           ...        ...        ...  \n",
       "502470        NaN        NaN        NaN  \n",
       "502471        NaN        NaN        NaN  \n",
       "502472        NaN        NaN        NaN  \n",
       "502473        NaN        NaN        NaN  \n",
       "502474        NaN        NaN        NaN  \n",
       "\n",
       "[502475 rows x 493 columns]"
      ]
     },
     "execution_count": 33,
     "metadata": {},
     "output_type": "execute_result"
    }
   ],
   "source": [
    "df.drop(['eid', 'eid_num', 'last_followup_date'], axis = 1, inplace = True)\n",
    "df"
   ]
  },
  {
   "cell_type": "code",
   "execution_count": null,
   "metadata": {},
   "outputs": [],
   "source": [
    "df['30502-0.0'][0]"
   ]
  },
  {
   "cell_type": "code",
   "execution_count": 34,
   "metadata": {},
   "outputs": [],
   "source": [
    "# Nan이 있으면 max value가 다 nan으로 잡힌다\n",
    "\n",
    "df.fillna('0', inplace = True)"
   ]
  },
  {
   "cell_type": "code",
   "execution_count": 38,
   "metadata": {},
   "outputs": [],
   "source": [
    "# datetime 형식으로 전부 바꾸기\n",
    "\n",
    "df.iloc[:, 0:493] = df.iloc[:, 0:493].apply(pd.to_datetime, errors='coerce')"
   ]
  },
  {
   "cell_type": "code",
   "execution_count": null,
   "metadata": {},
   "outputs": [],
   "source": [
    "# df.replace(0, '0', inplace = True)"
   ]
  },
  {
   "cell_type": "code",
   "execution_count": null,
   "metadata": {},
   "outputs": [],
   "source": [
    "df"
   ]
  },
  {
   "cell_type": "code",
   "execution_count": 35,
   "metadata": {},
   "outputs": [
    {
     "ename": "AttributeError",
     "evalue": "'DataFrame' object has no attribute 'strftime'",
     "output_type": "error",
     "traceback": [
      "\u001b[1;31m---------------------------------------------------------------------------\u001b[0m",
      "\u001b[1;31mAttributeError\u001b[0m                            Traceback (most recent call last)",
      "\u001b[1;32m<ipython-input-35-25fcf52234e2>\u001b[0m in \u001b[0;36m<module>\u001b[1;34m\u001b[0m\n\u001b[0;32m      1\u001b[0m \u001b[1;31m# datetime 형식인 열들 str로 바꾸기\u001b[0m\u001b[1;33m\u001b[0m\u001b[1;33m\u001b[0m\u001b[1;33m\u001b[0m\u001b[0m\n\u001b[0;32m      2\u001b[0m \u001b[1;33m\u001b[0m\u001b[0m\n\u001b[1;32m----> 3\u001b[1;33m \u001b[0mdf\u001b[0m\u001b[1;33m.\u001b[0m\u001b[0miloc\u001b[0m\u001b[1;33m[\u001b[0m\u001b[1;33m:\u001b[0m\u001b[1;33m,\u001b[0m \u001b[1;36m67\u001b[0m\u001b[1;33m:\u001b[0m\u001b[1;36m120\u001b[0m\u001b[1;33m]\u001b[0m \u001b[1;33m=\u001b[0m \u001b[0mdf\u001b[0m\u001b[1;33m.\u001b[0m\u001b[0miloc\u001b[0m\u001b[1;33m[\u001b[0m\u001b[1;33m:\u001b[0m\u001b[1;33m,\u001b[0m \u001b[1;36m67\u001b[0m\u001b[1;33m:\u001b[0m\u001b[1;36m120\u001b[0m\u001b[1;33m]\u001b[0m\u001b[1;33m.\u001b[0m\u001b[0mstrftime\u001b[0m\u001b[1;33m(\u001b[0m\u001b[1;34m\"%Y-%m-%d\"\u001b[0m\u001b[1;33m)\u001b[0m\u001b[1;33m\u001b[0m\u001b[1;33m\u001b[0m\u001b[0m\n\u001b[0m",
      "\u001b[1;32m~\\anaconda3\\lib\\site-packages\\pandas\\core\\generic.py\u001b[0m in \u001b[0;36m__getattr__\u001b[1;34m(self, name)\u001b[0m\n\u001b[0;32m   5463\u001b[0m             \u001b[1;32mif\u001b[0m \u001b[0mself\u001b[0m\u001b[1;33m.\u001b[0m\u001b[0m_info_axis\u001b[0m\u001b[1;33m.\u001b[0m\u001b[0m_can_hold_identifiers_and_holds_name\u001b[0m\u001b[1;33m(\u001b[0m\u001b[0mname\u001b[0m\u001b[1;33m)\u001b[0m\u001b[1;33m:\u001b[0m\u001b[1;33m\u001b[0m\u001b[1;33m\u001b[0m\u001b[0m\n\u001b[0;32m   5464\u001b[0m                 \u001b[1;32mreturn\u001b[0m \u001b[0mself\u001b[0m\u001b[1;33m[\u001b[0m\u001b[0mname\u001b[0m\u001b[1;33m]\u001b[0m\u001b[1;33m\u001b[0m\u001b[1;33m\u001b[0m\u001b[0m\n\u001b[1;32m-> 5465\u001b[1;33m             \u001b[1;32mreturn\u001b[0m \u001b[0mobject\u001b[0m\u001b[1;33m.\u001b[0m\u001b[0m__getattribute__\u001b[0m\u001b[1;33m(\u001b[0m\u001b[0mself\u001b[0m\u001b[1;33m,\u001b[0m \u001b[0mname\u001b[0m\u001b[1;33m)\u001b[0m\u001b[1;33m\u001b[0m\u001b[1;33m\u001b[0m\u001b[0m\n\u001b[0m\u001b[0;32m   5466\u001b[0m \u001b[1;33m\u001b[0m\u001b[0m\n\u001b[0;32m   5467\u001b[0m     \u001b[1;32mdef\u001b[0m \u001b[0m__setattr__\u001b[0m\u001b[1;33m(\u001b[0m\u001b[0mself\u001b[0m\u001b[1;33m,\u001b[0m \u001b[0mname\u001b[0m\u001b[1;33m:\u001b[0m \u001b[0mstr\u001b[0m\u001b[1;33m,\u001b[0m \u001b[0mvalue\u001b[0m\u001b[1;33m)\u001b[0m \u001b[1;33m->\u001b[0m \u001b[1;32mNone\u001b[0m\u001b[1;33m:\u001b[0m\u001b[1;33m\u001b[0m\u001b[1;33m\u001b[0m\u001b[0m\n",
      "\u001b[1;31mAttributeError\u001b[0m: 'DataFrame' object has no attribute 'strftime'"
     ]
    }
   ],
   "source": [
    "# # datetime 형식인 열들 str로 바꾸기 - 안됨\n",
    "\n",
    "# df.iloc[:, 67:120] = df.iloc[:, 67:120].strftime(\"%Y-%m-%d\")"
   ]
  },
  {
   "cell_type": "code",
   "execution_count": 36,
   "metadata": {},
   "outputs": [],
   "source": [
    "# # 왜 안바뀌지 ..? 전체 다 해보자  - DATETIME 형식을 astype로 str로 바꿀 순 없는 듯 하다\n",
    "\n",
    "# all_columns = df.columns.tolist()\n",
    "# df[all_columns] = df[all_columns].astype(str)"
   ]
  },
  {
   "cell_type": "code",
   "execution_count": 40,
   "metadata": {},
   "outputs": [],
   "source": [
    "df.replace({pd.NaT: np.NaN}, inplace = True)"
   ]
  },
  {
   "cell_type": "code",
   "execution_count": 41,
   "metadata": {},
   "outputs": [
    {
     "data": {
      "text/html": [
       "<div>\n",
       "<style scoped>\n",
       "    .dataframe tbody tr th:only-of-type {\n",
       "        vertical-align: middle;\n",
       "    }\n",
       "\n",
       "    .dataframe tbody tr th {\n",
       "        vertical-align: top;\n",
       "    }\n",
       "\n",
       "    .dataframe thead th {\n",
       "        text-align: right;\n",
       "    }\n",
       "</style>\n",
       "<table border=\"1\" class=\"dataframe\">\n",
       "  <thead>\n",
       "    <tr style=\"text-align: right;\">\n",
       "      <th></th>\n",
       "      <th>53-1.0</th>\n",
       "      <th>53-2.0</th>\n",
       "      <th>53-3.0</th>\n",
       "      <th>20078-0.0</th>\n",
       "      <th>20078-1.0</th>\n",
       "      <th>20078-2.0</th>\n",
       "      <th>20078-3.0</th>\n",
       "      <th>20078-4.0</th>\n",
       "      <th>20400-0.0</th>\n",
       "      <th>22500-0.0</th>\n",
       "      <th>...</th>\n",
       "      <th>40005-14.0</th>\n",
       "      <th>40005-15.0</th>\n",
       "      <th>40005-16.0</th>\n",
       "      <th>42000-0.0</th>\n",
       "      <th>42002-0.0</th>\n",
       "      <th>42004-0.0</th>\n",
       "      <th>42006-0.0</th>\n",
       "      <th>42008-0.0</th>\n",
       "      <th>42010-0.0</th>\n",
       "      <th>42012-0.0</th>\n",
       "    </tr>\n",
       "  </thead>\n",
       "  <tbody>\n",
       "    <tr>\n",
       "      <th>0</th>\n",
       "      <td>NaN</td>\n",
       "      <td>NaN</td>\n",
       "      <td>NaN</td>\n",
       "      <td>NaN</td>\n",
       "      <td>NaN</td>\n",
       "      <td>NaN</td>\n",
       "      <td>NaN</td>\n",
       "      <td>2012-05-20 00:00:00</td>\n",
       "      <td>NaN</td>\n",
       "      <td>2015-08-01 00:00:00</td>\n",
       "      <td>...</td>\n",
       "      <td>NaN</td>\n",
       "      <td>NaN</td>\n",
       "      <td>NaN</td>\n",
       "      <td>NaN</td>\n",
       "      <td>NaN</td>\n",
       "      <td>NaN</td>\n",
       "      <td>NaN</td>\n",
       "      <td>NaN</td>\n",
       "      <td>NaN</td>\n",
       "      <td>NaN</td>\n",
       "    </tr>\n",
       "    <tr>\n",
       "      <th>1</th>\n",
       "      <td>2013-01-14 00:00:00</td>\n",
       "      <td>NaN</td>\n",
       "      <td>NaN</td>\n",
       "      <td>NaN</td>\n",
       "      <td>NaN</td>\n",
       "      <td>NaN</td>\n",
       "      <td>NaN</td>\n",
       "      <td>NaN</td>\n",
       "      <td>2016-09-20 00:00:00</td>\n",
       "      <td>NaN</td>\n",
       "      <td>...</td>\n",
       "      <td>NaN</td>\n",
       "      <td>NaN</td>\n",
       "      <td>NaN</td>\n",
       "      <td>NaN</td>\n",
       "      <td>NaN</td>\n",
       "      <td>NaN</td>\n",
       "      <td>NaN</td>\n",
       "      <td>NaN</td>\n",
       "      <td>NaN</td>\n",
       "      <td>NaN</td>\n",
       "    </tr>\n",
       "    <tr>\n",
       "      <th>2</th>\n",
       "      <td>NaN</td>\n",
       "      <td>NaN</td>\n",
       "      <td>NaN</td>\n",
       "      <td>NaN</td>\n",
       "      <td>NaN</td>\n",
       "      <td>NaN</td>\n",
       "      <td>NaN</td>\n",
       "      <td>NaN</td>\n",
       "      <td>NaN</td>\n",
       "      <td>NaN</td>\n",
       "      <td>...</td>\n",
       "      <td>NaN</td>\n",
       "      <td>NaN</td>\n",
       "      <td>NaN</td>\n",
       "      <td>NaN</td>\n",
       "      <td>NaN</td>\n",
       "      <td>NaN</td>\n",
       "      <td>NaN</td>\n",
       "      <td>NaN</td>\n",
       "      <td>NaN</td>\n",
       "      <td>NaN</td>\n",
       "    </tr>\n",
       "    <tr>\n",
       "      <th>3</th>\n",
       "      <td>NaN</td>\n",
       "      <td>NaN</td>\n",
       "      <td>NaN</td>\n",
       "      <td>NaN</td>\n",
       "      <td>NaN</td>\n",
       "      <td>NaN</td>\n",
       "      <td>NaN</td>\n",
       "      <td>NaN</td>\n",
       "      <td>NaN</td>\n",
       "      <td>NaN</td>\n",
       "      <td>...</td>\n",
       "      <td>NaN</td>\n",
       "      <td>NaN</td>\n",
       "      <td>NaN</td>\n",
       "      <td>NaN</td>\n",
       "      <td>NaN</td>\n",
       "      <td>NaN</td>\n",
       "      <td>NaN</td>\n",
       "      <td>NaN</td>\n",
       "      <td>NaN</td>\n",
       "      <td>NaN</td>\n",
       "    </tr>\n",
       "    <tr>\n",
       "      <th>4</th>\n",
       "      <td>NaN</td>\n",
       "      <td>NaN</td>\n",
       "      <td>NaN</td>\n",
       "      <td>NaN</td>\n",
       "      <td>2011-03-10 00:00:00</td>\n",
       "      <td>NaN</td>\n",
       "      <td>NaN</td>\n",
       "      <td>NaN</td>\n",
       "      <td>NaN</td>\n",
       "      <td>NaN</td>\n",
       "      <td>...</td>\n",
       "      <td>NaN</td>\n",
       "      <td>NaN</td>\n",
       "      <td>NaN</td>\n",
       "      <td>NaN</td>\n",
       "      <td>NaN</td>\n",
       "      <td>NaN</td>\n",
       "      <td>NaN</td>\n",
       "      <td>NaN</td>\n",
       "      <td>NaN</td>\n",
       "      <td>NaN</td>\n",
       "    </tr>\n",
       "    <tr>\n",
       "      <th>...</th>\n",
       "      <td>...</td>\n",
       "      <td>...</td>\n",
       "      <td>...</td>\n",
       "      <td>...</td>\n",
       "      <td>...</td>\n",
       "      <td>...</td>\n",
       "      <td>...</td>\n",
       "      <td>...</td>\n",
       "      <td>...</td>\n",
       "      <td>...</td>\n",
       "      <td>...</td>\n",
       "      <td>...</td>\n",
       "      <td>...</td>\n",
       "      <td>...</td>\n",
       "      <td>...</td>\n",
       "      <td>...</td>\n",
       "      <td>...</td>\n",
       "      <td>...</td>\n",
       "      <td>...</td>\n",
       "      <td>...</td>\n",
       "      <td>...</td>\n",
       "    </tr>\n",
       "    <tr>\n",
       "      <th>502470</th>\n",
       "      <td>NaN</td>\n",
       "      <td>NaN</td>\n",
       "      <td>NaN</td>\n",
       "      <td>NaN</td>\n",
       "      <td>NaN</td>\n",
       "      <td>NaN</td>\n",
       "      <td>NaN</td>\n",
       "      <td>NaN</td>\n",
       "      <td>NaN</td>\n",
       "      <td>NaN</td>\n",
       "      <td>...</td>\n",
       "      <td>NaN</td>\n",
       "      <td>NaN</td>\n",
       "      <td>NaN</td>\n",
       "      <td>NaN</td>\n",
       "      <td>NaN</td>\n",
       "      <td>NaN</td>\n",
       "      <td>NaN</td>\n",
       "      <td>NaN</td>\n",
       "      <td>NaN</td>\n",
       "      <td>NaN</td>\n",
       "    </tr>\n",
       "    <tr>\n",
       "      <th>502471</th>\n",
       "      <td>NaN</td>\n",
       "      <td>NaN</td>\n",
       "      <td>NaN</td>\n",
       "      <td>2009-09-05 00:00:00</td>\n",
       "      <td>NaN</td>\n",
       "      <td>NaN</td>\n",
       "      <td>NaN</td>\n",
       "      <td>NaN</td>\n",
       "      <td>NaN</td>\n",
       "      <td>NaN</td>\n",
       "      <td>...</td>\n",
       "      <td>NaN</td>\n",
       "      <td>NaN</td>\n",
       "      <td>NaN</td>\n",
       "      <td>NaN</td>\n",
       "      <td>NaN</td>\n",
       "      <td>NaN</td>\n",
       "      <td>NaN</td>\n",
       "      <td>NaN</td>\n",
       "      <td>NaN</td>\n",
       "      <td>NaN</td>\n",
       "    </tr>\n",
       "    <tr>\n",
       "      <th>502472</th>\n",
       "      <td>NaN</td>\n",
       "      <td>NaN</td>\n",
       "      <td>NaN</td>\n",
       "      <td>NaN</td>\n",
       "      <td>NaN</td>\n",
       "      <td>NaN</td>\n",
       "      <td>NaN</td>\n",
       "      <td>NaN</td>\n",
       "      <td>NaN</td>\n",
       "      <td>NaN</td>\n",
       "      <td>...</td>\n",
       "      <td>NaN</td>\n",
       "      <td>NaN</td>\n",
       "      <td>NaN</td>\n",
       "      <td>NaN</td>\n",
       "      <td>NaN</td>\n",
       "      <td>NaN</td>\n",
       "      <td>NaN</td>\n",
       "      <td>NaN</td>\n",
       "      <td>NaN</td>\n",
       "      <td>NaN</td>\n",
       "    </tr>\n",
       "    <tr>\n",
       "      <th>502473</th>\n",
       "      <td>NaN</td>\n",
       "      <td>NaN</td>\n",
       "      <td>NaN</td>\n",
       "      <td>NaN</td>\n",
       "      <td>NaN</td>\n",
       "      <td>NaN</td>\n",
       "      <td>NaN</td>\n",
       "      <td>NaN</td>\n",
       "      <td>NaN</td>\n",
       "      <td>2015-07-09 00:00:00</td>\n",
       "      <td>...</td>\n",
       "      <td>NaN</td>\n",
       "      <td>NaN</td>\n",
       "      <td>NaN</td>\n",
       "      <td>NaN</td>\n",
       "      <td>NaN</td>\n",
       "      <td>NaN</td>\n",
       "      <td>NaN</td>\n",
       "      <td>NaN</td>\n",
       "      <td>NaN</td>\n",
       "      <td>NaN</td>\n",
       "    </tr>\n",
       "    <tr>\n",
       "      <th>502474</th>\n",
       "      <td>NaN</td>\n",
       "      <td>NaN</td>\n",
       "      <td>NaN</td>\n",
       "      <td>NaN</td>\n",
       "      <td>2011-03-01 00:00:00</td>\n",
       "      <td>2011-07-16 00:00:00</td>\n",
       "      <td>2011-11-02 00:00:00</td>\n",
       "      <td>2012-05-06 00:00:00</td>\n",
       "      <td>2016-10-14 00:00:00</td>\n",
       "      <td>2015-07-10 00:00:00</td>\n",
       "      <td>...</td>\n",
       "      <td>NaN</td>\n",
       "      <td>NaN</td>\n",
       "      <td>NaN</td>\n",
       "      <td>NaN</td>\n",
       "      <td>NaN</td>\n",
       "      <td>NaN</td>\n",
       "      <td>NaN</td>\n",
       "      <td>NaN</td>\n",
       "      <td>NaN</td>\n",
       "      <td>NaN</td>\n",
       "    </tr>\n",
       "  </tbody>\n",
       "</table>\n",
       "<p>502475 rows × 53 columns</p>\n",
       "</div>"
      ],
      "text/plain": [
       "                     53-1.0 53-2.0 53-3.0            20078-0.0  \\\n",
       "0                       NaN    NaN    NaN                  NaN   \n",
       "1       2013-01-14 00:00:00    NaN    NaN                  NaN   \n",
       "2                       NaN    NaN    NaN                  NaN   \n",
       "3                       NaN    NaN    NaN                  NaN   \n",
       "4                       NaN    NaN    NaN                  NaN   \n",
       "...                     ...    ...    ...                  ...   \n",
       "502470                  NaN    NaN    NaN                  NaN   \n",
       "502471                  NaN    NaN    NaN  2009-09-05 00:00:00   \n",
       "502472                  NaN    NaN    NaN                  NaN   \n",
       "502473                  NaN    NaN    NaN                  NaN   \n",
       "502474                  NaN    NaN    NaN                  NaN   \n",
       "\n",
       "                  20078-1.0            20078-2.0            20078-3.0  \\\n",
       "0                       NaN                  NaN                  NaN   \n",
       "1                       NaN                  NaN                  NaN   \n",
       "2                       NaN                  NaN                  NaN   \n",
       "3                       NaN                  NaN                  NaN   \n",
       "4       2011-03-10 00:00:00                  NaN                  NaN   \n",
       "...                     ...                  ...                  ...   \n",
       "502470                  NaN                  NaN                  NaN   \n",
       "502471                  NaN                  NaN                  NaN   \n",
       "502472                  NaN                  NaN                  NaN   \n",
       "502473                  NaN                  NaN                  NaN   \n",
       "502474  2011-03-01 00:00:00  2011-07-16 00:00:00  2011-11-02 00:00:00   \n",
       "\n",
       "                  20078-4.0            20400-0.0            22500-0.0  ...  \\\n",
       "0       2012-05-20 00:00:00                  NaN  2015-08-01 00:00:00  ...   \n",
       "1                       NaN  2016-09-20 00:00:00                  NaN  ...   \n",
       "2                       NaN                  NaN                  NaN  ...   \n",
       "3                       NaN                  NaN                  NaN  ...   \n",
       "4                       NaN                  NaN                  NaN  ...   \n",
       "...                     ...                  ...                  ...  ...   \n",
       "502470                  NaN                  NaN                  NaN  ...   \n",
       "502471                  NaN                  NaN                  NaN  ...   \n",
       "502472                  NaN                  NaN                  NaN  ...   \n",
       "502473                  NaN                  NaN  2015-07-09 00:00:00  ...   \n",
       "502474  2012-05-06 00:00:00  2016-10-14 00:00:00  2015-07-10 00:00:00  ...   \n",
       "\n",
       "       40005-14.0 40005-15.0 40005-16.0 42000-0.0 42002-0.0 42004-0.0  \\\n",
       "0             NaN        NaN        NaN       NaN       NaN       NaN   \n",
       "1             NaN        NaN        NaN       NaN       NaN       NaN   \n",
       "2             NaN        NaN        NaN       NaN       NaN       NaN   \n",
       "3             NaN        NaN        NaN       NaN       NaN       NaN   \n",
       "4             NaN        NaN        NaN       NaN       NaN       NaN   \n",
       "...           ...        ...        ...       ...       ...       ...   \n",
       "502470        NaN        NaN        NaN       NaN       NaN       NaN   \n",
       "502471        NaN        NaN        NaN       NaN       NaN       NaN   \n",
       "502472        NaN        NaN        NaN       NaN       NaN       NaN   \n",
       "502473        NaN        NaN        NaN       NaN       NaN       NaN   \n",
       "502474        NaN        NaN        NaN       NaN       NaN       NaN   \n",
       "\n",
       "       42006-0.0 42008-0.0 42010-0.0 42012-0.0  \n",
       "0            NaN       NaN       NaN       NaN  \n",
       "1            NaN       NaN       NaN       NaN  \n",
       "2            NaN       NaN       NaN       NaN  \n",
       "3            NaN       NaN       NaN       NaN  \n",
       "4            NaN       NaN       NaN       NaN  \n",
       "...          ...       ...       ...       ...  \n",
       "502470       NaN       NaN       NaN       NaN  \n",
       "502471       NaN       NaN       NaN       NaN  \n",
       "502472       NaN       NaN       NaN       NaN  \n",
       "502473       NaN       NaN       NaN       NaN  \n",
       "502474       NaN       NaN       NaN       NaN  \n",
       "\n",
       "[502475 rows x 53 columns]"
      ]
     },
     "execution_count": 41,
     "metadata": {},
     "output_type": "execute_result"
    }
   ],
   "source": [
    "df.iloc[:, 67:120]"
   ]
  },
  {
   "cell_type": "code",
   "execution_count": 42,
   "metadata": {},
   "outputs": [
    {
     "ename": "TypeError",
     "evalue": "'>=' not supported between instances of 'Timestamp' and 'float'",
     "output_type": "error",
     "traceback": [
      "\u001b[1;31m---------------------------------------------------------------------------\u001b[0m",
      "\u001b[1;31mTypeError\u001b[0m                                 Traceback (most recent call last)",
      "\u001b[1;32m<ipython-input-42-693965e7d760>\u001b[0m in \u001b[0;36m<module>\u001b[1;34m\u001b[0m\n\u001b[1;32m----> 1\u001b[1;33m \u001b[0mlast_followup_date\u001b[0m \u001b[1;33m=\u001b[0m \u001b[0mnp\u001b[0m\u001b[1;33m.\u001b[0m\u001b[0mnanmax\u001b[0m\u001b[1;33m(\u001b[0m\u001b[0mdf\u001b[0m\u001b[1;33m,\u001b[0m \u001b[0maxis\u001b[0m \u001b[1;33m=\u001b[0m \u001b[1;36m1\u001b[0m\u001b[1;33m)\u001b[0m\u001b[1;33m\u001b[0m\u001b[1;33m\u001b[0m\u001b[0m\n\u001b[0m",
      "\u001b[1;32m<__array_function__ internals>\u001b[0m in \u001b[0;36mnanmax\u001b[1;34m(*args, **kwargs)\u001b[0m\n",
      "\u001b[1;32m~\\anaconda3\\lib\\site-packages\\numpy\\lib\\nanfunctions.py\u001b[0m in \u001b[0;36mnanmax\u001b[1;34m(a, axis, out, keepdims)\u001b[0m\n\u001b[0;32m    439\u001b[0m         \u001b[1;31m# Slow, but safe for subclasses of ndarray\u001b[0m\u001b[1;33m\u001b[0m\u001b[1;33m\u001b[0m\u001b[1;33m\u001b[0m\u001b[0m\n\u001b[0;32m    440\u001b[0m         \u001b[0ma\u001b[0m\u001b[1;33m,\u001b[0m \u001b[0mmask\u001b[0m \u001b[1;33m=\u001b[0m \u001b[0m_replace_nan\u001b[0m\u001b[1;33m(\u001b[0m\u001b[0ma\u001b[0m\u001b[1;33m,\u001b[0m \u001b[1;33m-\u001b[0m\u001b[0mnp\u001b[0m\u001b[1;33m.\u001b[0m\u001b[0minf\u001b[0m\u001b[1;33m)\u001b[0m\u001b[1;33m\u001b[0m\u001b[1;33m\u001b[0m\u001b[0m\n\u001b[1;32m--> 441\u001b[1;33m         \u001b[0mres\u001b[0m \u001b[1;33m=\u001b[0m \u001b[0mnp\u001b[0m\u001b[1;33m.\u001b[0m\u001b[0mamax\u001b[0m\u001b[1;33m(\u001b[0m\u001b[0ma\u001b[0m\u001b[1;33m,\u001b[0m \u001b[0maxis\u001b[0m\u001b[1;33m=\u001b[0m\u001b[0maxis\u001b[0m\u001b[1;33m,\u001b[0m \u001b[0mout\u001b[0m\u001b[1;33m=\u001b[0m\u001b[0mout\u001b[0m\u001b[1;33m,\u001b[0m \u001b[1;33m**\u001b[0m\u001b[0mkwargs\u001b[0m\u001b[1;33m)\u001b[0m\u001b[1;33m\u001b[0m\u001b[1;33m\u001b[0m\u001b[0m\n\u001b[0m\u001b[0;32m    442\u001b[0m         \u001b[1;32mif\u001b[0m \u001b[0mmask\u001b[0m \u001b[1;32mis\u001b[0m \u001b[1;32mNone\u001b[0m\u001b[1;33m:\u001b[0m\u001b[1;33m\u001b[0m\u001b[1;33m\u001b[0m\u001b[0m\n\u001b[0;32m    443\u001b[0m             \u001b[1;32mreturn\u001b[0m \u001b[0mres\u001b[0m\u001b[1;33m\u001b[0m\u001b[1;33m\u001b[0m\u001b[0m\n",
      "\u001b[1;32m<__array_function__ internals>\u001b[0m in \u001b[0;36mamax\u001b[1;34m(*args, **kwargs)\u001b[0m\n",
      "\u001b[1;32m~\\anaconda3\\lib\\site-packages\\numpy\\core\\fromnumeric.py\u001b[0m in \u001b[0;36mamax\u001b[1;34m(a, axis, out, keepdims, initial, where)\u001b[0m\n\u001b[0;32m   2731\u001b[0m     \u001b[1;36m5\u001b[0m\u001b[1;33m\u001b[0m\u001b[1;33m\u001b[0m\u001b[0m\n\u001b[0;32m   2732\u001b[0m     \"\"\"\n\u001b[1;32m-> 2733\u001b[1;33m     return _wrapreduction(a, np.maximum, 'max', axis, None, out,\n\u001b[0m\u001b[0;32m   2734\u001b[0m                           keepdims=keepdims, initial=initial, where=where)\n\u001b[0;32m   2735\u001b[0m \u001b[1;33m\u001b[0m\u001b[0m\n",
      "\u001b[1;32m~\\anaconda3\\lib\\site-packages\\numpy\\core\\fromnumeric.py\u001b[0m in \u001b[0;36m_wrapreduction\u001b[1;34m(obj, ufunc, method, axis, dtype, out, **kwargs)\u001b[0m\n\u001b[0;32m     85\u001b[0m                 \u001b[1;32mreturn\u001b[0m \u001b[0mreduction\u001b[0m\u001b[1;33m(\u001b[0m\u001b[0maxis\u001b[0m\u001b[1;33m=\u001b[0m\u001b[0maxis\u001b[0m\u001b[1;33m,\u001b[0m \u001b[0mout\u001b[0m\u001b[1;33m=\u001b[0m\u001b[0mout\u001b[0m\u001b[1;33m,\u001b[0m \u001b[1;33m**\u001b[0m\u001b[0mpasskwargs\u001b[0m\u001b[1;33m)\u001b[0m\u001b[1;33m\u001b[0m\u001b[1;33m\u001b[0m\u001b[0m\n\u001b[0;32m     86\u001b[0m \u001b[1;33m\u001b[0m\u001b[0m\n\u001b[1;32m---> 87\u001b[1;33m     \u001b[1;32mreturn\u001b[0m \u001b[0mufunc\u001b[0m\u001b[1;33m.\u001b[0m\u001b[0mreduce\u001b[0m\u001b[1;33m(\u001b[0m\u001b[0mobj\u001b[0m\u001b[1;33m,\u001b[0m \u001b[0maxis\u001b[0m\u001b[1;33m,\u001b[0m \u001b[0mdtype\u001b[0m\u001b[1;33m,\u001b[0m \u001b[0mout\u001b[0m\u001b[1;33m,\u001b[0m \u001b[1;33m**\u001b[0m\u001b[0mpasskwargs\u001b[0m\u001b[1;33m)\u001b[0m\u001b[1;33m\u001b[0m\u001b[1;33m\u001b[0m\u001b[0m\n\u001b[0m\u001b[0;32m     88\u001b[0m \u001b[1;33m\u001b[0m\u001b[0m\n\u001b[0;32m     89\u001b[0m \u001b[1;33m\u001b[0m\u001b[0m\n",
      "\u001b[1;31mTypeError\u001b[0m: '>=' not supported between instances of 'Timestamp' and 'float'"
     ]
    }
   ],
   "source": [
    "# 왜 안돼 ....\n",
    "\n",
    "last_followup_date = np.nanmax(df, axis = 1)"
   ]
  },
  {
   "cell_type": "code",
   "execution_count": null,
   "metadata": {},
   "outputs": [],
   "source": [
    "last_followup_date"
   ]
  },
  {
   "cell_type": "code",
   "execution_count": null,
   "metadata": {},
   "outputs": [],
   "source": [
    "df.info()"
   ]
  },
  {
   "cell_type": "code",
   "execution_count": null,
   "metadata": {},
   "outputs": [],
   "source": [
    "pd.set_option('display.max_column', None)\n",
    "k = df.iloc[[0]]\n",
    "k"
   ]
  },
  {
   "cell_type": "code",
   "execution_count": null,
   "metadata": {},
   "outputs": [],
   "source": [
    "np.nanmax(k, axis = 1)"
   ]
  },
  {
   "cell_type": "code",
   "execution_count": null,
   "metadata": {},
   "outputs": [],
   "source": [
    "ary = ['2012-05-31', '2013-03-03', '2016-05-05', np.nan]\n",
    "ary"
   ]
  },
  {
   "cell_type": "code",
   "execution_count": null,
   "metadata": {},
   "outputs": [],
   "source": [
    "ary"
   ]
  },
  {
   "cell_type": "code",
   "execution_count": null,
   "metadata": {},
   "outputs": [],
   "source": [
    "df['30502-0.0']"
   ]
  },
  {
   "cell_type": "markdown",
   "metadata": {},
   "source": []
  }
 ],
 "metadata": {
  "interpreter": {
   "hash": "6d46af94c2bbce495f1e668725902fa517c90b1782bcfe2fce0dd9868df553d3"
  },
  "kernelspec": {
   "display_name": "Python 3.8.8 64-bit ('base': conda)",
   "language": "python",
   "name": "python3"
  },
  "language_info": {
   "codemirror_mode": {
    "name": "ipython",
    "version": 3
   },
   "file_extension": ".py",
   "mimetype": "text/x-python",
   "name": "python",
   "nbconvert_exporter": "python",
   "pygments_lexer": "ipython3",
   "version": "3.8.8"
  },
  "orig_nbformat": 4
 },
 "nbformat": 4,
 "nbformat_minor": 2
}

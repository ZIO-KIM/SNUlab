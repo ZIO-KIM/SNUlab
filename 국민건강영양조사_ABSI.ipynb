{
 "cells": [
  {
   "cell_type": "markdown",
   "metadata": {},
   "source": [
    "#### Note"
   ]
  },
  {
   "cell_type": "code",
   "execution_count": null,
   "metadata": {},
   "outputs": [],
   "source": [
    "# pd.set_option('display.max_rows', 100) # 최대 display option set\n",
    "# pd.reset_option('display.max_rows') # 최대 display option reset\n",
    "\n",
    "# from datetime import timedelta\n",
    "# datetime.datetime(2019,12,31) - datetime.datetime(2008,1,1)"
   ]
  },
  {
   "cell_type": "markdown",
   "metadata": {},
   "source": [
    "#### Import"
   ]
  },
  {
   "cell_type": "code",
   "execution_count": 9,
   "metadata": {},
   "outputs": [],
   "source": [
    "# 기본\n",
    "import os\n",
    "import pandas as pd\n",
    "import seaborn as sns\n",
    "import matplotlib.pyplot as plt\n",
    "import numpy as np\n",
    "import matplotlib\n",
    "from matplotlib import font_manager, rc\n",
    "import platform\n",
    "from tqdm import tqdm\n",
    "import sklearn\n",
    "from sklearn import linear_model\n",
    "import scipy.stats as stats\n",
    "from sklearn.preprocessing import StandardScaler\n",
    "import statsmodels.api as sm\n",
    "import statsmodels.formula.api as smf\n",
    "from statsmodels.stats.outliers_influence import variance_inflation_factor\n",
    "from patsy import dmatrices\n",
    "from sklearn.model_selection import train_test_split\n",
    "\n",
    "# time\n",
    "import datetime\n",
    "\n",
    "# crawling\n",
    "import requests\n",
    "import lxml.html\n",
    "import sqlite3\n",
    "from pandas.io import sql\n",
    "from bs4 import BeautifulSoup\n",
    "\n",
    "# 한글 폰트 설정\n",
    "if platform.system() == 'Windows':\n",
    "# 윈도우인 경우\n",
    "    font_name = font_manager.FontProperties(fname=\"c:/Windows/Fonts/malgun.ttf\").get_name()\n",
    "    rc('font', family=font_name)"
   ]
  },
  {
   "cell_type": "markdown",
   "metadata": {},
   "source": [
    "#### ABSI 정의\n",
    "체형지수(ABSI) = 허리둘레 / (BMI × 2/3) × (신장×1/2)"
   ]
  },
  {
   "cell_type": "markdown",
   "metadata": {},
   "source": [
    "#### 07 - 20 기본 DB concat              \n",
    "기타 검진변수들 일치하는 시점부터 적당히 잘라서 합치자        \n",
    "- 07 이전에는 wc가 없음"
   ]
  },
  {
   "cell_type": "markdown",
   "metadata": {},
   "source": [
    "필수변수   \n",
    "- HE_ht         \n",
    "- HE_wt        \n",
    "- HE_BMI         \n",
    "- HE_wc\n",
    "\n",
    "건보공단이랑 일치하는 변수 list\n",
    "\n",
    "- year : 조사연도\n",
    "- ID : 개인 아이디\n",
    "- psu : 조사구번호\n",
    "- HE_ht : 신장\n",
    "- HE_wt : 체중        \n",
    "\n",
    "\n",
    "- HE_BMI : 체질량지수\n",
    "- HE_sbp_tr : 최종 수축기 혈압(보정값)\n",
    "- HE_dbp_tr : 최종 이완기 혈압(보정값)\n",
    "- HE_obe : 비만유병여부(19세이상) - categorical\n",
    "- HE_Upro : 요단백  - categorical\n",
    "- HE_HbA1c : 당화혈색소\n",
    "- HE_glu : 공복혈당\n",
    "- HE_chol : 총콜레스테롤\n",
    "- HE_ast : GOT\n",
    "- HE_alt : GPT\n",
    "- HE_tb : 흉부영상 판독결과  - categorical\n",
    "- HE_HP_tr : 고혈압 유병여부(30세이상, 보정값) - categorical\n",
    "- DI3_lt : 뇌졸중 평생유병여부 - categorical\n",
    "- DI4_lt : 심근경색증 또는 협심증 평생유병여부 - categorical\n",
    "- HE_DM : 당뇨병유병여부(19세이상) - categorical\n",
    "- HE_wc : 허리둘레\n",
    "- HE_HDL_st2 : 전환식 HDL-콜레스테롤\n",
    "- HE_LDL_drct : LDL콜레스테롤_직접검사\n",
    "- HE_crea : 혈중크레아티닌\n",
    "- D_1_1 : 주관적 건강상태 - categorical       \n",
    "\n",
    "\n",
    "- L_BR1 : 조사 1일전 아침식사 섭취여부 - categorical\n",
    "- L_LN1 : 조사 1일전 점심식사 섭취여부 - categorical\n",
    "- L_DN1 : 조사 1일전 저녁식사 섭취여부 - categorical\n",
    "--> 이거 세개를 하나로 축소해야 함 (건보공단 변수는 하나임)\n",
    "\n",
    "\n",
    "- N_NA : 1일 나트륨 섭취량(mg)     \n",
    "\n",
    "\n",
    "- F_BEEF : 쇠고기 (국, 탕, 찌개, 편육, 장조림, 구이,볶음, 비프까스, 튀김, 찜 포함) - categorical\n",
    "- F_CHICK : 닭고기 (삼계탕, 백숙, 찜, 튀김, 조림, 볶음 포함) - categorical\n",
    "- F_PORK : 돼지고기 (찌개, 구이, 볶음, 돈까스, 튀김 포함) - categorical\n",
    "- --> 이거 세개를 하나로 축소해야 함 (건보공단 변수는 하나임)     \n",
    "\n",
    "\n",
    "- BS3_1 : (성인) 현재흡연 여부 - categorical\n",
    "- BS3_2 : (성인) 현재흡연자 하루 평균 흡연량 - numerical 이나, 888 / 999 로 처리된 거 0으로 전처리 해줘야 함    \n",
    "\n",
    "\n",
    "- BD1_11 : (만12세이상) 1년간 음주빈도 - categorical\n",
    "- BD2_1 : (만12세이상) 한번에 마시는 음주량 - categorical     \n",
    "\n",
    "\n",
    "- BE3_21 : 1주일간 중등도 신체활동 일수 - categorical\n",
    "- BE3_22 : 중등도 신체활동 지속시간(시간) - numerical 이나, 88 / 99 로 처리된 거 0으로 전처리 해줘야 함     \n",
    "\n",
    "\n",
    "- BP1 : 평소 스트레스 인지 정도 - categorical    \n",
    "\n",
    "\n",
    "- DI3_dg : 뇌졸중 의사진단여부 - categorical\n",
    "- DI4_dg : 심근경색증 또는 협심증 의사진단여부 - categorical\n",
    "- DI1_dg : 고혈압 의사진단여부 - categorical\n",
    "- DE1_dg : 당뇨병 의사진단여부 (소아청소년 포함) - categorical\n",
    "- DI2_dg : 고지혈증 의사진단여부 - categorical   \n",
    "\n",
    "\n",
    "- DI3_pt : 뇌졸중 치료 - categorical\n",
    "- DI4_pt : 심근경색증 또는 협심증 치료 - categorical\n",
    "- DI1_pt : 고혈압 치료 - categorical\n",
    "- DE1_pt : 당뇨병 치료 - categorical  \n",
    "- DI2_pt : 고지혈증  치료 - categorical      \n",
    "\n",
    "\n",
    "- HE_hepaB : B형간염표면항원 양성여부(10세이상) - categorical\n",
    "- BS6_2_2 : (성인) 과거흡연자 흡연 기간(월) - numerical 이나, 88 / 99 로 처리된 거 0으로 전처리 해줘야 함\n",
    "- BS6_3 : (성인) 과거흡연자 하루 평균 흡연량 - numerical 이나, 88 / 99 로 처리된 거 0으로 전처리 해줘야 함\n",
    "- BS2_1 : (성인) 흡연 시작연령 - numerical 이나, 88 / 99 로 처리된 거 0으로 전처리 해줘야 함     \n",
    "\n",
    "\n",
    "- pa_high : 격렬한 신체활동 실천율 - categorical\n",
    "- pa_mid : 중등도 신체활동 실천율 - categorical  \n",
    "- pa_walk : 걷기 실천율 - categorical    \n",
    "\n",
    "\n",
    "- DJ1_dg : 폐결핵 또는 폐외결핵 의사진단여부 (소아, 청소년 포함) - categorical\n",
    "- DJ1_pt : 폐결핵 또는 폐외결핵 치료 - categorical"
   ]
  },
  {
   "cell_type": "code",
   "execution_count": 14,
   "metadata": {},
   "outputs": [],
   "source": [
    "basic1 = pd.read_csv('D:\\\\국민건강영양조사\\\\국민건강영양조사_기수별통합\\\\1998-2019 기본DB\\\\기본DB_1기 (1998).csv', encoding = 'euc-kr', low_memory = False)\n",
    "basic2 = pd.read_csv('D:\\\\국민건강영양조사\\\\국민건강영양조사_기수별통합\\\\1998-2019 기본DB\\\\기본DB_2기 (2001).csv', encoding = 'euc-kr', low_memory = False)\n",
    "basic3 = pd.read_csv('D:\\\\국민건강영양조사\\\\국민건강영양조사_기수별통합\\\\1998-2019 기본DB\\\\기본DB_3기 (2005).csv', encoding = 'euc-kr', low_memory = False)\n",
    "basic4 = pd.read_csv('D:\\\\국민건강영양조사\\\\국민건강영양조사_기수별통합\\\\1998-2019 기본DB\\\\기본DB_4기 (2007-2009).csv', encoding = 'euc-kr', low_memory = False)\n",
    "basic5 = pd.read_csv('D:\\\\국민건강영양조사\\\\국민건강영양조사_기수별통합\\\\1998-2019 기본DB\\\\기본DB_5기 (2010-2012).csv', encoding = 'euc-kr', low_memory = False)\n",
    "basic6 = pd.read_csv('D:\\\\국민건강영양조사\\\\국민건강영양조사_기수별통합\\\\1998-2019 기본DB\\\\기본DB_6기 (2013-2015).csv', encoding = 'euc-kr', low_memory = False)\n",
    "basic7 = pd.read_csv('D:\\\\국민건강영양조사\\\\국민건강영양조사_기수별통합\\\\1998-2019 기본DB\\\\기본DB_7기 (2016-2017).csv', encoding = 'euc-kr', low_memory = False)\n",
    "basic18 = pd.read_sas('D:\\\\국민건강영양조사\\\\1998-2020 기본DB\\\\hn18_all.sas7bdat')\n",
    "basic19 = pd.read_sas('D:\\\\국민건강영양조사\\\\1998-2020 기본DB\\\\hn19_all.sas7bdat')\n",
    "basic20 = pd.read_sas('D:\\\\국민건강영양조사\\\\1998-2020 기본DB\\\\hn20_all.sas7bdat')"
   ]
  },
  {
   "cell_type": "code",
   "execution_count": 64,
   "metadata": {},
   "outputs": [],
   "source": [
    "# 4기부터 wc 있어서 나중에 추가\n",
    "\n",
    "basic4_p = basic4[['year', 'ID', 'sex', 'age', 'psu', 'HE_ht', 'HE_wt', 'HE_BMI', 'HE_obe', 'HE_Upro',\n",
    "                      'HE_HbA1c', 'HE_glu', 'HE_chol', 'HE_ast', 'HE_alt', \n",
    "                      'HE_wc', 'HE_HDL_st2', 'HE_LDL_drct', 'HE_crea', 'D_1_1', \n",
    "                      'N_NA', 'BS3_1', 'BS3_2', 'BD1_11', 'BD2_1', \n",
    "                      'BP1', 'DI3_dg', 'DI4_dg', 'DI1_dg', 'DE1_dg', 'DI2_dg', 'DI3_pt', 'DI4_pt', 'DI1_pt', 'DE1_pt',\n",
    "                      'DI2_pt', 'HE_hepaB', 'BS6_2_2', 'BS6_3', 'BS2_1']]"
   ]
  },
  {
   "cell_type": "code",
   "execution_count": 29,
   "metadata": {},
   "outputs": [],
   "source": [
    "# 'DJ1_dg', 'DJ1_pt', 'HW_MS' 삭제 (없음) \n",
    "# 'HE_tb', 'F_BEEF', 'HE_dbp_tr', 'L_LN1', 'L_DN1', 'DI4_lt', 'F_CHICK', 'F_PORK', 'HE_sbp_tr', 'L_BR1', 'DI3_lt', 'HE_HP_tr' 삭제 (6기에 없음)\n",
    "# 'pa_mid', 'BE3_21', 'pa_high', 'BE3_22', 'pa_walk' 삭제 (7기에 없음)\n",
    "# 'HE_DM' 삭제 (19년도에 없음)\n",
    "basic5_p = basic5[['year', 'ID', 'sex', 'age', 'psu', 'HE_ht', 'HE_wt', 'HE_BMI', 'HE_obe', 'HE_Upro',\n",
    "                      'HE_HbA1c', 'HE_glu', 'HE_chol', 'HE_ast', 'HE_alt', \n",
    "                      'HE_wc', 'HE_HDL_st2', 'HE_LDL_drct', 'HE_crea', 'D_1_1', \n",
    "                      'N_NA', 'BS3_1', 'BS3_2', 'BD1_11', 'BD2_1', \n",
    "                      'BP1', 'DI3_dg', 'DI4_dg', 'DI1_dg', 'DE1_dg', 'DI2_dg', 'DI3_pt', 'DI4_pt', 'DI1_pt', 'DE1_pt',\n",
    "                      'DI2_pt', 'HE_hepaB', 'BS6_2_2', 'BS6_3', 'BS2_1']]"
   ]
  },
  {
   "cell_type": "code",
   "execution_count": 30,
   "metadata": {},
   "outputs": [],
   "source": [
    "# 'HE_tb', 'F_BEEF', 'HE_dbp_tr', 'L_LN1', 'L_DN1', 'DI4_lt', 'F_CHICK', 'F_PORK', 'HE_sbp_tr', 'L_BR1', 'DI3_lt', 'HE_HP_tr' 삭제 (없음)\n",
    "# 'pa_mid', 'BE3_21', 'pa_high', 'BE3_22', 'pa_walk' 삭제 (7기에 없음)\n",
    "# 'HE_DM' 삭제 (19년도에 없음)\n",
    "basic6_p = basic6[['year', 'ID', 'sex', 'age', 'psu', 'HE_ht', 'HE_wt', 'HE_BMI', 'HE_obe', 'HE_Upro',\n",
    "                      'HE_HbA1c', 'HE_glu', 'HE_chol', 'HE_ast', 'HE_alt', \n",
    "                      'HE_wc', 'HE_HDL_st2', 'HE_LDL_drct', 'HE_crea', 'D_1_1', \n",
    "                      'N_NA', 'BS3_1', 'BS3_2', 'BD1_11', 'BD2_1', \n",
    "                      'BP1', 'DI3_dg', 'DI4_dg', 'DI1_dg', 'DE1_dg', 'DI2_dg', 'DI3_pt', 'DI4_pt', 'DI1_pt', 'DE1_pt',\n",
    "                      'DI2_pt', 'HE_hepaB', 'BS6_2_2', 'BS6_3', 'BS2_1']]"
   ]
  },
  {
   "cell_type": "code",
   "execution_count": 31,
   "metadata": {},
   "outputs": [],
   "source": [
    "# 'pa_mid', 'BE3_21', 'pa_high', 'BE3_22', 'pa_walk' 삭제 (없음)\n",
    "# 'HE_DM' 삭제 (19년도에 없음)\n",
    "basic7_p = basic7[['year', 'ID', 'sex', 'age', 'psu', 'HE_ht', 'HE_wt', 'HE_BMI', 'HE_obe', 'HE_Upro',\n",
    "                      'HE_HbA1c', 'HE_glu', 'HE_chol', 'HE_ast', 'HE_alt', \n",
    "                      'HE_wc', 'HE_HDL_st2', 'HE_LDL_drct', 'HE_crea', 'D_1_1', \n",
    "                      'N_NA', 'BS3_1', 'BS3_2', 'BD1_11', 'BD2_1', \n",
    "                      'BP1', 'DI3_dg', 'DI4_dg', 'DI1_dg', 'DE1_dg', 'DI2_dg', 'DI3_pt', 'DI4_pt', 'DI1_pt', 'DE1_pt',\n",
    "                      'DI2_pt', 'HE_hepaB', 'BS6_2_2', 'BS6_3', 'BS2_1']]"
   ]
  },
  {
   "cell_type": "code",
   "execution_count": 32,
   "metadata": {},
   "outputs": [],
   "source": [
    "# 'HE_DM' 삭제 (19년도에 없음)\n",
    "basic18_p = basic18[['year', 'ID', 'sex', 'age', 'psu', 'HE_ht', 'HE_wt', 'HE_BMI', 'HE_obe', 'HE_Upro',\n",
    "                      'HE_HbA1c', 'HE_glu', 'HE_chol', 'HE_ast', 'HE_alt', \n",
    "                      'HE_wc', 'HE_HDL_st2', 'HE_LDL_drct', 'HE_crea', 'D_1_1', \n",
    "                      'N_NA', 'BS3_1', 'BS3_2', 'BD1_11', 'BD2_1', \n",
    "                      'BP1', 'DI3_dg', 'DI4_dg', 'DI1_dg', 'DE1_dg', 'DI2_dg', 'DI3_pt', 'DI4_pt', 'DI1_pt', 'DE1_pt',\n",
    "                      'DI2_pt', 'HE_hepaB', 'BS6_2_2', 'BS6_3', 'BS2_1']]"
   ]
  },
  {
   "cell_type": "code",
   "execution_count": 33,
   "metadata": {},
   "outputs": [],
   "source": [
    "# 'HE_DM' 삭제 \n",
    "basic19_p = basic19[['year', 'ID', 'sex', 'age', 'psu', 'HE_ht', 'HE_wt', 'HE_BMI', 'HE_obe', 'HE_Upro',\n",
    "                      'HE_HbA1c', 'HE_glu', 'HE_chol', 'HE_ast', 'HE_alt', \n",
    "                      'HE_wc', 'HE_HDL_st2', 'HE_LDL_drct', 'HE_crea', 'D_1_1', \n",
    "                      'N_NA', 'BS3_1', 'BS3_2', 'BD1_11', 'BD2_1', \n",
    "                      'BP1', 'DI3_dg', 'DI4_dg', 'DI1_dg', 'DE1_dg', 'DI2_dg', 'DI3_pt', 'DI4_pt', 'DI1_pt', 'DE1_pt',\n",
    "                      'DI2_pt', 'HE_hepaB', 'BS6_2_2', 'BS6_3', 'BS2_1']]"
   ]
  },
  {
   "cell_type": "code",
   "execution_count": 34,
   "metadata": {},
   "outputs": [],
   "source": [
    "basic20_p = basic20[['year', 'ID', 'sex', 'age', 'psu', 'HE_ht', 'HE_wt', 'HE_BMI', 'HE_obe', 'HE_Upro',\n",
    "                      'HE_HbA1c', 'HE_glu', 'HE_chol', 'HE_ast', 'HE_alt', \n",
    "                      'HE_wc', 'HE_HDL_st2', 'HE_LDL_drct', 'HE_crea', 'D_1_1', \n",
    "                      'N_NA', 'BS3_1', 'BS3_2', 'BD1_11', 'BD2_1', \n",
    "                      'BP1', 'DI3_dg', 'DI4_dg', 'DI1_dg', 'DE1_dg', 'DI2_dg', 'DI3_pt', 'DI4_pt', 'DI1_pt', 'DE1_pt',\n",
    "                      'DI2_pt', 'HE_hepaB', 'BS6_2_2', 'BS6_3', 'BS2_1']]"
   ]
  },
  {
   "cell_type": "code",
   "execution_count": 81,
   "metadata": {},
   "outputs": [
    {
     "data": {
      "text/html": [
       "<div>\n",
       "<style scoped>\n",
       "    .dataframe tbody tr th:only-of-type {\n",
       "        vertical-align: middle;\n",
       "    }\n",
       "\n",
       "    .dataframe tbody tr th {\n",
       "        vertical-align: top;\n",
       "    }\n",
       "\n",
       "    .dataframe thead th {\n",
       "        text-align: right;\n",
       "    }\n",
       "</style>\n",
       "<table border=\"1\" class=\"dataframe\">\n",
       "  <thead>\n",
       "    <tr style=\"text-align: right;\">\n",
       "      <th></th>\n",
       "      <th>year</th>\n",
       "      <th>ID</th>\n",
       "      <th>sex</th>\n",
       "      <th>age</th>\n",
       "      <th>psu</th>\n",
       "      <th>HE_ht</th>\n",
       "      <th>HE_wt</th>\n",
       "      <th>HE_BMI</th>\n",
       "      <th>HE_obe</th>\n",
       "      <th>HE_Upro</th>\n",
       "      <th>...</th>\n",
       "      <th>DI2_dg</th>\n",
       "      <th>DI3_pt</th>\n",
       "      <th>DI4_pt</th>\n",
       "      <th>DI1_pt</th>\n",
       "      <th>DE1_pt</th>\n",
       "      <th>DI2_pt</th>\n",
       "      <th>HE_hepaB</th>\n",
       "      <th>BS6_2_2</th>\n",
       "      <th>BS6_3</th>\n",
       "      <th>BS2_1</th>\n",
       "    </tr>\n",
       "  </thead>\n",
       "  <tbody>\n",
       "    <tr>\n",
       "      <th>0</th>\n",
       "      <td>2007.0</td>\n",
       "      <td>b'A548480901'</td>\n",
       "      <td>1.0</td>\n",
       "      <td>55.0</td>\n",
       "      <td>b'A548'</td>\n",
       "      <td>159.9</td>\n",
       "      <td>60.6</td>\n",
       "      <td>23.701493</td>\n",
       "      <td>2.0</td>\n",
       "      <td>0.0</td>\n",
       "      <td>...</td>\n",
       "      <td>8.0</td>\n",
       "      <td>8.0</td>\n",
       "      <td>8.0</td>\n",
       "      <td>8.0</td>\n",
       "      <td>8.0</td>\n",
       "      <td>8.0</td>\n",
       "      <td>0.0</td>\n",
       "      <td>88.0</td>\n",
       "      <td>888.0</td>\n",
       "      <td>88.0</td>\n",
       "    </tr>\n",
       "    <tr>\n",
       "      <th>1</th>\n",
       "      <td>2007.0</td>\n",
       "      <td>b'A548480902'</td>\n",
       "      <td>2.0</td>\n",
       "      <td>50.0</td>\n",
       "      <td>b'A548'</td>\n",
       "      <td>157.0</td>\n",
       "      <td>51.4</td>\n",
       "      <td>20.852773</td>\n",
       "      <td>2.0</td>\n",
       "      <td>0.0</td>\n",
       "      <td>...</td>\n",
       "      <td>8.0</td>\n",
       "      <td>8.0</td>\n",
       "      <td>8.0</td>\n",
       "      <td>0.0</td>\n",
       "      <td>8.0</td>\n",
       "      <td>8.0</td>\n",
       "      <td>0.0</td>\n",
       "      <td>99.0</td>\n",
       "      <td>1.0</td>\n",
       "      <td>22.0</td>\n",
       "    </tr>\n",
       "    <tr>\n",
       "      <th>2</th>\n",
       "      <td>2007.0</td>\n",
       "      <td>b'A548480903'</td>\n",
       "      <td>1.0</td>\n",
       "      <td>23.0</td>\n",
       "      <td>b'A548'</td>\n",
       "      <td>NaN</td>\n",
       "      <td>NaN</td>\n",
       "      <td>NaN</td>\n",
       "      <td>NaN</td>\n",
       "      <td>NaN</td>\n",
       "      <td>...</td>\n",
       "      <td>NaN</td>\n",
       "      <td>NaN</td>\n",
       "      <td>NaN</td>\n",
       "      <td>NaN</td>\n",
       "      <td>NaN</td>\n",
       "      <td>NaN</td>\n",
       "      <td>NaN</td>\n",
       "      <td>NaN</td>\n",
       "      <td>NaN</td>\n",
       "      <td>NaN</td>\n",
       "    </tr>\n",
       "    <tr>\n",
       "      <th>3</th>\n",
       "      <td>2007.0</td>\n",
       "      <td>b'A548480904'</td>\n",
       "      <td>2.0</td>\n",
       "      <td>21.0</td>\n",
       "      <td>b'A548'</td>\n",
       "      <td>161.1</td>\n",
       "      <td>50.0</td>\n",
       "      <td>19.265440</td>\n",
       "      <td>2.0</td>\n",
       "      <td>1.0</td>\n",
       "      <td>...</td>\n",
       "      <td>8.0</td>\n",
       "      <td>8.0</td>\n",
       "      <td>8.0</td>\n",
       "      <td>8.0</td>\n",
       "      <td>8.0</td>\n",
       "      <td>8.0</td>\n",
       "      <td>0.0</td>\n",
       "      <td>88.0</td>\n",
       "      <td>888.0</td>\n",
       "      <td>14.0</td>\n",
       "    </tr>\n",
       "    <tr>\n",
       "      <th>4</th>\n",
       "      <td>2007.0</td>\n",
       "      <td>b'A548560901'</td>\n",
       "      <td>2.0</td>\n",
       "      <td>35.0</td>\n",
       "      <td>b'A548'</td>\n",
       "      <td>164.0</td>\n",
       "      <td>73.3</td>\n",
       "      <td>27.253123</td>\n",
       "      <td>3.0</td>\n",
       "      <td>NaN</td>\n",
       "      <td>...</td>\n",
       "      <td>8.0</td>\n",
       "      <td>8.0</td>\n",
       "      <td>8.0</td>\n",
       "      <td>8.0</td>\n",
       "      <td>8.0</td>\n",
       "      <td>8.0</td>\n",
       "      <td>0.0</td>\n",
       "      <td>3.0</td>\n",
       "      <td>3.0</td>\n",
       "      <td>21.0</td>\n",
       "    </tr>\n",
       "    <tr>\n",
       "      <th>...</th>\n",
       "      <td>...</td>\n",
       "      <td>...</td>\n",
       "      <td>...</td>\n",
       "      <td>...</td>\n",
       "      <td>...</td>\n",
       "      <td>...</td>\n",
       "      <td>...</td>\n",
       "      <td>...</td>\n",
       "      <td>...</td>\n",
       "      <td>...</td>\n",
       "      <td>...</td>\n",
       "      <td>...</td>\n",
       "      <td>...</td>\n",
       "      <td>...</td>\n",
       "      <td>...</td>\n",
       "      <td>...</td>\n",
       "      <td>...</td>\n",
       "      <td>...</td>\n",
       "      <td>...</td>\n",
       "      <td>...</td>\n",
       "      <td>...</td>\n",
       "    </tr>\n",
       "    <tr>\n",
       "      <th>8105</th>\n",
       "      <td>2019.0</td>\n",
       "      <td>b'R504381902'</td>\n",
       "      <td>2.0</td>\n",
       "      <td>48.0</td>\n",
       "      <td>b'R504'</td>\n",
       "      <td>155.1</td>\n",
       "      <td>49.4</td>\n",
       "      <td>20.535409</td>\n",
       "      <td>2.0</td>\n",
       "      <td>1.0</td>\n",
       "      <td>...</td>\n",
       "      <td>0.0</td>\n",
       "      <td>8.0</td>\n",
       "      <td>8.0</td>\n",
       "      <td>8.0</td>\n",
       "      <td>8.0</td>\n",
       "      <td>8.0</td>\n",
       "      <td>0.0</td>\n",
       "      <td>88.0</td>\n",
       "      <td>888.0</td>\n",
       "      <td>888.0</td>\n",
       "    </tr>\n",
       "    <tr>\n",
       "      <th>8106</th>\n",
       "      <td>2019.0</td>\n",
       "      <td>b'R504393801'</td>\n",
       "      <td>1.0</td>\n",
       "      <td>47.0</td>\n",
       "      <td>b'R504'</td>\n",
       "      <td>166.5</td>\n",
       "      <td>62.1</td>\n",
       "      <td>22.400779</td>\n",
       "      <td>2.0</td>\n",
       "      <td>0.0</td>\n",
       "      <td>...</td>\n",
       "      <td>0.0</td>\n",
       "      <td>8.0</td>\n",
       "      <td>8.0</td>\n",
       "      <td>8.0</td>\n",
       "      <td>8.0</td>\n",
       "      <td>8.0</td>\n",
       "      <td>0.0</td>\n",
       "      <td>88.0</td>\n",
       "      <td>888.0</td>\n",
       "      <td>888.0</td>\n",
       "    </tr>\n",
       "    <tr>\n",
       "      <th>8107</th>\n",
       "      <td>2019.0</td>\n",
       "      <td>b'R504393802'</td>\n",
       "      <td>2.0</td>\n",
       "      <td>43.0</td>\n",
       "      <td>b'R504'</td>\n",
       "      <td>162.5</td>\n",
       "      <td>40.6</td>\n",
       "      <td>15.375148</td>\n",
       "      <td>1.0</td>\n",
       "      <td>0.0</td>\n",
       "      <td>...</td>\n",
       "      <td>0.0</td>\n",
       "      <td>8.0</td>\n",
       "      <td>8.0</td>\n",
       "      <td>8.0</td>\n",
       "      <td>8.0</td>\n",
       "      <td>8.0</td>\n",
       "      <td>0.0</td>\n",
       "      <td>88.0</td>\n",
       "      <td>888.0</td>\n",
       "      <td>888.0</td>\n",
       "    </tr>\n",
       "    <tr>\n",
       "      <th>8108</th>\n",
       "      <td>2019.0</td>\n",
       "      <td>b'R504393803'</td>\n",
       "      <td>2.0</td>\n",
       "      <td>16.0</td>\n",
       "      <td>b'R504'</td>\n",
       "      <td>162.5</td>\n",
       "      <td>39.2</td>\n",
       "      <td>14.844970</td>\n",
       "      <td>NaN</td>\n",
       "      <td>0.0</td>\n",
       "      <td>...</td>\n",
       "      <td>8.0</td>\n",
       "      <td>8.0</td>\n",
       "      <td>8.0</td>\n",
       "      <td>8.0</td>\n",
       "      <td>8.0</td>\n",
       "      <td>8.0</td>\n",
       "      <td>0.0</td>\n",
       "      <td>88.0</td>\n",
       "      <td>888.0</td>\n",
       "      <td>888.0</td>\n",
       "    </tr>\n",
       "    <tr>\n",
       "      <th>8109</th>\n",
       "      <td>2019.0</td>\n",
       "      <td>b'R504393804'</td>\n",
       "      <td>1.0</td>\n",
       "      <td>8.0</td>\n",
       "      <td>b'R504'</td>\n",
       "      <td>125.0</td>\n",
       "      <td>22.7</td>\n",
       "      <td>14.528000</td>\n",
       "      <td>NaN</td>\n",
       "      <td>NaN</td>\n",
       "      <td>...</td>\n",
       "      <td>8.0</td>\n",
       "      <td>8.0</td>\n",
       "      <td>8.0</td>\n",
       "      <td>8.0</td>\n",
       "      <td>8.0</td>\n",
       "      <td>8.0</td>\n",
       "      <td>NaN</td>\n",
       "      <td>88.0</td>\n",
       "      <td>888.0</td>\n",
       "      <td>888.0</td>\n",
       "    </tr>\n",
       "  </tbody>\n",
       "</table>\n",
       "<p>105732 rows × 40 columns</p>\n",
       "</div>"
      ],
      "text/plain": [
       "        year             ID  sex   age      psu  HE_ht  HE_wt     HE_BMI  \\\n",
       "0     2007.0  b'A548480901'  1.0  55.0  b'A548'  159.9   60.6  23.701493   \n",
       "1     2007.0  b'A548480902'  2.0  50.0  b'A548'  157.0   51.4  20.852773   \n",
       "2     2007.0  b'A548480903'  1.0  23.0  b'A548'    NaN    NaN        NaN   \n",
       "3     2007.0  b'A548480904'  2.0  21.0  b'A548'  161.1   50.0  19.265440   \n",
       "4     2007.0  b'A548560901'  2.0  35.0  b'A548'  164.0   73.3  27.253123   \n",
       "...      ...            ...  ...   ...      ...    ...    ...        ...   \n",
       "8105  2019.0  b'R504381902'  2.0  48.0  b'R504'  155.1   49.4  20.535409   \n",
       "8106  2019.0  b'R504393801'  1.0  47.0  b'R504'  166.5   62.1  22.400779   \n",
       "8107  2019.0  b'R504393802'  2.0  43.0  b'R504'  162.5   40.6  15.375148   \n",
       "8108  2019.0  b'R504393803'  2.0  16.0  b'R504'  162.5   39.2  14.844970   \n",
       "8109  2019.0  b'R504393804'  1.0   8.0  b'R504'  125.0   22.7  14.528000   \n",
       "\n",
       "      HE_obe  HE_Upro  ...  DI2_dg  DI3_pt  DI4_pt  DI1_pt  DE1_pt  DI2_pt  \\\n",
       "0        2.0      0.0  ...     8.0     8.0     8.0     8.0     8.0     8.0   \n",
       "1        2.0      0.0  ...     8.0     8.0     8.0     0.0     8.0     8.0   \n",
       "2        NaN      NaN  ...     NaN     NaN     NaN     NaN     NaN     NaN   \n",
       "3        2.0      1.0  ...     8.0     8.0     8.0     8.0     8.0     8.0   \n",
       "4        3.0      NaN  ...     8.0     8.0     8.0     8.0     8.0     8.0   \n",
       "...      ...      ...  ...     ...     ...     ...     ...     ...     ...   \n",
       "8105     2.0      1.0  ...     0.0     8.0     8.0     8.0     8.0     8.0   \n",
       "8106     2.0      0.0  ...     0.0     8.0     8.0     8.0     8.0     8.0   \n",
       "8107     1.0      0.0  ...     0.0     8.0     8.0     8.0     8.0     8.0   \n",
       "8108     NaN      0.0  ...     8.0     8.0     8.0     8.0     8.0     8.0   \n",
       "8109     NaN      NaN  ...     8.0     8.0     8.0     8.0     8.0     8.0   \n",
       "\n",
       "      HE_hepaB  BS6_2_2  BS6_3  BS2_1  \n",
       "0          0.0     88.0  888.0   88.0  \n",
       "1          0.0     99.0    1.0   22.0  \n",
       "2          NaN      NaN    NaN    NaN  \n",
       "3          0.0     88.0  888.0   14.0  \n",
       "4          0.0      3.0    3.0   21.0  \n",
       "...        ...      ...    ...    ...  \n",
       "8105       0.0     88.0  888.0  888.0  \n",
       "8106       0.0     88.0  888.0  888.0  \n",
       "8107       0.0     88.0  888.0  888.0  \n",
       "8108       0.0     88.0  888.0  888.0  \n",
       "8109       NaN     88.0  888.0  888.0  \n",
       "\n",
       "[105732 rows x 40 columns]"
      ]
     },
     "execution_count": 81,
     "metadata": {},
     "output_type": "execute_result"
    }
   ],
   "source": [
    "basic0719 = pd.concat([basic4_p, basic5_p, basic6_p, basic7_p, basic18_p, basic19_p], axis = 0)\n",
    "basic0719"
   ]
  },
  {
   "cell_type": "code",
   "execution_count": 65,
   "metadata": {},
   "outputs": [
    {
     "data": {
      "text/html": [
       "<div>\n",
       "<style scoped>\n",
       "    .dataframe tbody tr th:only-of-type {\n",
       "        vertical-align: middle;\n",
       "    }\n",
       "\n",
       "    .dataframe tbody tr th {\n",
       "        vertical-align: top;\n",
       "    }\n",
       "\n",
       "    .dataframe thead th {\n",
       "        text-align: right;\n",
       "    }\n",
       "</style>\n",
       "<table border=\"1\" class=\"dataframe\">\n",
       "  <thead>\n",
       "    <tr style=\"text-align: right;\">\n",
       "      <th></th>\n",
       "      <th>year</th>\n",
       "      <th>ID</th>\n",
       "      <th>sex</th>\n",
       "      <th>age</th>\n",
       "      <th>psu</th>\n",
       "      <th>HE_ht</th>\n",
       "      <th>HE_wt</th>\n",
       "      <th>HE_BMI</th>\n",
       "      <th>HE_obe</th>\n",
       "      <th>HE_Upro</th>\n",
       "      <th>...</th>\n",
       "      <th>DI2_dg</th>\n",
       "      <th>DI3_pt</th>\n",
       "      <th>DI4_pt</th>\n",
       "      <th>DI1_pt</th>\n",
       "      <th>DE1_pt</th>\n",
       "      <th>DI2_pt</th>\n",
       "      <th>HE_hepaB</th>\n",
       "      <th>BS6_2_2</th>\n",
       "      <th>BS6_3</th>\n",
       "      <th>BS2_1</th>\n",
       "    </tr>\n",
       "  </thead>\n",
       "  <tbody>\n",
       "    <tr>\n",
       "      <th>0</th>\n",
       "      <td>2007.0</td>\n",
       "      <td>b'A548480901'</td>\n",
       "      <td>1.0</td>\n",
       "      <td>55.0</td>\n",
       "      <td>b'A548'</td>\n",
       "      <td>159.9</td>\n",
       "      <td>60.6</td>\n",
       "      <td>23.701493</td>\n",
       "      <td>2.0</td>\n",
       "      <td>0.0</td>\n",
       "      <td>...</td>\n",
       "      <td>8.0</td>\n",
       "      <td>8.0</td>\n",
       "      <td>8.0</td>\n",
       "      <td>8.0</td>\n",
       "      <td>8.0</td>\n",
       "      <td>8.0</td>\n",
       "      <td>0.0</td>\n",
       "      <td>88.0</td>\n",
       "      <td>888.0</td>\n",
       "      <td>88.0</td>\n",
       "    </tr>\n",
       "    <tr>\n",
       "      <th>1</th>\n",
       "      <td>2007.0</td>\n",
       "      <td>b'A548480902'</td>\n",
       "      <td>2.0</td>\n",
       "      <td>50.0</td>\n",
       "      <td>b'A548'</td>\n",
       "      <td>157.0</td>\n",
       "      <td>51.4</td>\n",
       "      <td>20.852773</td>\n",
       "      <td>2.0</td>\n",
       "      <td>0.0</td>\n",
       "      <td>...</td>\n",
       "      <td>8.0</td>\n",
       "      <td>8.0</td>\n",
       "      <td>8.0</td>\n",
       "      <td>0.0</td>\n",
       "      <td>8.0</td>\n",
       "      <td>8.0</td>\n",
       "      <td>0.0</td>\n",
       "      <td>99.0</td>\n",
       "      <td>1.0</td>\n",
       "      <td>22.0</td>\n",
       "    </tr>\n",
       "    <tr>\n",
       "      <th>2</th>\n",
       "      <td>2007.0</td>\n",
       "      <td>b'A548480903'</td>\n",
       "      <td>1.0</td>\n",
       "      <td>23.0</td>\n",
       "      <td>b'A548'</td>\n",
       "      <td>NaN</td>\n",
       "      <td>NaN</td>\n",
       "      <td>NaN</td>\n",
       "      <td>NaN</td>\n",
       "      <td>NaN</td>\n",
       "      <td>...</td>\n",
       "      <td>NaN</td>\n",
       "      <td>NaN</td>\n",
       "      <td>NaN</td>\n",
       "      <td>NaN</td>\n",
       "      <td>NaN</td>\n",
       "      <td>NaN</td>\n",
       "      <td>NaN</td>\n",
       "      <td>NaN</td>\n",
       "      <td>NaN</td>\n",
       "      <td>NaN</td>\n",
       "    </tr>\n",
       "    <tr>\n",
       "      <th>3</th>\n",
       "      <td>2007.0</td>\n",
       "      <td>b'A548480904'</td>\n",
       "      <td>2.0</td>\n",
       "      <td>21.0</td>\n",
       "      <td>b'A548'</td>\n",
       "      <td>161.1</td>\n",
       "      <td>50.0</td>\n",
       "      <td>19.265440</td>\n",
       "      <td>2.0</td>\n",
       "      <td>1.0</td>\n",
       "      <td>...</td>\n",
       "      <td>8.0</td>\n",
       "      <td>8.0</td>\n",
       "      <td>8.0</td>\n",
       "      <td>8.0</td>\n",
       "      <td>8.0</td>\n",
       "      <td>8.0</td>\n",
       "      <td>0.0</td>\n",
       "      <td>88.0</td>\n",
       "      <td>888.0</td>\n",
       "      <td>14.0</td>\n",
       "    </tr>\n",
       "    <tr>\n",
       "      <th>4</th>\n",
       "      <td>2007.0</td>\n",
       "      <td>b'A548560901'</td>\n",
       "      <td>2.0</td>\n",
       "      <td>35.0</td>\n",
       "      <td>b'A548'</td>\n",
       "      <td>164.0</td>\n",
       "      <td>73.3</td>\n",
       "      <td>27.253123</td>\n",
       "      <td>3.0</td>\n",
       "      <td>NaN</td>\n",
       "      <td>...</td>\n",
       "      <td>8.0</td>\n",
       "      <td>8.0</td>\n",
       "      <td>8.0</td>\n",
       "      <td>8.0</td>\n",
       "      <td>8.0</td>\n",
       "      <td>8.0</td>\n",
       "      <td>0.0</td>\n",
       "      <td>3.0</td>\n",
       "      <td>3.0</td>\n",
       "      <td>21.0</td>\n",
       "    </tr>\n",
       "    <tr>\n",
       "      <th>...</th>\n",
       "      <td>...</td>\n",
       "      <td>...</td>\n",
       "      <td>...</td>\n",
       "      <td>...</td>\n",
       "      <td>...</td>\n",
       "      <td>...</td>\n",
       "      <td>...</td>\n",
       "      <td>...</td>\n",
       "      <td>...</td>\n",
       "      <td>...</td>\n",
       "      <td>...</td>\n",
       "      <td>...</td>\n",
       "      <td>...</td>\n",
       "      <td>...</td>\n",
       "      <td>...</td>\n",
       "      <td>...</td>\n",
       "      <td>...</td>\n",
       "      <td>...</td>\n",
       "      <td>...</td>\n",
       "      <td>...</td>\n",
       "      <td>...</td>\n",
       "    </tr>\n",
       "    <tr>\n",
       "      <th>7354</th>\n",
       "      <td>2020.0</td>\n",
       "      <td>b'R804366601'</td>\n",
       "      <td>2.0</td>\n",
       "      <td>61.0</td>\n",
       "      <td>b'R804'</td>\n",
       "      <td>155.2</td>\n",
       "      <td>57.6</td>\n",
       "      <td>23.913275</td>\n",
       "      <td>3.0</td>\n",
       "      <td>0.0</td>\n",
       "      <td>...</td>\n",
       "      <td>0.0</td>\n",
       "      <td>8.0</td>\n",
       "      <td>8.0</td>\n",
       "      <td>8.0</td>\n",
       "      <td>8.0</td>\n",
       "      <td>8.0</td>\n",
       "      <td>0.0</td>\n",
       "      <td>88.0</td>\n",
       "      <td>888.0</td>\n",
       "      <td>888.0</td>\n",
       "    </tr>\n",
       "    <tr>\n",
       "      <th>7355</th>\n",
       "      <td>2020.0</td>\n",
       "      <td>b'R804368301'</td>\n",
       "      <td>2.0</td>\n",
       "      <td>51.0</td>\n",
       "      <td>b'R804'</td>\n",
       "      <td>144.7</td>\n",
       "      <td>51.8</td>\n",
       "      <td>24.739601</td>\n",
       "      <td>3.0</td>\n",
       "      <td>0.0</td>\n",
       "      <td>...</td>\n",
       "      <td>0.0</td>\n",
       "      <td>8.0</td>\n",
       "      <td>8.0</td>\n",
       "      <td>8.0</td>\n",
       "      <td>8.0</td>\n",
       "      <td>8.0</td>\n",
       "      <td>0.0</td>\n",
       "      <td>88.0</td>\n",
       "      <td>888.0</td>\n",
       "      <td>888.0</td>\n",
       "    </tr>\n",
       "    <tr>\n",
       "      <th>7356</th>\n",
       "      <td>2020.0</td>\n",
       "      <td>b'R804368302'</td>\n",
       "      <td>2.0</td>\n",
       "      <td>24.0</td>\n",
       "      <td>b'R804'</td>\n",
       "      <td>148.6</td>\n",
       "      <td>57.7</td>\n",
       "      <td>26.129927</td>\n",
       "      <td>4.0</td>\n",
       "      <td>0.0</td>\n",
       "      <td>...</td>\n",
       "      <td>0.0</td>\n",
       "      <td>8.0</td>\n",
       "      <td>8.0</td>\n",
       "      <td>8.0</td>\n",
       "      <td>8.0</td>\n",
       "      <td>8.0</td>\n",
       "      <td>0.0</td>\n",
       "      <td>88.0</td>\n",
       "      <td>888.0</td>\n",
       "      <td>14.0</td>\n",
       "    </tr>\n",
       "    <tr>\n",
       "      <th>7357</th>\n",
       "      <td>2020.0</td>\n",
       "      <td>b'R804371701'</td>\n",
       "      <td>1.0</td>\n",
       "      <td>65.0</td>\n",
       "      <td>b'R804'</td>\n",
       "      <td>171.5</td>\n",
       "      <td>76.3</td>\n",
       "      <td>25.941572</td>\n",
       "      <td>4.0</td>\n",
       "      <td>0.0</td>\n",
       "      <td>...</td>\n",
       "      <td>1.0</td>\n",
       "      <td>8.0</td>\n",
       "      <td>8.0</td>\n",
       "      <td>8.0</td>\n",
       "      <td>8.0</td>\n",
       "      <td>1.0</td>\n",
       "      <td>0.0</td>\n",
       "      <td>0.0</td>\n",
       "      <td>20.0</td>\n",
       "      <td>18.0</td>\n",
       "    </tr>\n",
       "    <tr>\n",
       "      <th>7358</th>\n",
       "      <td>2020.0</td>\n",
       "      <td>b'R804371702'</td>\n",
       "      <td>2.0</td>\n",
       "      <td>57.0</td>\n",
       "      <td>b'R804'</td>\n",
       "      <td>159.5</td>\n",
       "      <td>56.7</td>\n",
       "      <td>22.287517</td>\n",
       "      <td>2.0</td>\n",
       "      <td>0.0</td>\n",
       "      <td>...</td>\n",
       "      <td>0.0</td>\n",
       "      <td>8.0</td>\n",
       "      <td>8.0</td>\n",
       "      <td>8.0</td>\n",
       "      <td>8.0</td>\n",
       "      <td>8.0</td>\n",
       "      <td>0.0</td>\n",
       "      <td>88.0</td>\n",
       "      <td>888.0</td>\n",
       "      <td>888.0</td>\n",
       "    </tr>\n",
       "  </tbody>\n",
       "</table>\n",
       "<p>113091 rows × 40 columns</p>\n",
       "</div>"
      ],
      "text/plain": [
       "        year             ID  sex   age      psu  HE_ht  HE_wt     HE_BMI  \\\n",
       "0     2007.0  b'A548480901'  1.0  55.0  b'A548'  159.9   60.6  23.701493   \n",
       "1     2007.0  b'A548480902'  2.0  50.0  b'A548'  157.0   51.4  20.852773   \n",
       "2     2007.0  b'A548480903'  1.0  23.0  b'A548'    NaN    NaN        NaN   \n",
       "3     2007.0  b'A548480904'  2.0  21.0  b'A548'  161.1   50.0  19.265440   \n",
       "4     2007.0  b'A548560901'  2.0  35.0  b'A548'  164.0   73.3  27.253123   \n",
       "...      ...            ...  ...   ...      ...    ...    ...        ...   \n",
       "7354  2020.0  b'R804366601'  2.0  61.0  b'R804'  155.2   57.6  23.913275   \n",
       "7355  2020.0  b'R804368301'  2.0  51.0  b'R804'  144.7   51.8  24.739601   \n",
       "7356  2020.0  b'R804368302'  2.0  24.0  b'R804'  148.6   57.7  26.129927   \n",
       "7357  2020.0  b'R804371701'  1.0  65.0  b'R804'  171.5   76.3  25.941572   \n",
       "7358  2020.0  b'R804371702'  2.0  57.0  b'R804'  159.5   56.7  22.287517   \n",
       "\n",
       "      HE_obe  HE_Upro  ...  DI2_dg  DI3_pt  DI4_pt  DI1_pt  DE1_pt  DI2_pt  \\\n",
       "0        2.0      0.0  ...     8.0     8.0     8.0     8.0     8.0     8.0   \n",
       "1        2.0      0.0  ...     8.0     8.0     8.0     0.0     8.0     8.0   \n",
       "2        NaN      NaN  ...     NaN     NaN     NaN     NaN     NaN     NaN   \n",
       "3        2.0      1.0  ...     8.0     8.0     8.0     8.0     8.0     8.0   \n",
       "4        3.0      NaN  ...     8.0     8.0     8.0     8.0     8.0     8.0   \n",
       "...      ...      ...  ...     ...     ...     ...     ...     ...     ...   \n",
       "7354     3.0      0.0  ...     0.0     8.0     8.0     8.0     8.0     8.0   \n",
       "7355     3.0      0.0  ...     0.0     8.0     8.0     8.0     8.0     8.0   \n",
       "7356     4.0      0.0  ...     0.0     8.0     8.0     8.0     8.0     8.0   \n",
       "7357     4.0      0.0  ...     1.0     8.0     8.0     8.0     8.0     1.0   \n",
       "7358     2.0      0.0  ...     0.0     8.0     8.0     8.0     8.0     8.0   \n",
       "\n",
       "      HE_hepaB  BS6_2_2  BS6_3  BS2_1  \n",
       "0          0.0     88.0  888.0   88.0  \n",
       "1          0.0     99.0    1.0   22.0  \n",
       "2          NaN      NaN    NaN    NaN  \n",
       "3          0.0     88.0  888.0   14.0  \n",
       "4          0.0      3.0    3.0   21.0  \n",
       "...        ...      ...    ...    ...  \n",
       "7354       0.0     88.0  888.0  888.0  \n",
       "7355       0.0     88.0  888.0  888.0  \n",
       "7356       0.0     88.0  888.0   14.0  \n",
       "7357       0.0      0.0   20.0   18.0  \n",
       "7358       0.0     88.0  888.0  888.0  \n",
       "\n",
       "[113091 rows x 40 columns]"
      ]
     },
     "execution_count": 65,
     "metadata": {},
     "output_type": "execute_result"
    }
   ],
   "source": [
    "basic0720 = pd.concat([basic4_p, basic5_p, basic6_p, basic7_p, basic18_p, basic19_p, basic20_p], axis = 0)\n",
    "basic0720"
   ]
  },
  {
   "cell_type": "code",
   "execution_count": 66,
   "metadata": {},
   "outputs": [
    {
     "data": {
      "text/plain": [
       "count    106265.000000\n",
       "mean         77.497386\n",
       "std          13.809327\n",
       "min          19.600000\n",
       "25%          69.400000\n",
       "50%          78.900000\n",
       "75%          87.100000\n",
       "max         166.100000\n",
       "Name: HE_wc, dtype: float64"
      ]
     },
     "execution_count": 66,
     "metadata": {},
     "output_type": "execute_result"
    }
   ],
   "source": [
    "basic0720['HE_wc'].describe()"
   ]
  },
  {
   "cell_type": "code",
   "execution_count": 82,
   "metadata": {},
   "outputs": [],
   "source": [
    "# ABSI 생성\n",
    "# 체형지수(ABSI) = 허리둘레 / (BMI × 2/3) × (신장×1/2)\n",
    "\n",
    "basic0719['ABSI'] = basic0719['HE_wc'] / basic0719['HE_BMI'] * (2/3) * basic0719['HE_ht'] * (1/2)\n",
    "basic0720['ABSI'] = basic0720['HE_wc'] / basic0720['HE_BMI'] * (2/3) * basic0720['HE_ht'] * (1/2)"
   ]
  },
  {
   "cell_type": "code",
   "execution_count": 68,
   "metadata": {},
   "outputs": [
    {
     "data": {
      "text/plain": [
       "count    104991.000000\n",
       "mean        180.514010\n",
       "std          28.758365\n",
       "min          45.336920\n",
       "25%         167.610315\n",
       "50%         183.493556\n",
       "75%         198.802251\n",
       "max         370.244931\n",
       "Name: ABSI, dtype: float64"
      ]
     },
     "execution_count": 68,
     "metadata": {},
     "output_type": "execute_result"
    }
   ],
   "source": [
    "basic0720['ABSI'].describe()"
   ]
  },
  {
   "cell_type": "code",
   "execution_count": 85,
   "metadata": {},
   "outputs": [
    {
     "data": {
      "text/plain": [
       "count    98307.000000\n",
       "mean       179.917198\n",
       "std         29.085291\n",
       "min         45.336920\n",
       "25%        167.087031\n",
       "50%        183.044992\n",
       "75%        198.443261\n",
       "max        370.244931\n",
       "Name: ABSI, dtype: float64"
      ]
     },
     "execution_count": 85,
     "metadata": {},
     "output_type": "execute_result"
    }
   ],
   "source": [
    "basic0719['ABSI'].describe()"
   ]
  },
  {
   "cell_type": "code",
   "execution_count": 86,
   "metadata": {},
   "outputs": [
    {
     "data": {
      "text/plain": [
       "105732"
      ]
     },
     "execution_count": 86,
     "metadata": {},
     "output_type": "execute_result"
    }
   ],
   "source": [
    "# 07-19 조사인원 105,732명\n",
    "\n",
    "len(basic0719['ID'].unique())"
   ]
  },
  {
   "cell_type": "code",
   "execution_count": 69,
   "metadata": {},
   "outputs": [
    {
     "data": {
      "text/plain": [
       "113091"
      ]
     },
     "execution_count": 69,
     "metadata": {},
     "output_type": "execute_result"
    }
   ],
   "source": [
    "# 07-20 조사인원 113,091명\n",
    "\n",
    "len(basic0720['ID'].unique())"
   ]
  },
  {
   "cell_type": "code",
   "execution_count": 88,
   "metadata": {},
   "outputs": [
    {
     "data": {
      "text/plain": [
       "2.0    57595\n",
       "1.0    48137\n",
       "Name: sex, dtype: int64"
      ]
     },
     "execution_count": 88,
     "metadata": {},
     "output_type": "execute_result"
    }
   ],
   "source": [
    "# 남자 48,137명\n",
    "# 여자 57,595명\n",
    "\n",
    "basic0719['sex'].value_counts()"
   ]
  },
  {
   "cell_type": "code",
   "execution_count": 70,
   "metadata": {},
   "outputs": [
    {
     "data": {
      "text/plain": [
       "2.0    61540\n",
       "1.0    51551\n",
       "Name: sex, dtype: int64"
      ]
     },
     "execution_count": 70,
     "metadata": {},
     "output_type": "execute_result"
    }
   ],
   "source": [
    "# 남자 51,551명\n",
    "# 여자 61,540명\n",
    "\n",
    "basic0720['sex'].value_counts()"
   ]
  },
  {
   "cell_type": "code",
   "execution_count": 89,
   "metadata": {},
   "outputs": [
    {
     "data": {
      "text/plain": [
       "count    105732.000000\n",
       "mean         41.244590\n",
       "std          22.774104\n",
       "min           1.000000\n",
       "25%          22.000000\n",
       "50%          42.000000\n",
       "75%          60.000000\n",
       "max          80.000000\n",
       "Name: age, dtype: float64"
      ]
     },
     "execution_count": 89,
     "metadata": {},
     "output_type": "execute_result"
    }
   ],
   "source": [
    "# 연령대 1 ~ 80\n",
    "# mean 41, std 22\n",
    "\n",
    "basic0719['age'].describe()"
   ]
  },
  {
   "cell_type": "code",
   "execution_count": 71,
   "metadata": {},
   "outputs": [
    {
     "data": {
      "text/plain": [
       "count    113091.000000\n",
       "mean         41.497113\n",
       "std          22.781171\n",
       "min           1.000000\n",
       "25%          22.000000\n",
       "50%          43.000000\n",
       "75%          60.000000\n",
       "max          80.000000\n",
       "Name: age, dtype: float64"
      ]
     },
     "execution_count": 71,
     "metadata": {},
     "output_type": "execute_result"
    }
   ],
   "source": [
    "# 연령대 1 ~ 80\n",
    "# mean 41, std 22\n",
    "\n",
    "basic0720['age'].describe()"
   ]
  },
  {
   "cell_type": "markdown",
   "metadata": {},
   "source": [
    "#### 성별, 연령대별 ABSI mean, std 비교"
   ]
  },
  {
   "cell_type": "code",
   "execution_count": 90,
   "metadata": {},
   "outputs": [
    {
     "data": {
      "text/plain": [
       "count    11361.000000\n",
       "mean       156.872321\n",
       "std         41.128152\n",
       "min         45.336920\n",
       "25%        127.587773\n",
       "50%        162.148550\n",
       "75%        189.765064\n",
       "max        266.730539\n",
       "Name: ABSI, dtype: float64"
      ]
     },
     "execution_count": 90,
     "metadata": {},
     "output_type": "execute_result"
    }
   ],
   "source": [
    "# 20세 미만 남성\n",
    "\n",
    "basic0719.loc[(basic0719['sex'] == 1) & (basic0719['age'] < 20), 'ABSI'].describe()"
   ]
  },
  {
   "cell_type": "code",
   "execution_count": 73,
   "metadata": {},
   "outputs": [
    {
     "data": {
      "text/plain": [
       "count    11862.000000\n",
       "mean       157.661478\n",
       "std         40.817213\n",
       "min         45.336920\n",
       "25%        129.454473\n",
       "50%        163.015035\n",
       "75%        190.093141\n",
       "max        266.730539\n",
       "Name: ABSI, dtype: float64"
      ]
     },
     "execution_count": 73,
     "metadata": {},
     "output_type": "execute_result"
    }
   ],
   "source": [
    "# 20세 미만 남성\n",
    "\n",
    "basic0720.loc[(basic0720['sex'] == 1) & (basic0720['age'] < 20), 'ABSI'].describe()"
   ]
  },
  {
   "cell_type": "code",
   "execution_count": 91,
   "metadata": {},
   "outputs": [
    {
     "data": {
      "text/plain": [
       "count    9461.000000\n",
       "mean      201.291365\n",
       "std        16.065361\n",
       "min        92.004496\n",
       "25%       190.041149\n",
       "50%       200.654995\n",
       "75%       211.504564\n",
       "max       271.086585\n",
       "Name: ABSI, dtype: float64"
      ]
     },
     "execution_count": 91,
     "metadata": {},
     "output_type": "execute_result"
    }
   ],
   "source": [
    "# 20세 이상 40세 미만 남성\n",
    "\n",
    "basic0719.loc[(basic0719['sex'] == 1) & (basic0719['age'] >= 20) & (basic0719['age'] < 40), 'ABSI'].describe()"
   ]
  },
  {
   "cell_type": "code",
   "execution_count": 74,
   "metadata": {},
   "outputs": [
    {
     "data": {
      "text/plain": [
       "count    10177.000000\n",
       "mean       201.457266\n",
       "std         16.043507\n",
       "min         92.004496\n",
       "25%        190.202153\n",
       "50%        200.788905\n",
       "75%        211.678459\n",
       "max        271.086585\n",
       "Name: ABSI, dtype: float64"
      ]
     },
     "execution_count": 74,
     "metadata": {},
     "output_type": "execute_result"
    }
   ],
   "source": [
    "# 20세 이상 40세 미만 남성\n",
    "\n",
    "basic0720.loc[(basic0720['sex'] == 1) & (basic0720['age'] >= 20) & (basic0720['age'] < 40), 'ABSI'].describe()"
   ]
  },
  {
   "cell_type": "code",
   "execution_count": 92,
   "metadata": {},
   "outputs": [
    {
     "data": {
      "text/plain": [
       "count    12325.000000\n",
       "mean       199.893153\n",
       "std         15.914762\n",
       "min        111.205059\n",
       "25%        189.114314\n",
       "50%        199.489850\n",
       "75%        210.180842\n",
       "max        298.829851\n",
       "Name: ABSI, dtype: float64"
      ]
     },
     "execution_count": 92,
     "metadata": {},
     "output_type": "execute_result"
    }
   ],
   "source": [
    "# 40세 이상 60세 미만 남성\n",
    "\n",
    "basic0719.loc[(basic0719['sex'] == 1) & (basic0719['age'] >= 40) & (basic0719['age'] < 60), 'ABSI'].describe()"
   ]
  },
  {
   "cell_type": "code",
   "execution_count": 75,
   "metadata": {},
   "outputs": [
    {
     "data": {
      "text/plain": [
       "count    13224.000000\n",
       "mean       200.203990\n",
       "std         15.988288\n",
       "min        111.205059\n",
       "25%        189.374800\n",
       "50%        199.785725\n",
       "75%        210.603169\n",
       "max        298.829851\n",
       "Name: ABSI, dtype: float64"
      ]
     },
     "execution_count": 75,
     "metadata": {},
     "output_type": "execute_result"
    }
   ],
   "source": [
    "# 40세 이상 60세 미만 남성\n",
    "\n",
    "basic0720.loc[(basic0720['sex'] == 1) & (basic0720['age'] >= 40) & (basic0720['age'] < 60), 'ABSI'].describe()"
   ]
  },
  {
   "cell_type": "code",
   "execution_count": 93,
   "metadata": {},
   "outputs": [
    {
     "data": {
      "text/plain": [
       "count    11125.000000\n",
       "mean       202.083050\n",
       "std         16.409385\n",
       "min        134.768120\n",
       "25%        190.944594\n",
       "50%        201.570261\n",
       "75%        212.450844\n",
       "max        370.244931\n",
       "Name: ABSI, dtype: float64"
      ]
     },
     "execution_count": 93,
     "metadata": {},
     "output_type": "execute_result"
    }
   ],
   "source": [
    "# 60세 이상 80세 이하 남성\n",
    "\n",
    "basic0719.loc[(basic0719['sex'] == 1) & (basic0719['age'] >= 60) & (basic0719['age'] <= 80), 'ABSI'].describe()"
   ]
  },
  {
   "cell_type": "code",
   "execution_count": 76,
   "metadata": {},
   "outputs": [
    {
     "data": {
      "text/plain": [
       "count    12106.000000\n",
       "mean       202.457854\n",
       "std         16.408176\n",
       "min        134.768120\n",
       "25%        191.286295\n",
       "50%        201.922064\n",
       "75%        212.828913\n",
       "max        370.244931\n",
       "Name: ABSI, dtype: float64"
      ]
     },
     "execution_count": 76,
     "metadata": {},
     "output_type": "execute_result"
    }
   ],
   "source": [
    "# 60세 이상 80세 이하 남성\n",
    "\n",
    "basic0720.loc[(basic0720['sex'] == 1) & (basic0720['age'] >= 60) & (basic0720['age'] <= 80), 'ABSI'].describe()"
   ]
  },
  {
   "cell_type": "code",
   "execution_count": 94,
   "metadata": {},
   "outputs": [
    {
     "data": {
      "text/plain": [
       "count    10425.000000\n",
       "mean       149.278784\n",
       "std         35.868245\n",
       "min         51.829609\n",
       "25%        125.403522\n",
       "50%        156.835850\n",
       "75%        175.969305\n",
       "max        275.014846\n",
       "Name: ABSI, dtype: float64"
      ]
     },
     "execution_count": 94,
     "metadata": {},
     "output_type": "execute_result"
    }
   ],
   "source": [
    "# 20세 미만 여성\n",
    "\n",
    "basic0719.loc[(basic0719['sex'] == 2) & (basic0719['age'] < 20), 'ABSI'].describe()"
   ]
  },
  {
   "cell_type": "code",
   "execution_count": 77,
   "metadata": {},
   "outputs": [
    {
     "data": {
      "text/plain": [
       "count    10854.000000\n",
       "mean       149.967438\n",
       "std         35.574097\n",
       "min         51.829609\n",
       "25%        127.219080\n",
       "50%        157.376066\n",
       "75%        176.229763\n",
       "max        275.014846\n",
       "Name: ABSI, dtype: float64"
      ]
     },
     "execution_count": 77,
     "metadata": {},
     "output_type": "execute_result"
    }
   ],
   "source": [
    "# 20세 미만 여성\n",
    "\n",
    "basic0720.loc[(basic0720['sex'] == 2) & (basic0720['age'] < 20), 'ABSI'].describe()"
   ]
  },
  {
   "cell_type": "code",
   "execution_count": 95,
   "metadata": {},
   "outputs": [
    {
     "data": {
      "text/plain": [
       "count    12445.000000\n",
       "mean       181.603724\n",
       "std         16.859798\n",
       "min         60.517296\n",
       "25%        170.255757\n",
       "50%        181.057951\n",
       "75%        192.387563\n",
       "max        258.529875\n",
       "Name: ABSI, dtype: float64"
      ]
     },
     "execution_count": 95,
     "metadata": {},
     "output_type": "execute_result"
    }
   ],
   "source": [
    "# 20세 이상 40세 미만 여성\n",
    "\n",
    "basic0719.loc[(basic0719['sex'] == 2) & (basic0719['age'] >= 20) & (basic0719['age'] < 40), 'ABSI'].describe()"
   ]
  },
  {
   "cell_type": "code",
   "execution_count": 78,
   "metadata": {},
   "outputs": [
    {
     "data": {
      "text/plain": [
       "count    13225.000000\n",
       "mean       181.670660\n",
       "std         16.835336\n",
       "min         60.517296\n",
       "25%        170.330030\n",
       "50%        181.160769\n",
       "75%        192.402504\n",
       "max        258.529875\n",
       "Name: ABSI, dtype: float64"
      ]
     },
     "execution_count": 78,
     "metadata": {},
     "output_type": "execute_result"
    }
   ],
   "source": [
    "# 20세 이상 40세 미만 여성\n",
    "\n",
    "basic0720.loc[(basic0720['sex'] == 2) & (basic0720['age'] >= 20) & (basic0720['age'] < 40), 'ABSI'].describe()"
   ]
  },
  {
   "cell_type": "code",
   "execution_count": 96,
   "metadata": {},
   "outputs": [
    {
     "data": {
      "text/plain": [
       "count    16369.000000\n",
       "mean       176.227027\n",
       "std         15.101636\n",
       "min         99.736336\n",
       "25%        165.933712\n",
       "50%        175.772680\n",
       "75%        185.925592\n",
       "max        266.705047\n",
       "Name: ABSI, dtype: float64"
      ]
     },
     "execution_count": 96,
     "metadata": {},
     "output_type": "execute_result"
    }
   ],
   "source": [
    "# 40세 이상 60세 미만 여성\n",
    "\n",
    "basic0719.loc[(basic0719['sex'] == 2) & (basic0719['age'] >= 40) & (basic0719['age'] < 60), 'ABSI'].describe()"
   ]
  },
  {
   "cell_type": "code",
   "execution_count": 79,
   "metadata": {},
   "outputs": [
    {
     "data": {
      "text/plain": [
       "count    17494.000000\n",
       "mean       176.579741\n",
       "std         15.151306\n",
       "min         99.736336\n",
       "25%        166.226984\n",
       "50%        176.149879\n",
       "75%        186.357136\n",
       "max        266.705047\n",
       "Name: ABSI, dtype: float64"
      ]
     },
     "execution_count": 79,
     "metadata": {},
     "output_type": "execute_result"
    }
   ],
   "source": [
    "# 40세 이상 60세 미만 여성\n",
    "\n",
    "basic0720.loc[(basic0720['sex'] == 2) & (basic0720['age'] >= 40) & (basic0720['age'] < 60), 'ABSI'].describe()"
   ]
  },
  {
   "cell_type": "code",
   "execution_count": 97,
   "metadata": {},
   "outputs": [
    {
     "data": {
      "text/plain": [
       "count    14796.000000\n",
       "mean       174.889770\n",
       "std         15.488326\n",
       "min         89.931549\n",
       "25%        164.397266\n",
       "50%        174.485710\n",
       "75%        184.872866\n",
       "max        255.013609\n",
       "Name: ABSI, dtype: float64"
      ]
     },
     "execution_count": 97,
     "metadata": {},
     "output_type": "execute_result"
    }
   ],
   "source": [
    "# 60세 이상 80세 이하 여성\n",
    "\n",
    "basic0719.loc[(basic0719['sex'] == 2) & (basic0719['age'] >= 60) & (basic0719['age'] <= 80), 'ABSI'].describe()"
   ]
  },
  {
   "cell_type": "code",
   "execution_count": 80,
   "metadata": {},
   "outputs": [
    {
     "data": {
      "text/plain": [
       "count    16049.000000\n",
       "mean       175.341514\n",
       "std         15.494779\n",
       "min         89.931549\n",
       "25%        164.834001\n",
       "50%        174.973616\n",
       "75%        185.400655\n",
       "max        255.013609\n",
       "Name: ABSI, dtype: float64"
      ]
     },
     "execution_count": 80,
     "metadata": {},
     "output_type": "execute_result"
    }
   ],
   "source": [
    "# 60세 이상 80세 이하 여성\n",
    "\n",
    "basic0720.loc[(basic0720['sex'] == 2) & (basic0720['age'] >= 60) & (basic0720['age'] <= 80), 'ABSI'].describe()"
   ]
  },
  {
   "cell_type": "code",
   "execution_count": null,
   "metadata": {},
   "outputs": [],
   "source": []
  }
 ],
 "metadata": {
  "interpreter": {
   "hash": "6d46af94c2bbce495f1e668725902fa517c90b1782bcfe2fce0dd9868df553d3"
  },
  "kernelspec": {
   "display_name": "Python 3.8.8 ('base')",
   "language": "python",
   "name": "python3"
  },
  "language_info": {
   "codemirror_mode": {
    "name": "ipython",
    "version": 3
   },
   "file_extension": ".py",
   "mimetype": "text/x-python",
   "name": "python",
   "nbconvert_exporter": "python",
   "pygments_lexer": "ipython3",
   "version": "3.8.8"
  },
  "orig_nbformat": 4
 },
 "nbformat": 4,
 "nbformat_minor": 2
}

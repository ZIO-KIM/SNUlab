{
 "cells": [
  {
   "cell_type": "markdown",
   "metadata": {},
   "source": [
    "#### IMPORT"
   ]
  },
  {
   "cell_type": "code",
   "execution_count": 1,
   "metadata": {},
   "outputs": [],
   "source": [
    "# 기본\n",
    "import os\n",
    "import pandas as pd\n",
    "import seaborn as sns\n",
    "import matplotlib.pyplot as plt\n",
    "import numpy as np\n",
    "import matplotlib\n",
    "from matplotlib import font_manager, rc\n",
    "import platform\n",
    "from tqdm import tqdm\n",
    "import sklearn\n",
    "from sklearn import linear_model\n",
    "import scipy.stats as stats\n",
    "from sklearn.preprocessing import StandardScaler\n",
    "import statsmodels.api as sm\n",
    "import statsmodels.formula.api as smf\n",
    "from statsmodels.stats.outliers_influence import variance_inflation_factor\n",
    "from patsy import dmatrices\n",
    "from sklearn.model_selection import train_test_split\n",
    "\n",
    "# time\n",
    "import datetime\n",
    "\n",
    "# crawling\n",
    "import requests\n",
    "import lxml.html\n",
    "import sqlite3\n",
    "from pandas.io import sql\n",
    "from bs4 import BeautifulSoup\n",
    "\n",
    "# 한글 폰트 설정\n",
    "if platform.system() == 'Windows':\n",
    "# 윈도우인 경우\n",
    "    font_name = font_manager.FontProperties(fname=\"c:/Windows/Fonts/malgun.ttf\").get_name()\n",
    "    rc('font', family=font_name)"
   ]
  },
  {
   "cell_type": "markdown",
   "metadata": {},
   "source": [
    "#### 변수 목록"
   ]
  },
  {
   "cell_type": "markdown",
   "metadata": {},
   "source": [
    "##### 2016 ~ 2019 모두 있는 변수만\n",
    "\n",
    "1. 신체상에 대한 인식 변수     \n",
    "- \"[PR_HT]1. 평상시 자신의 건강상태가 어떻다고 생각합니까?\n",
    "[1] ① 매우 건강한 편이다\n",
    "[2] ② 건강한 편이다\n",
    "[3] ③ 보통이다\n",
    "[4] ④ 건강하지 못한 편이다\n",
    "[5] ⑤ 매우 건강하지 못한 편이다\"        \n",
    "\n",
    "- \"[PR_BI]2. 자신의 체형이 어떻다고 생각합니까?\n",
    "[1] ① 매우 마른 편이다\n",
    "[2] ② 약간 마른 편이다\n",
    "[3] ③ 보통이다\n",
    "[4] ④ 약간 살이 찐 편이다\n",
    "[5] ⑤ 매우 살이 찐 편이다\"      \n",
    "\n",
    "- \"[WC_MN]17. 최근 30일 동안, 체중을 조절하기 위해 노력한 적이 있습니까?\n",
    "[1] ① 최근 30일 동안 체중을 조절하기 위해 별다른 노력을 하지 않았다 \n",
    "[2] ② 최근 30일 동안 체중을 줄이기 위해 노력했다 \n",
    "[3] ③ 최근 30일 동안 체중을 늘리기 위해 노력했다 \n",
    "[4] ④ 최근 30일 동안 현재 체중을 유지하기 위해 노력했다\"\n",
    "\n",
    "\n",
    "</br>                         \n",
    "                                             \n",
    "\n",
    "2. 우울에 관한 변수        \n",
    "- \"[M_STR]31. 평상시 스트레스를 얼마나 느끼고 있습니까?\n",
    "[1] ① 대단히 많이 느낀다 \n",
    "[2] ② 많이 느낀다   \n",
    "[3] ③ 조금 느낀다   \n",
    "[4] ④ 별로 느끼지 않는다 \n",
    "[5] ⑤ 전혀 느끼지 않는다 \"             \n",
    "\n",
    "- \"[M_SAD]35. 최근 12개월 동안, 2주 내내 일상생활을 중단할 정도로 슬프거나 절망감을 느낀 적이 있었습니까?\n",
    "[1] ① 최근 12개월 동안 없다\n",
    "[2] ② 최근 12개월 동안 있다\"\n",
    "\n",
    "- \"[M_SUI_CON]36. 최근 12개월 동안, 심각하게 자살을 생각한 적이 있었습니까?\n",
    "[1] ① 최근 12개월 동안 없다\n",
    "[2] ② 최근 12개월 동안 있다\"\n",
    "\n",
    "\n",
    "- \"[M_SUI_PLN]37. 최근 12개월 동안, 자살하기 위해 구체적인 계획을 세운 적이 있었습니까?\n",
    "[1] ① 최근 12개월 동안 없다\n",
    "[2] ② 최근 12개월 동안 있다\"\n",
    "\n",
    "\n",
    "- \"[M_SUI_ATT]25. 최근 12개월 동안, 자살을 시도한 적이 있었습니까?\n",
    "[1] ① 최근 12개월 동안 없다\n",
    "[2] ② 최근 12개월 동안 있다\"  \n",
    "\n",
    "- \"[V_TRT]53. 최근 12개월 동안, 친구, 선배, 성인에게 폭력(신체적 폭행, 협박, 따돌림 등 신체․정신 또는 재산상의 피해)을 당해 병원에서 치료를 받은 적이 있습니까?\n",
    "[1] ① 0번\n",
    "[2] ② 1번\n",
    "[3] ③ 2번\n",
    "[4] ④ 3번\n",
    "[5] ⑤ 4번\n",
    "[6] ⑥ 5번\n",
    "[7] ⑦ 6번 이상 \"\n",
    "\n",
    "\n",
    "\n",
    "\n",
    "\n",
    "\n"
   ]
  },
  {
   "cell_type": "markdown",
   "metadata": {},
   "source": [
    "##### 2017 ~ 2020 모두 있는 변수만\n",
    "\n",
    "1. 신체상에 대한 인식 변수    \n",
    "- \"[PR_HT]1. 평상시 자신의 건강상태가 어떻다고 생각합니까?\n",
    "[1] ① 매우 건강한 편이다\n",
    "[2] ② 건강한 편이다\n",
    "[3] ③ 보통이다\n",
    "[4] ④ 건강하지 못한 편이다\n",
    "[5] ⑤ 매우 건강하지 못한 편이다\"           \n",
    "\n",
    "- \"[PR_BI]2. 자신의 체형이 어떻다고 생각합니까?\n",
    "[1] ① 매우 마른 편이다\n",
    "[2] ② 약간 마른 편이다\n",
    "[3] ③ 보통이다\n",
    "[4] ④ 약간 살이 찐 편이다\n",
    "[5] ⑤ 매우 살이 찐 편이다\"             \n",
    "\n",
    "- \"[WC_MN]17. 최근 30일 동안, 체중을 조절하기 위해 노력한 적이 있습니까?\n",
    "[1] ① 최근 30일 동안 체중을 조절하기 위해 별다른 노력을 하지 않았다 \n",
    "[2] ② 최근 30일 동안 체중을 줄이기 위해 노력했다 \n",
    "[3] ③ 최근 30일 동안 체중을 늘리기 위해 노력했다 \n",
    "[4] ④ 최근 30일 동안 현재 체중을 유지하기 위해 노력했다\"\n",
    "\n",
    "\n",
    "\n",
    "</br>\n",
    "\n",
    "\n",
    "\n",
    "2. 우울에 관한 변수   \n",
    "- \"[M_STR]31. 평상시 스트레스를 얼마나 느끼고 있습니까?\n",
    "[1] ① 대단히 많이 느낀다 \n",
    "[2] ② 많이 느낀다   \n",
    "[3] ③ 조금 느낀다   \n",
    "[4] ④ 별로 느끼지 않는다 \n",
    "[5] ⑤ 전혀 느끼지 않는다 \"             \n",
    "\n",
    "- \"[M_SAD]35. 최근 12개월 동안, 2주 내내 일상생활을 중단할 정도로 슬프거나 절망감을 느낀 적이 있었습니까?\n",
    "[1] ① 최근 12개월 동안 없다\n",
    "[2] ② 최근 12개월 동안 있다\"\n",
    "\n",
    "- \"[M_SUI_CON]36. 최근 12개월 동안, 심각하게 자살을 생각한 적이 있었습니까?\n",
    "[1] ① 최근 12개월 동안 없다\n",
    "[2] ② 최근 12개월 동안 있다\"\n",
    "\n",
    "\n",
    "- \"[M_SUI_PLN]37. 최근 12개월 동안, 자살하기 위해 구체적인 계획을 세운 적이 있었습니까?\n",
    "[1] ① 최근 12개월 동안 없다\n",
    "[2] ② 최근 12개월 동안 있다\"\n",
    "\n",
    "\n",
    "- \"[M_SUI_ATT]25. 최근 12개월 동안, 자살을 시도한 적이 있었습니까?\n",
    "[1] ① 최근 12개월 동안 없다\n",
    "[2] ② 최근 12개월 동안 있다\"\n",
    "\n",
    "\n",
    "- \"[V_TRT]53. 최근 12개월 동안, 친구, 선배, 성인에게 폭력(신체적 폭행, 협박, 따돌림 등 신체․정신 또는 재산상의 피해)을 당해 병원에서 치료를 받은 적이 있습니까?\n",
    "[1] ① 0번\n",
    "[2] ② 1번\n",
    "[3] ③ 2번\n",
    "[4] ④ 3번\n",
    "[5] ⑤ 4번\n",
    "[6] ⑥ 5번\n",
    "[7] ⑦ 6번 이상 \"\n",
    "\n",
    "\n",
    "\n",
    "\n",
    "\n"
   ]
  },
  {
   "cell_type": "code",
   "execution_count": null,
   "metadata": {},
   "outputs": [],
   "source": [
    "# ['PR_HT', 'PR_BI', 'WC_MN'] # 신체인식\n",
    "# ['M_STR', 'M_SAD', 'M_SUI_CON', 'M_SUI_PLN', 'M_SUI_ATT', 'V_TRT'] # 우울"
   ]
  },
  {
   "cell_type": "code",
   "execution_count": null,
   "metadata": {},
   "outputs": [],
   "source": [
    "# 불러오는 데 25분 정도 걸림\n",
    "\n",
    "data = pd.read_excel('D:\\\\SNUlab\\\\0. data\\\\질병관리청_청소년건강행태조사\\\\2014_2020 combined.xlsx')\n",
    "data"
   ]
  },
  {
   "cell_type": "code",
   "execution_count": 2,
   "metadata": {},
   "outputs": [
    {
     "data": {
      "text/html": [
       "<div>\n",
       "<style scoped>\n",
       "    .dataframe tbody tr th:only-of-type {\n",
       "        vertical-align: middle;\n",
       "    }\n",
       "\n",
       "    .dataframe tbody tr th {\n",
       "        vertical-align: top;\n",
       "    }\n",
       "\n",
       "    .dataframe thead th {\n",
       "        text-align: right;\n",
       "    }\n",
       "</style>\n",
       "<table border=\"1\" class=\"dataframe\">\n",
       "  <thead>\n",
       "    <tr style=\"text-align: right;\">\n",
       "      <th></th>\n",
       "      <th>OBS</th>\n",
       "      <th>mod_d</th>\n",
       "      <th>YEAR</th>\n",
       "      <th>CITY</th>\n",
       "      <th>CTYPE</th>\n",
       "      <th>CTYPE_SD</th>\n",
       "      <th>MH</th>\n",
       "      <th>SCHOOL</th>\n",
       "      <th>STYPE</th>\n",
       "      <th>STRATA</th>\n",
       "      <th>...</th>\n",
       "      <th>E_FAS1_COM</th>\n",
       "      <th>E_FAS1_BATH</th>\n",
       "      <th>E_FAS1_AIR</th>\n",
       "      <th>AC_AD</th>\n",
       "      <th>AC_POP</th>\n",
       "      <th>COVID_PA</th>\n",
       "      <th>COVID_BR</th>\n",
       "      <th>COVID_AC</th>\n",
       "      <th>COVID_TC</th>\n",
       "      <th>COVID_M</th>\n",
       "    </tr>\n",
       "  </thead>\n",
       "  <tbody>\n",
       "    <tr>\n",
       "      <th>0</th>\n",
       "      <td>A100001</td>\n",
       "      <td>2019.02.01.</td>\n",
       "      <td>2014</td>\n",
       "      <td>서울</td>\n",
       "      <td>대도시</td>\n",
       "      <td>대도시</td>\n",
       "      <td>중학교</td>\n",
       "      <td>중학교</td>\n",
       "      <td>남여공학</td>\n",
       "      <td>2014_74</td>\n",
       "      <td>...</td>\n",
       "      <td>NaN</td>\n",
       "      <td>NaN</td>\n",
       "      <td>NaN</td>\n",
       "      <td>NaN</td>\n",
       "      <td>NaN</td>\n",
       "      <td>NaN</td>\n",
       "      <td>NaN</td>\n",
       "      <td>NaN</td>\n",
       "      <td>NaN</td>\n",
       "      <td>NaN</td>\n",
       "    </tr>\n",
       "    <tr>\n",
       "      <th>1</th>\n",
       "      <td>A100002</td>\n",
       "      <td>2019.02.01.</td>\n",
       "      <td>2014</td>\n",
       "      <td>서울</td>\n",
       "      <td>대도시</td>\n",
       "      <td>대도시</td>\n",
       "      <td>중학교</td>\n",
       "      <td>중학교</td>\n",
       "      <td>남여공학</td>\n",
       "      <td>2014_74</td>\n",
       "      <td>...</td>\n",
       "      <td>NaN</td>\n",
       "      <td>NaN</td>\n",
       "      <td>NaN</td>\n",
       "      <td>NaN</td>\n",
       "      <td>NaN</td>\n",
       "      <td>NaN</td>\n",
       "      <td>NaN</td>\n",
       "      <td>NaN</td>\n",
       "      <td>NaN</td>\n",
       "      <td>NaN</td>\n",
       "    </tr>\n",
       "    <tr>\n",
       "      <th>2</th>\n",
       "      <td>A100003</td>\n",
       "      <td>2019.02.01.</td>\n",
       "      <td>2014</td>\n",
       "      <td>서울</td>\n",
       "      <td>대도시</td>\n",
       "      <td>대도시</td>\n",
       "      <td>중학교</td>\n",
       "      <td>중학교</td>\n",
       "      <td>남여공학</td>\n",
       "      <td>2014_74</td>\n",
       "      <td>...</td>\n",
       "      <td>NaN</td>\n",
       "      <td>NaN</td>\n",
       "      <td>NaN</td>\n",
       "      <td>NaN</td>\n",
       "      <td>NaN</td>\n",
       "      <td>NaN</td>\n",
       "      <td>NaN</td>\n",
       "      <td>NaN</td>\n",
       "      <td>NaN</td>\n",
       "      <td>NaN</td>\n",
       "    </tr>\n",
       "    <tr>\n",
       "      <th>3</th>\n",
       "      <td>A100004</td>\n",
       "      <td>2019.02.01.</td>\n",
       "      <td>2014</td>\n",
       "      <td>서울</td>\n",
       "      <td>대도시</td>\n",
       "      <td>대도시</td>\n",
       "      <td>중학교</td>\n",
       "      <td>중학교</td>\n",
       "      <td>남여공학</td>\n",
       "      <td>2014_74</td>\n",
       "      <td>...</td>\n",
       "      <td>NaN</td>\n",
       "      <td>NaN</td>\n",
       "      <td>NaN</td>\n",
       "      <td>NaN</td>\n",
       "      <td>NaN</td>\n",
       "      <td>NaN</td>\n",
       "      <td>NaN</td>\n",
       "      <td>NaN</td>\n",
       "      <td>NaN</td>\n",
       "      <td>NaN</td>\n",
       "    </tr>\n",
       "    <tr>\n",
       "      <th>4</th>\n",
       "      <td>A100005</td>\n",
       "      <td>2019.02.01.</td>\n",
       "      <td>2014</td>\n",
       "      <td>서울</td>\n",
       "      <td>대도시</td>\n",
       "      <td>대도시</td>\n",
       "      <td>중학교</td>\n",
       "      <td>중학교</td>\n",
       "      <td>남여공학</td>\n",
       "      <td>2014_74</td>\n",
       "      <td>...</td>\n",
       "      <td>NaN</td>\n",
       "      <td>NaN</td>\n",
       "      <td>NaN</td>\n",
       "      <td>NaN</td>\n",
       "      <td>NaN</td>\n",
       "      <td>NaN</td>\n",
       "      <td>NaN</td>\n",
       "      <td>NaN</td>\n",
       "      <td>NaN</td>\n",
       "      <td>NaN</td>\n",
       "    </tr>\n",
       "    <tr>\n",
       "      <th>...</th>\n",
       "      <td>...</td>\n",
       "      <td>...</td>\n",
       "      <td>...</td>\n",
       "      <td>...</td>\n",
       "      <td>...</td>\n",
       "      <td>...</td>\n",
       "      <td>...</td>\n",
       "      <td>...</td>\n",
       "      <td>...</td>\n",
       "      <td>...</td>\n",
       "      <td>...</td>\n",
       "      <td>...</td>\n",
       "      <td>...</td>\n",
       "      <td>...</td>\n",
       "      <td>...</td>\n",
       "      <td>...</td>\n",
       "      <td>...</td>\n",
       "      <td>...</td>\n",
       "      <td>...</td>\n",
       "      <td>...</td>\n",
       "      <td>...</td>\n",
       "    </tr>\n",
       "    <tr>\n",
       "      <th>495041</th>\n",
       "      <td>A154844</td>\n",
       "      <td>2022.05.04.</td>\n",
       "      <td>2021</td>\n",
       "      <td>세종</td>\n",
       "      <td>대도시</td>\n",
       "      <td>대도시</td>\n",
       "      <td>고등학교</td>\n",
       "      <td>NaN</td>\n",
       "      <td>남녀공학</td>\n",
       "      <td>2021_72</td>\n",
       "      <td>...</td>\n",
       "      <td>NaN</td>\n",
       "      <td>NaN</td>\n",
       "      <td>NaN</td>\n",
       "      <td>1.0</td>\n",
       "      <td>1.0</td>\n",
       "      <td>2.0</td>\n",
       "      <td>2.0</td>\n",
       "      <td>1.0</td>\n",
       "      <td>NaN</td>\n",
       "      <td>2.0</td>\n",
       "    </tr>\n",
       "    <tr>\n",
       "      <th>495042</th>\n",
       "      <td>A154845</td>\n",
       "      <td>2022.05.04.</td>\n",
       "      <td>2021</td>\n",
       "      <td>세종</td>\n",
       "      <td>대도시</td>\n",
       "      <td>대도시</td>\n",
       "      <td>고등학교</td>\n",
       "      <td>NaN</td>\n",
       "      <td>남녀공학</td>\n",
       "      <td>2021_72</td>\n",
       "      <td>...</td>\n",
       "      <td>NaN</td>\n",
       "      <td>NaN</td>\n",
       "      <td>NaN</td>\n",
       "      <td>2.0</td>\n",
       "      <td>1.0</td>\n",
       "      <td>4.0</td>\n",
       "      <td>3.0</td>\n",
       "      <td>3.0</td>\n",
       "      <td>3.0</td>\n",
       "      <td>3.0</td>\n",
       "    </tr>\n",
       "    <tr>\n",
       "      <th>495043</th>\n",
       "      <td>A154846</td>\n",
       "      <td>2022.05.04.</td>\n",
       "      <td>2021</td>\n",
       "      <td>세종</td>\n",
       "      <td>대도시</td>\n",
       "      <td>대도시</td>\n",
       "      <td>고등학교</td>\n",
       "      <td>NaN</td>\n",
       "      <td>남녀공학</td>\n",
       "      <td>2021_72</td>\n",
       "      <td>...</td>\n",
       "      <td>NaN</td>\n",
       "      <td>NaN</td>\n",
       "      <td>NaN</td>\n",
       "      <td>1.0</td>\n",
       "      <td>2.0</td>\n",
       "      <td>5.0</td>\n",
       "      <td>5.0</td>\n",
       "      <td>5.0</td>\n",
       "      <td>5.0</td>\n",
       "      <td>5.0</td>\n",
       "    </tr>\n",
       "    <tr>\n",
       "      <th>495044</th>\n",
       "      <td>A154847</td>\n",
       "      <td>2022.05.04.</td>\n",
       "      <td>2021</td>\n",
       "      <td>세종</td>\n",
       "      <td>대도시</td>\n",
       "      <td>대도시</td>\n",
       "      <td>고등학교</td>\n",
       "      <td>NaN</td>\n",
       "      <td>남녀공학</td>\n",
       "      <td>2021_72</td>\n",
       "      <td>...</td>\n",
       "      <td>NaN</td>\n",
       "      <td>NaN</td>\n",
       "      <td>NaN</td>\n",
       "      <td>1.0</td>\n",
       "      <td>1.0</td>\n",
       "      <td>1.0</td>\n",
       "      <td>3.0</td>\n",
       "      <td>3.0</td>\n",
       "      <td>3.0</td>\n",
       "      <td>3.0</td>\n",
       "    </tr>\n",
       "    <tr>\n",
       "      <th>495045</th>\n",
       "      <td>A154848</td>\n",
       "      <td>2022.05.04.</td>\n",
       "      <td>2021</td>\n",
       "      <td>세종</td>\n",
       "      <td>대도시</td>\n",
       "      <td>대도시</td>\n",
       "      <td>고등학교</td>\n",
       "      <td>NaN</td>\n",
       "      <td>남녀공학</td>\n",
       "      <td>2021_72</td>\n",
       "      <td>...</td>\n",
       "      <td>NaN</td>\n",
       "      <td>NaN</td>\n",
       "      <td>NaN</td>\n",
       "      <td>4.0</td>\n",
       "      <td>1.0</td>\n",
       "      <td>4.0</td>\n",
       "      <td>3.0</td>\n",
       "      <td>3.0</td>\n",
       "      <td>3.0</td>\n",
       "      <td>2.0</td>\n",
       "    </tr>\n",
       "  </tbody>\n",
       "</table>\n",
       "<p>495046 rows × 382 columns</p>\n",
       "</div>"
      ],
      "text/plain": [
       "            OBS        mod_d  YEAR CITY CTYPE CTYPE_SD    MH SCHOOL STYPE  \\\n",
       "0       A100001  2019.02.01.  2014   서울   대도시      대도시   중학교    중학교  남여공학   \n",
       "1       A100002  2019.02.01.  2014   서울   대도시      대도시   중학교    중학교  남여공학   \n",
       "2       A100003  2019.02.01.  2014   서울   대도시      대도시   중학교    중학교  남여공학   \n",
       "3       A100004  2019.02.01.  2014   서울   대도시      대도시   중학교    중학교  남여공학   \n",
       "4       A100005  2019.02.01.  2014   서울   대도시      대도시   중학교    중학교  남여공학   \n",
       "...         ...          ...   ...  ...   ...      ...   ...    ...   ...   \n",
       "495041  A154844  2022.05.04.  2021   세종   대도시      대도시  고등학교    NaN  남녀공학   \n",
       "495042  A154845  2022.05.04.  2021   세종   대도시      대도시  고등학교    NaN  남녀공학   \n",
       "495043  A154846  2022.05.04.  2021   세종   대도시      대도시  고등학교    NaN  남녀공학   \n",
       "495044  A154847  2022.05.04.  2021   세종   대도시      대도시  고등학교    NaN  남녀공학   \n",
       "495045  A154848  2022.05.04.  2021   세종   대도시      대도시  고등학교    NaN  남녀공학   \n",
       "\n",
       "         STRATA  ... E_FAS1_COM  E_FAS1_BATH E_FAS1_AIR  AC_AD  AC_POP  \\\n",
       "0       2014_74  ...        NaN          NaN        NaN    NaN     NaN   \n",
       "1       2014_74  ...        NaN          NaN        NaN    NaN     NaN   \n",
       "2       2014_74  ...        NaN          NaN        NaN    NaN     NaN   \n",
       "3       2014_74  ...        NaN          NaN        NaN    NaN     NaN   \n",
       "4       2014_74  ...        NaN          NaN        NaN    NaN     NaN   \n",
       "...         ...  ...        ...          ...        ...    ...     ...   \n",
       "495041  2021_72  ...        NaN          NaN        NaN    1.0     1.0   \n",
       "495042  2021_72  ...        NaN          NaN        NaN    2.0     1.0   \n",
       "495043  2021_72  ...        NaN          NaN        NaN    1.0     2.0   \n",
       "495044  2021_72  ...        NaN          NaN        NaN    1.0     1.0   \n",
       "495045  2021_72  ...        NaN          NaN        NaN    4.0     1.0   \n",
       "\n",
       "        COVID_PA  COVID_BR  COVID_AC  COVID_TC  COVID_M  \n",
       "0            NaN       NaN       NaN       NaN      NaN  \n",
       "1            NaN       NaN       NaN       NaN      NaN  \n",
       "2            NaN       NaN       NaN       NaN      NaN  \n",
       "3            NaN       NaN       NaN       NaN      NaN  \n",
       "4            NaN       NaN       NaN       NaN      NaN  \n",
       "...          ...       ...       ...       ...      ...  \n",
       "495041       2.0       2.0       1.0       NaN      2.0  \n",
       "495042       4.0       3.0       3.0       3.0      3.0  \n",
       "495043       5.0       5.0       5.0       5.0      5.0  \n",
       "495044       1.0       3.0       3.0       3.0      3.0  \n",
       "495045       4.0       3.0       3.0       3.0      2.0  \n",
       "\n",
       "[495046 rows x 382 columns]"
      ]
     },
     "execution_count": 2,
     "metadata": {},
     "output_type": "execute_result"
    }
   ],
   "source": [
    "data2 = pd.read_csv('D:\\\\SNUlab\\\\0. data\\\\질병관리청_청소년건강행태조사\\\\c_health_1420.csv', encoding = 'cp949', low_memory = False)\n",
    "data2"
   ]
  },
  {
   "cell_type": "code",
   "execution_count": 4,
   "metadata": {},
   "outputs": [],
   "source": [
    "df = data2.copy()"
   ]
  },
  {
   "cell_type": "code",
   "execution_count": 5,
   "metadata": {},
   "outputs": [
    {
     "data": {
      "text/plain": [
       "array(['서울', '부산', '대구', '인천', '광주', '대전', '울산', '경기', '강원', '충북', '충남',\n",
       "       '전북', '전남', '경북', '경남', '제주', '세종'], dtype=object)"
      ]
     },
     "execution_count": 5,
     "metadata": {},
     "output_type": "execute_result"
    }
   ],
   "source": [
    "df['CITY'].unique()"
   ]
  },
  {
   "cell_type": "code",
   "execution_count": 6,
   "metadata": {},
   "outputs": [
    {
     "data": {
      "text/plain": [
       "array(['대도시', '군지역', '중소도시'], dtype=object)"
      ]
     },
     "execution_count": 6,
     "metadata": {},
     "output_type": "execute_result"
    }
   ],
   "source": [
    "df['CTYPE'].unique()"
   ]
  },
  {
   "cell_type": "code",
   "execution_count": 7,
   "metadata": {},
   "outputs": [],
   "source": [
    "# 16-19, 17-20 각각 추출 후 df 생성\n",
    "\n",
    "df1619 = df.loc[(df['YEAR'] >= 2016) & (df['YEAR'] <= 2019)].reset_index(drop = True)\n",
    "df1720 = df.loc[(df['YEAR'] >= 2017) & (df['YEAR'] <= 2020)].reset_index(drop = True)\n",
    "\n",
    "# 필요한 열만 추출\n",
    "\n",
    "df1619 = df1619[['OBS', 'YEAR', 'CITY', 'PR_HT', 'PR_BI', 'WC_MN', 'M_STR', 'M_SAD', 'M_SUI_CON', 'M_SUI_PLN', 'M_SUI_ATT', 'V_TRT']]\n",
    "df1720 = df1720[['OBS', 'YEAR', 'CITY', 'PR_HT', 'PR_BI', 'WC_MN', 'M_STR', 'M_SAD', 'M_SUI_CON', 'M_SUI_PLN', 'M_SUI_ATT', 'V_TRT']]"
   ]
  },
  {
   "cell_type": "code",
   "execution_count": 9,
   "metadata": {},
   "outputs": [
    {
     "data": {
      "text/html": [
       "<div>\n",
       "<style scoped>\n",
       "    .dataframe tbody tr th:only-of-type {\n",
       "        vertical-align: middle;\n",
       "    }\n",
       "\n",
       "    .dataframe tbody tr th {\n",
       "        vertical-align: top;\n",
       "    }\n",
       "\n",
       "    .dataframe thead th {\n",
       "        text-align: right;\n",
       "    }\n",
       "</style>\n",
       "<table border=\"1\" class=\"dataframe\">\n",
       "  <thead>\n",
       "    <tr style=\"text-align: right;\">\n",
       "      <th></th>\n",
       "      <th>OBS</th>\n",
       "      <th>CITY</th>\n",
       "      <th>PR_HT</th>\n",
       "      <th>PR_BI</th>\n",
       "      <th>WC_MN</th>\n",
       "      <th>M_STR</th>\n",
       "      <th>M_SAD</th>\n",
       "      <th>M_SUI_CON</th>\n",
       "      <th>M_SUI_PLN</th>\n",
       "      <th>M_SUI_ATT</th>\n",
       "      <th>V_TRT</th>\n",
       "    </tr>\n",
       "    <tr>\n",
       "      <th>YEAR</th>\n",
       "      <th></th>\n",
       "      <th></th>\n",
       "      <th></th>\n",
       "      <th></th>\n",
       "      <th></th>\n",
       "      <th></th>\n",
       "      <th></th>\n",
       "      <th></th>\n",
       "      <th></th>\n",
       "      <th></th>\n",
       "      <th></th>\n",
       "    </tr>\n",
       "  </thead>\n",
       "  <tbody>\n",
       "    <tr>\n",
       "      <th>2016</th>\n",
       "      <td>65528</td>\n",
       "      <td>65528</td>\n",
       "      <td>65528</td>\n",
       "      <td>65528</td>\n",
       "      <td>65528</td>\n",
       "      <td>65528</td>\n",
       "      <td>65528</td>\n",
       "      <td>65528</td>\n",
       "      <td>65528</td>\n",
       "      <td>65528</td>\n",
       "      <td>65528</td>\n",
       "    </tr>\n",
       "    <tr>\n",
       "      <th>2017</th>\n",
       "      <td>62276</td>\n",
       "      <td>62276</td>\n",
       "      <td>62276</td>\n",
       "      <td>62276</td>\n",
       "      <td>62276</td>\n",
       "      <td>62276</td>\n",
       "      <td>62276</td>\n",
       "      <td>62276</td>\n",
       "      <td>62276</td>\n",
       "      <td>62276</td>\n",
       "      <td>62276</td>\n",
       "    </tr>\n",
       "    <tr>\n",
       "      <th>2018</th>\n",
       "      <td>60040</td>\n",
       "      <td>60040</td>\n",
       "      <td>60040</td>\n",
       "      <td>60040</td>\n",
       "      <td>60040</td>\n",
       "      <td>60040</td>\n",
       "      <td>60040</td>\n",
       "      <td>60040</td>\n",
       "      <td>60040</td>\n",
       "      <td>60040</td>\n",
       "      <td>60040</td>\n",
       "    </tr>\n",
       "    <tr>\n",
       "      <th>2019</th>\n",
       "      <td>57303</td>\n",
       "      <td>57303</td>\n",
       "      <td>57303</td>\n",
       "      <td>57303</td>\n",
       "      <td>57303</td>\n",
       "      <td>57303</td>\n",
       "      <td>57303</td>\n",
       "      <td>57303</td>\n",
       "      <td>57303</td>\n",
       "      <td>57303</td>\n",
       "      <td>57303</td>\n",
       "    </tr>\n",
       "  </tbody>\n",
       "</table>\n",
       "</div>"
      ],
      "text/plain": [
       "        OBS   CITY  PR_HT  PR_BI  WC_MN  M_STR  M_SAD  M_SUI_CON  M_SUI_PLN  \\\n",
       "YEAR                                                                          \n",
       "2016  65528  65528  65528  65528  65528  65528  65528      65528      65528   \n",
       "2017  62276  62276  62276  62276  62276  62276  62276      62276      62276   \n",
       "2018  60040  60040  60040  60040  60040  60040  60040      60040      60040   \n",
       "2019  57303  57303  57303  57303  57303  57303  57303      57303      57303   \n",
       "\n",
       "      M_SUI_ATT  V_TRT  \n",
       "YEAR                    \n",
       "2016      65528  65528  \n",
       "2017      62276  62276  \n",
       "2018      60040  60040  \n",
       "2019      57303  57303  "
      ]
     },
     "execution_count": 9,
     "metadata": {},
     "output_type": "execute_result"
    }
   ],
   "source": [
    "df1619.groupby('YEAR').count()"
   ]
  },
  {
   "cell_type": "code",
   "execution_count": 10,
   "metadata": {},
   "outputs": [
    {
     "data": {
      "text/html": [
       "<div>\n",
       "<style scoped>\n",
       "    .dataframe tbody tr th:only-of-type {\n",
       "        vertical-align: middle;\n",
       "    }\n",
       "\n",
       "    .dataframe tbody tr th {\n",
       "        vertical-align: top;\n",
       "    }\n",
       "\n",
       "    .dataframe thead th {\n",
       "        text-align: right;\n",
       "    }\n",
       "</style>\n",
       "<table border=\"1\" class=\"dataframe\">\n",
       "  <thead>\n",
       "    <tr style=\"text-align: right;\">\n",
       "      <th></th>\n",
       "      <th>YEAR</th>\n",
       "      <th>PR_HT</th>\n",
       "      <th>PR_BI</th>\n",
       "      <th>WC_MN</th>\n",
       "      <th>M_STR</th>\n",
       "      <th>M_SAD</th>\n",
       "      <th>M_SUI_CON</th>\n",
       "      <th>M_SUI_PLN</th>\n",
       "      <th>M_SUI_ATT</th>\n",
       "      <th>V_TRT</th>\n",
       "    </tr>\n",
       "  </thead>\n",
       "  <tbody>\n",
       "    <tr>\n",
       "      <th>count</th>\n",
       "      <td>245147.000000</td>\n",
       "      <td>245147.000000</td>\n",
       "      <td>245147.000000</td>\n",
       "      <td>245147.000000</td>\n",
       "      <td>245147.000000</td>\n",
       "      <td>245147.000000</td>\n",
       "      <td>245147.000000</td>\n",
       "      <td>245147.000000</td>\n",
       "      <td>245147.000000</td>\n",
       "      <td>245147.000000</td>\n",
       "    </tr>\n",
       "    <tr>\n",
       "      <th>mean</th>\n",
       "      <td>2017.445113</td>\n",
       "      <td>2.078251</td>\n",
       "      <td>3.157799</td>\n",
       "      <td>1.834410</td>\n",
       "      <td>2.738573</td>\n",
       "      <td>1.262630</td>\n",
       "      <td>1.126059</td>\n",
       "      <td>1.041004</td>\n",
       "      <td>1.027608</td>\n",
       "      <td>1.060641</td>\n",
       "    </tr>\n",
       "    <tr>\n",
       "      <th>std</th>\n",
       "      <td>1.117628</td>\n",
       "      <td>0.879302</td>\n",
       "      <td>0.969760</td>\n",
       "      <td>1.002546</td>\n",
       "      <td>0.976676</td>\n",
       "      <td>0.440064</td>\n",
       "      <td>0.331917</td>\n",
       "      <td>0.198300</td>\n",
       "      <td>0.163847</td>\n",
       "      <td>0.470346</td>\n",
       "    </tr>\n",
       "    <tr>\n",
       "      <th>min</th>\n",
       "      <td>2016.000000</td>\n",
       "      <td>1.000000</td>\n",
       "      <td>1.000000</td>\n",
       "      <td>1.000000</td>\n",
       "      <td>1.000000</td>\n",
       "      <td>1.000000</td>\n",
       "      <td>1.000000</td>\n",
       "      <td>1.000000</td>\n",
       "      <td>1.000000</td>\n",
       "      <td>1.000000</td>\n",
       "    </tr>\n",
       "    <tr>\n",
       "      <th>25%</th>\n",
       "      <td>2016.000000</td>\n",
       "      <td>1.000000</td>\n",
       "      <td>2.000000</td>\n",
       "      <td>1.000000</td>\n",
       "      <td>2.000000</td>\n",
       "      <td>1.000000</td>\n",
       "      <td>1.000000</td>\n",
       "      <td>1.000000</td>\n",
       "      <td>1.000000</td>\n",
       "      <td>1.000000</td>\n",
       "    </tr>\n",
       "    <tr>\n",
       "      <th>50%</th>\n",
       "      <td>2017.000000</td>\n",
       "      <td>2.000000</td>\n",
       "      <td>3.000000</td>\n",
       "      <td>2.000000</td>\n",
       "      <td>3.000000</td>\n",
       "      <td>1.000000</td>\n",
       "      <td>1.000000</td>\n",
       "      <td>1.000000</td>\n",
       "      <td>1.000000</td>\n",
       "      <td>1.000000</td>\n",
       "    </tr>\n",
       "    <tr>\n",
       "      <th>75%</th>\n",
       "      <td>2018.000000</td>\n",
       "      <td>3.000000</td>\n",
       "      <td>4.000000</td>\n",
       "      <td>2.000000</td>\n",
       "      <td>3.000000</td>\n",
       "      <td>2.000000</td>\n",
       "      <td>1.000000</td>\n",
       "      <td>1.000000</td>\n",
       "      <td>1.000000</td>\n",
       "      <td>1.000000</td>\n",
       "    </tr>\n",
       "    <tr>\n",
       "      <th>max</th>\n",
       "      <td>2019.000000</td>\n",
       "      <td>5.000000</td>\n",
       "      <td>5.000000</td>\n",
       "      <td>4.000000</td>\n",
       "      <td>5.000000</td>\n",
       "      <td>2.000000</td>\n",
       "      <td>2.000000</td>\n",
       "      <td>2.000000</td>\n",
       "      <td>2.000000</td>\n",
       "      <td>7.000000</td>\n",
       "    </tr>\n",
       "  </tbody>\n",
       "</table>\n",
       "</div>"
      ],
      "text/plain": [
       "                YEAR          PR_HT          PR_BI          WC_MN  \\\n",
       "count  245147.000000  245147.000000  245147.000000  245147.000000   \n",
       "mean     2017.445113       2.078251       3.157799       1.834410   \n",
       "std         1.117628       0.879302       0.969760       1.002546   \n",
       "min      2016.000000       1.000000       1.000000       1.000000   \n",
       "25%      2016.000000       1.000000       2.000000       1.000000   \n",
       "50%      2017.000000       2.000000       3.000000       2.000000   \n",
       "75%      2018.000000       3.000000       4.000000       2.000000   \n",
       "max      2019.000000       5.000000       5.000000       4.000000   \n",
       "\n",
       "               M_STR          M_SAD      M_SUI_CON      M_SUI_PLN  \\\n",
       "count  245147.000000  245147.000000  245147.000000  245147.000000   \n",
       "mean        2.738573       1.262630       1.126059       1.041004   \n",
       "std         0.976676       0.440064       0.331917       0.198300   \n",
       "min         1.000000       1.000000       1.000000       1.000000   \n",
       "25%         2.000000       1.000000       1.000000       1.000000   \n",
       "50%         3.000000       1.000000       1.000000       1.000000   \n",
       "75%         3.000000       2.000000       1.000000       1.000000   \n",
       "max         5.000000       2.000000       2.000000       2.000000   \n",
       "\n",
       "           M_SUI_ATT          V_TRT  \n",
       "count  245147.000000  245147.000000  \n",
       "mean        1.027608       1.060641  \n",
       "std         0.163847       0.470346  \n",
       "min         1.000000       1.000000  \n",
       "25%         1.000000       1.000000  \n",
       "50%         1.000000       1.000000  \n",
       "75%         1.000000       1.000000  \n",
       "max         2.000000       7.000000  "
      ]
     },
     "execution_count": 10,
     "metadata": {},
     "output_type": "execute_result"
    }
   ],
   "source": [
    "df1619.describe()"
   ]
  },
  {
   "cell_type": "code",
   "execution_count": 11,
   "metadata": {},
   "outputs": [
    {
     "data": {
      "text/html": [
       "<div>\n",
       "<style scoped>\n",
       "    .dataframe tbody tr th:only-of-type {\n",
       "        vertical-align: middle;\n",
       "    }\n",
       "\n",
       "    .dataframe tbody tr th {\n",
       "        vertical-align: top;\n",
       "    }\n",
       "\n",
       "    .dataframe thead th {\n",
       "        text-align: right;\n",
       "    }\n",
       "</style>\n",
       "<table border=\"1\" class=\"dataframe\">\n",
       "  <thead>\n",
       "    <tr style=\"text-align: right;\">\n",
       "      <th></th>\n",
       "      <th>YEAR</th>\n",
       "      <th>PR_HT</th>\n",
       "      <th>PR_BI</th>\n",
       "      <th>WC_MN</th>\n",
       "      <th>M_STR</th>\n",
       "      <th>M_SAD</th>\n",
       "      <th>M_SUI_CON</th>\n",
       "      <th>M_SUI_PLN</th>\n",
       "      <th>M_SUI_ATT</th>\n",
       "      <th>V_TRT</th>\n",
       "    </tr>\n",
       "  </thead>\n",
       "  <tbody>\n",
       "    <tr>\n",
       "      <th>count</th>\n",
       "      <td>234567.000000</td>\n",
       "      <td>234567.000000</td>\n",
       "      <td>234567.000000</td>\n",
       "      <td>234567.000000</td>\n",
       "      <td>234567.000000</td>\n",
       "      <td>234567.000000</td>\n",
       "      <td>234567.000000</td>\n",
       "      <td>234567.000000</td>\n",
       "      <td>234567.000000</td>\n",
       "      <td>234567.000000</td>\n",
       "    </tr>\n",
       "    <tr>\n",
       "      <th>mean</th>\n",
       "      <td>2018.447305</td>\n",
       "      <td>2.085106</td>\n",
       "      <td>3.165330</td>\n",
       "      <td>1.849506</td>\n",
       "      <td>2.752229</td>\n",
       "      <td>1.262987</td>\n",
       "      <td>1.123790</td>\n",
       "      <td>1.039950</td>\n",
       "      <td>1.027110</td>\n",
       "      <td>1.054002</td>\n",
       "    </tr>\n",
       "    <tr>\n",
       "      <th>std</th>\n",
       "      <td>1.116567</td>\n",
       "      <td>0.889546</td>\n",
       "      <td>0.970176</td>\n",
       "      <td>1.000696</td>\n",
       "      <td>0.973758</td>\n",
       "      <td>0.440256</td>\n",
       "      <td>0.329342</td>\n",
       "      <td>0.195843</td>\n",
       "      <td>0.162403</td>\n",
       "      <td>0.444199</td>\n",
       "    </tr>\n",
       "    <tr>\n",
       "      <th>min</th>\n",
       "      <td>2017.000000</td>\n",
       "      <td>1.000000</td>\n",
       "      <td>1.000000</td>\n",
       "      <td>1.000000</td>\n",
       "      <td>1.000000</td>\n",
       "      <td>1.000000</td>\n",
       "      <td>1.000000</td>\n",
       "      <td>1.000000</td>\n",
       "      <td>1.000000</td>\n",
       "      <td>1.000000</td>\n",
       "    </tr>\n",
       "    <tr>\n",
       "      <th>25%</th>\n",
       "      <td>2017.000000</td>\n",
       "      <td>1.000000</td>\n",
       "      <td>3.000000</td>\n",
       "      <td>1.000000</td>\n",
       "      <td>2.000000</td>\n",
       "      <td>1.000000</td>\n",
       "      <td>1.000000</td>\n",
       "      <td>1.000000</td>\n",
       "      <td>1.000000</td>\n",
       "      <td>1.000000</td>\n",
       "    </tr>\n",
       "    <tr>\n",
       "      <th>50%</th>\n",
       "      <td>2018.000000</td>\n",
       "      <td>2.000000</td>\n",
       "      <td>3.000000</td>\n",
       "      <td>2.000000</td>\n",
       "      <td>3.000000</td>\n",
       "      <td>1.000000</td>\n",
       "      <td>1.000000</td>\n",
       "      <td>1.000000</td>\n",
       "      <td>1.000000</td>\n",
       "      <td>1.000000</td>\n",
       "    </tr>\n",
       "    <tr>\n",
       "      <th>75%</th>\n",
       "      <td>2019.000000</td>\n",
       "      <td>3.000000</td>\n",
       "      <td>4.000000</td>\n",
       "      <td>2.000000</td>\n",
       "      <td>3.000000</td>\n",
       "      <td>2.000000</td>\n",
       "      <td>1.000000</td>\n",
       "      <td>1.000000</td>\n",
       "      <td>1.000000</td>\n",
       "      <td>1.000000</td>\n",
       "    </tr>\n",
       "    <tr>\n",
       "      <th>max</th>\n",
       "      <td>2020.000000</td>\n",
       "      <td>5.000000</td>\n",
       "      <td>5.000000</td>\n",
       "      <td>4.000000</td>\n",
       "      <td>5.000000</td>\n",
       "      <td>2.000000</td>\n",
       "      <td>2.000000</td>\n",
       "      <td>2.000000</td>\n",
       "      <td>2.000000</td>\n",
       "      <td>7.000000</td>\n",
       "    </tr>\n",
       "  </tbody>\n",
       "</table>\n",
       "</div>"
      ],
      "text/plain": [
       "                YEAR          PR_HT          PR_BI          WC_MN  \\\n",
       "count  234567.000000  234567.000000  234567.000000  234567.000000   \n",
       "mean     2018.447305       2.085106       3.165330       1.849506   \n",
       "std         1.116567       0.889546       0.970176       1.000696   \n",
       "min      2017.000000       1.000000       1.000000       1.000000   \n",
       "25%      2017.000000       1.000000       3.000000       1.000000   \n",
       "50%      2018.000000       2.000000       3.000000       2.000000   \n",
       "75%      2019.000000       3.000000       4.000000       2.000000   \n",
       "max      2020.000000       5.000000       5.000000       4.000000   \n",
       "\n",
       "               M_STR          M_SAD      M_SUI_CON      M_SUI_PLN  \\\n",
       "count  234567.000000  234567.000000  234567.000000  234567.000000   \n",
       "mean        2.752229       1.262987       1.123790       1.039950   \n",
       "std         0.973758       0.440256       0.329342       0.195843   \n",
       "min         1.000000       1.000000       1.000000       1.000000   \n",
       "25%         2.000000       1.000000       1.000000       1.000000   \n",
       "50%         3.000000       1.000000       1.000000       1.000000   \n",
       "75%         3.000000       2.000000       1.000000       1.000000   \n",
       "max         5.000000       2.000000       2.000000       2.000000   \n",
       "\n",
       "           M_SUI_ATT          V_TRT  \n",
       "count  234567.000000  234567.000000  \n",
       "mean        1.027110       1.054002  \n",
       "std         0.162403       0.444199  \n",
       "min         1.000000       1.000000  \n",
       "25%         1.000000       1.000000  \n",
       "50%         1.000000       1.000000  \n",
       "75%         1.000000       1.000000  \n",
       "max         2.000000       7.000000  "
      ]
     },
     "execution_count": 11,
     "metadata": {},
     "output_type": "execute_result"
    }
   ],
   "source": [
    "df1720.describe()"
   ]
  },
  {
   "cell_type": "code",
   "execution_count": 12,
   "metadata": {},
   "outputs": [],
   "source": [
    "# '신체상에 관한 인식' 변수 3개 -> 1개로 만들기 (16-19)\n",
    "\n",
    "# 건강하다고 생각하는 군 - body_new == 1\n",
    "    # 평상시 건강상태 '매우 건강' or '건강' or '보통' 이라고 생각\n",
    "    # 자신의 체형 '약간 마른 편' or '보통' or '약간 살찐 편' 이라고 생각\n",
    "    # 최근 30일 동안, 체중을 조절하기 위해 '별다른 노력을 하지 않음' or '현재 체중을 유지하기 위해 노력'\n",
    "df1619.loc[((df1619['PR_HT'] == 1) | (df1619['PR_HT'] == 2) | (df1619['PR_HT'] == 3)) & ((df1619['PR_BI'] == 2) | (df1619['PR_BI'] == 3) | (df1619['PR_BI'] == 4)) & ((df1619['WC_MN'] == 1) | (df1619['WC_MN'] == 4)), 'body_new'] = 1\n",
    "\n",
    "# 건강하지 않다고 생각하는 군 - body_new == 2\n",
    "    # 평상시 건강상태 '건강하지 못한 편' or '매우 건강하지 못한 편' 이라고 생각\n",
    "    # 자신의 체형 '매우 마른 편' or '매우 살이 찐 편' 이라고 생각\n",
    "    # 최근 30일 동안, 체중을 조절하기 위해 '줄이기 위해 노력' or '늘리기 위해 노력'\n",
    "df1619.loc[((df1619['PR_HT'] == 4) | (df1619['PR_HT'] == 5)) & ((df1619['PR_BI'] == 1) | (df1619['PR_BI'] == 5)) & ((df1619['WC_MN'] == 2) | (df1619['WC_MN'] == 3)), 'body_new'] = 2\n"
   ]
  },
  {
   "cell_type": "code",
   "execution_count": 13,
   "metadata": {},
   "outputs": [],
   "source": [
    "# '신체상에 관한 인식' 변수 3개 -> 1개로 만들기 (17-20)\n",
    "\n",
    "# 건강하다고 생각하는 군 - body_new == 1\n",
    "    # 평상시 건강상태 '매우 건강' or '건강' or '보통' 이라고 생각\n",
    "    # 자신의 체형 '약간 마른 편' or '보통' or '약간 살찐 편' 이라고 생각\n",
    "    # 최근 30일 동안, 체중을 조절하기 위해 '별다른 노력을 하지 않음' or '현재 체중을 유지하기 위해 노력'\n",
    "df1720.loc[((df1720['PR_HT'] == 1) | (df1720['PR_HT'] == 2) | (df1720['PR_HT'] == 3)) & ((df1720['PR_BI'] == 2) | (df1720['PR_BI'] == 3) | (df1720['PR_BI'] == 4)) & ((df1720['WC_MN'] == 1) | (df1720['WC_MN'] == 4)), 'body_new'] = 1\n",
    "\n",
    "# 건강하지 않다고 생각하는 군 - body_new == 2\n",
    "    # 평상시 건강상태 '건강하지 못한 편' or '매우 건강하지 못한 편' 이라고 생각\n",
    "    # 자신의 체형 '매우 마른 편' or '매우 살이 찐 편' 이라고 생각\n",
    "    # 최근 30일 동안, 체중을 조절하기 위해 '줄이기 위해 노력' or '늘리기 위해 노력'\n",
    "df1720.loc[((df1720['PR_HT'] == 4) | (df1720['PR_HT'] == 5)) & ((df1720['PR_BI'] == 1) | (df1720['PR_BI'] == 5)) & ((df1720['WC_MN'] == 2) | (df1720['WC_MN'] == 3)), 'body_new'] = 2\n"
   ]
  },
  {
   "cell_type": "code",
   "execution_count": 14,
   "metadata": {},
   "outputs": [
    {
     "data": {
      "text/plain": [
       "1.0    125981\n",
       "2.0      1894\n",
       "Name: body_new, dtype: int64"
      ]
     },
     "execution_count": 14,
     "metadata": {},
     "output_type": "execute_result"
    }
   ],
   "source": [
    "df1619['body_new'].value_counts()"
   ]
  },
  {
   "cell_type": "code",
   "execution_count": 15,
   "metadata": {},
   "outputs": [
    {
     "data": {
      "text/plain": [
       "1.0    117641\n",
       "2.0      1992\n",
       "Name: body_new, dtype: int64"
      ]
     },
     "execution_count": 15,
     "metadata": {},
     "output_type": "execute_result"
    }
   ],
   "source": [
    "df1720['body_new'].value_counts()"
   ]
  },
  {
   "cell_type": "code",
   "execution_count": 16,
   "metadata": {},
   "outputs": [],
   "source": [
    "# '우울' 관련 변수 6개 -> 1개로 만들기 (16-19)\n",
    "\n",
    "# 우울을 느끼지 않는 군 - depression == 1\n",
    "    # 평상시 스트레스를 '조금 느낀다' or '별로 느끼지 않는다' or '전혀 느끼지 않는다'\n",
    "    # 최근 12개월 동안, 2주 내내 일상생활을 중단할 정도로 슬프거나 절망감을 느낀 적이 '없다' \n",
    "    # 최근 12개월 동안, 심각하게 자살을 생각한 적이 '없다' \n",
    "    # 최근 12개월 동안, 자살하기 위해 구체적인 계획을 세운 적이 '없다' \n",
    "    # 최근 12개월 동안, 자살을 시도한 적이 '없다' \n",
    "    # 최근 12개월 동안, 친구, 선배, 성인에게 폭력(신체적 폭행, 협박, 따돌림 등 신체․정신 또는 재산상의 피해)을 당해 병원에서 치료를 받은 적이 '0번' \n",
    "df1619.loc[((df1619['M_STR'] == 3) | (df1619['M_STR'] == 4) | (df1619['M_STR'] == 5)) & (df1619['M_SAD'] == 1) & (df1619['M_SUI_CON'] == 1) & (df1619['M_SUI_PLN'] == 1) & (df1619['M_SUI_ATT'] == 1) & (df1619['V_TRT'] == 1), 'depression'] = 1\n",
    "\n",
    "# 우울을 느끼는 군 - depression == 2\n",
    "    # 평상시 스트레스를 '대단히 많이 느낀다' or '많이 느낀다'\n",
    "    # 최근 12개월 동안, 2주 내내 일상생활을 중단할 정도로 슬프거나 절망감을 느낀 적이 '있다' \n",
    "    # 최근 12개월 동안, 심각하게 자살을 생각한 적이 '있다' \n",
    "    # 최근 12개월 동안, 자살하기 위해 구체적인 계획을 세운 적이 '있다' \n",
    "    # 최근 12개월 동안, 자살을 시도한 적이 '있다' \n",
    "    # 최근 12개월 동안, 친구, 선배, 성인에게 폭력(신체적 폭행, 협박, 따돌림 등 신체․정신 또는 재산상의 피해)을 당해 병원에서 치료를 받은 적이 '1번 이상'\n",
    "df1619.loc[((df1619['M_STR'] == 1) | (df1619['M_STR'] == 2)) & (df1619['M_SAD'] == 2) & (df1619['M_SUI_CON'] == 2) & (df1619['M_SUI_PLN'] == 2) & (df1619['M_SUI_ATT'] == 2) & (df1619['V_TRT'] >= 2), 'depression'] = 2"
   ]
  },
  {
   "cell_type": "code",
   "execution_count": 17,
   "metadata": {},
   "outputs": [],
   "source": [
    "# '우울' 관련 변수 6개 -> 1개로 만들기 (17-20)\n",
    "\n",
    "# 우울을 느끼지 않는 군 - depression == 1\n",
    "    # 평상시 스트레스를 '조금 느낀다' or '별로 느끼지 않는다' or '전혀 느끼지 않는다'\n",
    "    # 최근 12개월 동안, 2주 내내 일상생활을 중단할 정도로 슬프거나 절망감을 느낀 적이 '없다' \n",
    "    # 최근 12개월 동안, 심각하게 자살을 생각한 적이 '없다' \n",
    "    # 최근 12개월 동안, 자살하기 위해 구체적인 계획을 세운 적이 '없다' \n",
    "    # 최근 12개월 동안, 자살을 시도한 적이 '없다' \n",
    "    # 최근 12개월 동안, 친구, 선배, 성인에게 폭력(신체적 폭행, 협박, 따돌림 등 신체․정신 또는 재산상의 피해)을 당해 병원에서 치료를 받은 적이 '0번' \n",
    "df1720.loc[((df1720['M_STR'] == 3) | (df1720['M_STR'] == 4) | (df1720['M_STR'] == 5)) & (df1720['M_SAD'] == 1) & (df1720['M_SUI_CON'] == 1) & (df1720['M_SUI_PLN'] == 1) & (df1720['M_SUI_ATT'] == 1) & (df1720['V_TRT'] == 1), 'depression'] = 1\n",
    "\n",
    "# 우울을 느끼는 군 - depression == 2\n",
    "    # 평상시 스트레스를 '대단히 많이 느낀다' or '많이 느낀다'\n",
    "    # 최근 12개월 동안, 2주 내내 일상생활을 중단할 정도로 슬프거나 절망감을 느낀 적이 '있다' \n",
    "    # 최근 12개월 동안, 심각하게 자살을 생각한 적이 '있다' \n",
    "    # 최근 12개월 동안, 자살하기 위해 구체적인 계획을 세운 적이 '있다' \n",
    "    # 최근 12개월 동안, 자살을 시도한 적이 '있다' \n",
    "    # 최근 12개월 동안, 친구, 선배, 성인에게 폭력(신체적 폭행, 협박, 따돌림 등 신체․정신 또는 재산상의 피해)을 당해 병원에서 치료를 받은 적이 '1번 이상'\n",
    "df1720.loc[((df1720['M_STR'] == 1) | (df1720['M_STR'] == 2)) & (df1720['M_SAD'] == 2) & (df1720['M_SUI_CON'] == 2) & (df1720['M_SUI_PLN'] == 2) & (df1720['M_SUI_ATT'] == 2) & (df1720['V_TRT'] >= 2), 'depression'] = 2"
   ]
  },
  {
   "cell_type": "code",
   "execution_count": 18,
   "metadata": {},
   "outputs": [
    {
     "data": {
      "text/plain": [
       "1.0    124718\n",
       "2.0       461\n",
       "Name: depression, dtype: int64"
      ]
     },
     "execution_count": 18,
     "metadata": {},
     "output_type": "execute_result"
    }
   ],
   "source": [
    "df1619['depression'].value_counts()"
   ]
  },
  {
   "cell_type": "code",
   "execution_count": 19,
   "metadata": {},
   "outputs": [
    {
     "data": {
      "text/plain": [
       "1.0    120807\n",
       "2.0       416\n",
       "Name: depression, dtype: int64"
      ]
     },
     "execution_count": 19,
     "metadata": {},
     "output_type": "execute_result"
    }
   ],
   "source": [
    "df1720['depression'].value_counts()"
   ]
  },
  {
   "cell_type": "code",
   "execution_count": 20,
   "metadata": {},
   "outputs": [],
   "source": [
    "df1619_bodydep = df1619[['YEAR', 'body_new', 'depression']]\n",
    "df1720_bodydep = df1720[['YEAR', 'body_new', 'depression']]"
   ]
  },
  {
   "cell_type": "code",
   "execution_count": 21,
   "metadata": {},
   "outputs": [],
   "source": [
    "df1619_bodydep_mean = pd.DataFrame(df1619_bodydep.groupby('YEAR').mean())\n",
    "df1720_bodydep_mean = pd.DataFrame(df1720_bodydep.groupby('YEAR').mean())"
   ]
  },
  {
   "cell_type": "code",
   "execution_count": 22,
   "metadata": {},
   "outputs": [
    {
     "data": {
      "text/html": [
       "<div>\n",
       "<style scoped>\n",
       "    .dataframe tbody tr th:only-of-type {\n",
       "        vertical-align: middle;\n",
       "    }\n",
       "\n",
       "    .dataframe tbody tr th {\n",
       "        vertical-align: top;\n",
       "    }\n",
       "\n",
       "    .dataframe thead th {\n",
       "        text-align: right;\n",
       "    }\n",
       "</style>\n",
       "<table border=\"1\" class=\"dataframe\">\n",
       "  <thead>\n",
       "    <tr style=\"text-align: right;\">\n",
       "      <th></th>\n",
       "      <th>body_new</th>\n",
       "      <th>depression</th>\n",
       "    </tr>\n",
       "    <tr>\n",
       "      <th>YEAR</th>\n",
       "      <th></th>\n",
       "      <th></th>\n",
       "    </tr>\n",
       "  </thead>\n",
       "  <tbody>\n",
       "    <tr>\n",
       "      <th>2016</th>\n",
       "      <td>1.012743</td>\n",
       "      <td>1.003134</td>\n",
       "    </tr>\n",
       "    <tr>\n",
       "      <th>2017</th>\n",
       "      <td>1.014431</td>\n",
       "      <td>1.003408</td>\n",
       "    </tr>\n",
       "    <tr>\n",
       "      <th>2018</th>\n",
       "      <td>1.015302</td>\n",
       "      <td>1.004152</td>\n",
       "    </tr>\n",
       "    <tr>\n",
       "      <th>2019</th>\n",
       "      <td>1.017215</td>\n",
       "      <td>1.004160</td>\n",
       "    </tr>\n",
       "  </tbody>\n",
       "</table>\n",
       "</div>"
      ],
      "text/plain": [
       "      body_new  depression\n",
       "YEAR                      \n",
       "2016  1.012743    1.003134\n",
       "2017  1.014431    1.003408\n",
       "2018  1.015302    1.004152\n",
       "2019  1.017215    1.004160"
      ]
     },
     "execution_count": 22,
     "metadata": {},
     "output_type": "execute_result"
    }
   ],
   "source": [
    "df1619_bodydep_mean"
   ]
  },
  {
   "cell_type": "code",
   "execution_count": 23,
   "metadata": {},
   "outputs": [
    {
     "data": {
      "text/html": [
       "<div>\n",
       "<style scoped>\n",
       "    .dataframe tbody tr th:only-of-type {\n",
       "        vertical-align: middle;\n",
       "    }\n",
       "\n",
       "    .dataframe tbody tr th {\n",
       "        vertical-align: top;\n",
       "    }\n",
       "\n",
       "    .dataframe thead th {\n",
       "        text-align: right;\n",
       "    }\n",
       "</style>\n",
       "<table border=\"1\" class=\"dataframe\">\n",
       "  <thead>\n",
       "    <tr style=\"text-align: right;\">\n",
       "      <th></th>\n",
       "      <th>body_new</th>\n",
       "      <th>depression</th>\n",
       "    </tr>\n",
       "    <tr>\n",
       "      <th>YEAR</th>\n",
       "      <th></th>\n",
       "      <th></th>\n",
       "    </tr>\n",
       "  </thead>\n",
       "  <tbody>\n",
       "    <tr>\n",
       "      <th>2017</th>\n",
       "      <td>1.014431</td>\n",
       "      <td>1.003408</td>\n",
       "    </tr>\n",
       "    <tr>\n",
       "      <th>2018</th>\n",
       "      <td>1.015302</td>\n",
       "      <td>1.004152</td>\n",
       "    </tr>\n",
       "    <tr>\n",
       "      <th>2019</th>\n",
       "      <td>1.017215</td>\n",
       "      <td>1.004160</td>\n",
       "    </tr>\n",
       "    <tr>\n",
       "      <th>2020</th>\n",
       "      <td>1.020222</td>\n",
       "      <td>1.002054</td>\n",
       "    </tr>\n",
       "  </tbody>\n",
       "</table>\n",
       "</div>"
      ],
      "text/plain": [
       "      body_new  depression\n",
       "YEAR                      \n",
       "2017  1.014431    1.003408\n",
       "2018  1.015302    1.004152\n",
       "2019  1.017215    1.004160\n",
       "2020  1.020222    1.002054"
      ]
     },
     "execution_count": 23,
     "metadata": {},
     "output_type": "execute_result"
    }
   ],
   "source": [
    "df1720_bodydep_mean"
   ]
  },
  {
   "cell_type": "markdown",
   "metadata": {},
   "source": [
    "cov matrix"
   ]
  },
  {
   "cell_type": "code",
   "execution_count": 48,
   "metadata": {},
   "outputs": [
    {
     "name": "stdout",
     "output_type": "stream",
     "text": [
      "35391\n",
      "32362\n",
      "30846\n",
      "29276\n",
      "29276\n",
      "29276\n",
      "29276\n",
      "29276\n"
     ]
    }
   ],
   "source": [
    "# body_new\n",
    "body_new_16 = df1619.loc[df1619['YEAR'] == 2016, 'body_new'].dropna().reset_index(drop = True).tolist()\n",
    "body_new_17 = df1619.loc[df1619['YEAR'] == 2017, 'body_new'].dropna().reset_index(drop = True).tolist()\n",
    "body_new_18 = df1619.loc[df1619['YEAR'] == 2018, 'body_new'].dropna().reset_index(drop = True).tolist()\n",
    "body_new_19 = df1619.loc[df1619['YEAR'] == 2019, 'body_new'].dropna().reset_index(drop = True).tolist()\n",
    "\n",
    "print(len(body_new_16))\n",
    "print(len(body_new_17))\n",
    "print(len(body_new_18))\n",
    "print(len(body_new_19))\n",
    "\n",
    "# 가장 적은 body_new_19에 맞춰서 랜덤샘플링\n",
    "\n",
    "import random\n",
    "\n",
    "body_new_16_sample = random.choices(body_new_16, k=len(body_new_19))\n",
    "body_new_17_sample = random.choices(body_new_17, k=len(body_new_19))\n",
    "body_new_18_sample = random.choices(body_new_18, k=len(body_new_19))\n",
    "\n",
    "print(len(body_new_16_sample))\n",
    "print(len(body_new_17_sample))\n",
    "print(len(body_new_18_sample))\n",
    "print(len(body_new_19))\n",
    "\n",
    "x = [sum(body_new_16_sample), sum(body_new_17_sample), sum(body_new_18_sample), sum(body_new_19)]"
   ]
  },
  {
   "cell_type": "code",
   "execution_count": 50,
   "metadata": {},
   "outputs": [
    {
     "data": {
      "text/plain": [
       "[29664.0, 29675.0, 29712.0, 29780.0]"
      ]
     },
     "execution_count": 50,
     "metadata": {},
     "output_type": "execute_result"
    }
   ],
   "source": [
    "x"
   ]
  },
  {
   "cell_type": "code",
   "execution_count": 52,
   "metadata": {},
   "outputs": [
    {
     "data": {
      "text/plain": [
       "array([[2741.58333333, 2741.58333333],\n",
       "       [2741.58333333, 2741.58333333]])"
      ]
     },
     "execution_count": 52,
     "metadata": {},
     "output_type": "execute_result"
    }
   ],
   "source": [
    "np.cov(x, x)"
   ]
  },
  {
   "cell_type": "code",
   "execution_count": 30,
   "metadata": {},
   "outputs": [
    {
     "data": {
      "image/png": "[encoded data removed]",
      "text/plain": [
       "<Figure size 432x288 with 2 Axes>"
      ]
     },
     "metadata": {
      "needs_background": "light"
     },
     "output_type": "display_data"
    }
   ],
   "source": [
    "import seaborn as sns\n",
    "import matplotlib.pyplot as plt\n",
    "\n",
    "cov = np.cov(x, bias=True)\n",
    "labs = ['body_16', 'body_17', 'body_18', 'body_19']\n",
    "\n",
    "sns.heatmap(cov, annot=True, fmt='g', xticklabels=labs, yticklabels=labs)\n",
    "plt.show()"
   ]
  },
  {
   "cell_type": "code",
   "execution_count": 31,
   "metadata": {},
   "outputs": [],
   "source": [
    "# body_new 17-20\n",
    "body_new_17 = df1720.loc[df1720['YEAR'] == 2017, 'body_new'].dropna().reset_index(drop = True).tolist()\n",
    "body_new_18 = df1720.loc[df1720['YEAR'] == 2018, 'body_new'].dropna().reset_index(drop = True).tolist()\n",
    "body_new_19 = df1720.loc[df1720['YEAR'] == 2019, 'body_new'].dropna().reset_index(drop = True).tolist()\n",
    "body_new_20 = df1720.loc[df1720['YEAR'] == 2020, 'body_new'].dropna().reset_index(drop = True).tolist()\n",
    "\n",
    "print(len(body_new_17))\n",
    "print(len(body_new_18))\n",
    "print(len(body_new_19))\n",
    "print(len(body_new_20))\n",
    "\n",
    "# 가장 적은 body_new_20에 맞춰서 랜덤샘플링\n",
    "\n",
    "import random\n",
    "\n",
    "body_new_17_sample = random.choices(body_new_17, k=len(body_new_20))\n",
    "body_new_18_sample = random.choices(body_new_18, k=len(body_new_20))\n",
    "body_new_19_sample = random.choices(body_new_19, k=len(body_new_20))\n",
    "\n",
    "print(len(body_new_17_sample))\n",
    "print(len(body_new_18_sample))\n",
    "print(len(body_new_19_sample))\n",
    "print(len(body_new_20))\n",
    "\n",
    "x = [body_new_17_sample, body_new_18_sample, body_new_19_sample, body_new_20]"
   ]
  },
  {
   "cell_type": "code",
   "execution_count": 36,
   "metadata": {},
   "outputs": [
    {
     "data": {
      "text/plain": [
       "array([[ 1.35149107e-02, -7.47366783e-05, -4.64818071e-05,\n",
       "        -9.29161270e-05],\n",
       "       [-7.47366783e-05,  1.59447835e-02, -5.18098685e-05,\n",
       "         4.06083215e-05],\n",
       "       [-4.64818071e-05, -5.18098685e-05,  1.65502911e-02,\n",
       "        -8.88959982e-06],\n",
       "       [-9.29161270e-05,  4.06083215e-05, -8.88959982e-06,\n",
       "         1.98135504e-02]])"
      ]
     },
     "execution_count": 36,
     "metadata": {},
     "output_type": "execute_result"
    }
   ],
   "source": [
    "np.cov(x)"
   ]
  },
  {
   "cell_type": "code",
   "execution_count": 37,
   "metadata": {},
   "outputs": [
    {
     "data": {
      "image/png": "[encoded data removed]",
      "text/plain": [
       "<Figure size 432x288 with 2 Axes>"
      ]
     },
     "metadata": {
      "needs_background": "light"
     },
     "output_type": "display_data"
    }
   ],
   "source": [
    "import seaborn as sns\n",
    "import matplotlib.pyplot as plt\n",
    "\n",
    "cov = np.cov(x, bias=True)\n",
    "labs = ['body_17', 'body_18', 'body_19', 'body_20']\n",
    "\n",
    "sns.heatmap(cov, annot=True, fmt='g', xticklabels=labs, yticklabels=labs)\n",
    "plt.show()"
   ]
  },
  {
   "cell_type": "code",
   "execution_count": 39,
   "metadata": {},
   "outputs": [
    {
     "name": "stdout",
     "output_type": "stream",
     "text": [
      "34139\n",
      "32573\n",
      "30103\n",
      "28364\n",
      "28364\n",
      "28364\n",
      "28364\n",
      "28364\n"
     ]
    }
   ],
   "source": [
    "# depression 16-19\n",
    "depression_16 = df1619.loc[df1619['YEAR'] == 2016, 'depression'].dropna().reset_index(drop = True).tolist()\n",
    "depression_17 = df1619.loc[df1619['YEAR'] == 2017, 'depression'].dropna().reset_index(drop = True).tolist()\n",
    "depression_18 = df1619.loc[df1619['YEAR'] == 2018, 'depression'].dropna().reset_index(drop = True).tolist()\n",
    "depression_19 = df1619.loc[df1619['YEAR'] == 2019, 'depression'].dropna().reset_index(drop = True).tolist()\n",
    "\n",
    "print(len(depression_16))\n",
    "print(len(depression_17))\n",
    "print(len(depression_18))\n",
    "print(len(depression_19))\n",
    "\n",
    "# 가장 적은 depression_19 맞춰서 랜덤샘플링\n",
    "\n",
    "import random\n",
    "\n",
    "depression_16_sample = random.choices(depression_16, k=len(depression_19))\n",
    "depression_17_sample = random.choices(depression_17, k=len(depression_19))\n",
    "depression_18_sample = random.choices(depression_18, k=len(depression_19))\n",
    "\n",
    "print(len(depression_16_sample))\n",
    "print(len(depression_17_sample))\n",
    "print(len(depression_18_sample))\n",
    "print(len(depression_19))\n",
    "\n",
    "x = [depression_16_sample, depression_17_sample, depression_18_sample, depression_19]"
   ]
  },
  {
   "cell_type": "code",
   "execution_count": 40,
   "metadata": {},
   "outputs": [
    {
     "data": {
      "text/plain": [
       "array([[ 3.09300772e-03,  2.44279551e-05,  2.56312047e-05,\n",
       "         2.23496150e-05],\n",
       "       [ 2.44279551e-05,  3.47828003e-03, -1.08292461e-05,\n",
       "        -1.45210346e-05],\n",
       "       [ 2.56312047e-05, -1.08292461e-05,  3.09300772e-03,\n",
       "        -1.29075863e-05],\n",
       "       [ 2.23496150e-05, -1.45210346e-05, -1.29075863e-05,\n",
       "         4.14304185e-03]])"
      ]
     },
     "execution_count": 40,
     "metadata": {},
     "output_type": "execute_result"
    }
   ],
   "source": [
    "np.cov(x)"
   ]
  },
  {
   "cell_type": "code",
   "execution_count": 41,
   "metadata": {},
   "outputs": [
    {
     "data": {
      "image/png": "[encoded data removed]",
      "text/plain": [
       "<Figure size 432x288 with 2 Axes>"
      ]
     },
     "metadata": {
      "needs_background": "light"
     },
     "output_type": "display_data"
    }
   ],
   "source": [
    "import seaborn as sns\n",
    "import matplotlib.pyplot as plt\n",
    "\n",
    "cov = np.cov(x, bias=True)\n",
    "labs = ['depression_16', 'depression_17', 'depression_18', 'depression_19']\n",
    "\n",
    "sns.heatmap(cov, annot=True, fmt='g', xticklabels=labs, yticklabels=labs)\n",
    "plt.show()"
   ]
  },
  {
   "cell_type": "code",
   "execution_count": 44,
   "metadata": {},
   "outputs": [
    {
     "name": "stdout",
     "output_type": "stream",
     "text": [
      "32573\n",
      "30103\n",
      "28364\n",
      "30183\n",
      "28364\n",
      "28364\n",
      "28364\n",
      "28364\n"
     ]
    }
   ],
   "source": [
    "# depression 17-20\n",
    "depression_17 = df1720.loc[df1720['YEAR'] == 2017, 'depression'].dropna().reset_index(drop = True).tolist()\n",
    "depression_18 = df1720.loc[df1720['YEAR'] == 2018, 'depression'].dropna().reset_index(drop = True).tolist()\n",
    "depression_19 = df1720.loc[df1720['YEAR'] == 2019, 'depression'].dropna().reset_index(drop = True).tolist()\n",
    "depression_20 = df1720.loc[df1720['YEAR'] == 2020, 'depression'].dropna().reset_index(drop = True).tolist()\n",
    "\n",
    "print(len(depression_17))\n",
    "print(len(depression_18))\n",
    "print(len(depression_19))\n",
    "print(len(depression_20))\n",
    "\n",
    "# 가장 적은 depression_19 에 맞춰서 랜덤샘플링\n",
    "\n",
    "import random\n",
    "\n",
    "depression_17_sample = random.choices(depression_17, k=len(depression_19))\n",
    "depression_18_sample = random.choices(depression_18, k=len(depression_19))\n",
    "depression_20_sample = random.choices(depression_20, k=len(depression_19))\n",
    "\n",
    "print(len(depression_17_sample))\n",
    "print(len(depression_18_sample))\n",
    "print(len(depression_20_sample))\n",
    "print(len(depression_19))\n",
    "\n",
    "x = [depression_17_sample, depression_18_sample, depression_19, depression_20_sample]"
   ]
  },
  {
   "cell_type": "code",
   "execution_count": 45,
   "metadata": {},
   "outputs": [
    {
     "data": {
      "text/plain": [
       "array([[ 3.96819154e-03,  1.75589912e-05, -1.65745142e-05,\n",
       "        -6.88263727e-06],\n",
       "       [ 1.75589912e-05,  4.42267307e-03, -1.84813168e-05,\n",
       "         2.75827562e-05],\n",
       "       [-1.65745142e-05, -1.84813168e-05,  4.14304185e-03,\n",
       "        -7.18717874e-06],\n",
       "       [-6.88263727e-06,  2.75827562e-05, -7.18717874e-06,\n",
       "         1.72461836e-03]])"
      ]
     },
     "execution_count": 45,
     "metadata": {},
     "output_type": "execute_result"
    }
   ],
   "source": [
    "np.cov(x)"
   ]
  },
  {
   "cell_type": "code",
   "execution_count": 46,
   "metadata": {},
   "outputs": [
    {
     "data": {
      "image/png": "[encoded data removed]",
      "text/plain": [
       "<Figure size 432x288 with 2 Axes>"
      ]
     },
     "metadata": {
      "needs_background": "light"
     },
     "output_type": "display_data"
    }
   ],
   "source": [
    "import seaborn as sns\n",
    "import matplotlib.pyplot as plt\n",
    "\n",
    "cov = np.cov(x, bias=True)\n",
    "labs = ['depression_17', 'depression_18', 'depression_19', 'depression_20']\n",
    "\n",
    "sns.heatmap(cov, annot=True, fmt='g', xticklabels=labs, yticklabels=labs)\n",
    "plt.show()"
   ]
  },
  {
   "cell_type": "markdown",
   "metadata": {},
   "source": [
    "------------------------"
   ]
  },
  {
   "cell_type": "markdown",
   "metadata": {},
   "source": [
    "#### PR_BI, M_STR 만 사용"
   ]
  },
  {
   "cell_type": "code",
   "execution_count": 53,
   "metadata": {},
   "outputs": [],
   "source": [
    "# 16-19, 17-20 각각 추출 후 df 생성\n",
    "\n",
    "df1619 = df.loc[(df['YEAR'] >= 2016) & (df['YEAR'] <= 2019)].reset_index(drop = True)\n",
    "df1720 = df.loc[(df['YEAR'] >= 2017) & (df['YEAR'] <= 2020)].reset_index(drop = True)\n",
    "\n",
    "# 필요한 열만 추출\n",
    "\n",
    "df1619 = df1619[['YEAR', 'PR_BI', 'M_STR']]\n",
    "df1720 = df1720[['YEAR', 'PR_BI', 'M_STR']]"
   ]
  },
  {
   "cell_type": "code",
   "execution_count": 54,
   "metadata": {},
   "outputs": [],
   "source": [
    "df1619_mean = pd.DataFrame(df1619.groupby('YEAR').mean())\n",
    "df1720_mean = pd.DataFrame(df1720.groupby('YEAR').mean())"
   ]
  },
  {
   "cell_type": "code",
   "execution_count": 55,
   "metadata": {},
   "outputs": [
    {
     "data": {
      "text/html": [
       "<div>\n",
       "<style scoped>\n",
       "    .dataframe tbody tr th:only-of-type {\n",
       "        vertical-align: middle;\n",
       "    }\n",
       "\n",
       "    .dataframe tbody tr th {\n",
       "        vertical-align: top;\n",
       "    }\n",
       "\n",
       "    .dataframe thead th {\n",
       "        text-align: right;\n",
       "    }\n",
       "</style>\n",
       "<table border=\"1\" class=\"dataframe\">\n",
       "  <thead>\n",
       "    <tr style=\"text-align: right;\">\n",
       "      <th></th>\n",
       "      <th>PR_BI</th>\n",
       "      <th>M_STR</th>\n",
       "    </tr>\n",
       "    <tr>\n",
       "      <th>YEAR</th>\n",
       "      <th></th>\n",
       "      <th></th>\n",
       "    </tr>\n",
       "  </thead>\n",
       "  <tbody>\n",
       "    <tr>\n",
       "      <th>2016</th>\n",
       "      <td>3.153019</td>\n",
       "      <td>2.766375</td>\n",
       "    </tr>\n",
       "    <tr>\n",
       "      <th>2017</th>\n",
       "      <td>3.164124</td>\n",
       "      <td>2.767101</td>\n",
       "    </tr>\n",
       "    <tr>\n",
       "      <th>2018</th>\n",
       "      <td>3.160276</td>\n",
       "      <td>2.698867</td>\n",
       "    </tr>\n",
       "    <tr>\n",
       "      <th>2019</th>\n",
       "      <td>3.153796</td>\n",
       "      <td>2.717380</td>\n",
       "    </tr>\n",
       "  </tbody>\n",
       "</table>\n",
       "</div>"
      ],
      "text/plain": [
       "         PR_BI     M_STR\n",
       "YEAR                    \n",
       "2016  3.153019  2.766375\n",
       "2017  3.164124  2.767101\n",
       "2018  3.160276  2.698867\n",
       "2019  3.153796  2.717380"
      ]
     },
     "execution_count": 55,
     "metadata": {},
     "output_type": "execute_result"
    }
   ],
   "source": [
    "df1619_mean"
   ]
  },
  {
   "cell_type": "code",
   "execution_count": 56,
   "metadata": {},
   "outputs": [
    {
     "data": {
      "text/html": [
       "<div>\n",
       "<style scoped>\n",
       "    .dataframe tbody tr th:only-of-type {\n",
       "        vertical-align: middle;\n",
       "    }\n",
       "\n",
       "    .dataframe tbody tr th {\n",
       "        vertical-align: top;\n",
       "    }\n",
       "\n",
       "    .dataframe thead th {\n",
       "        text-align: right;\n",
       "    }\n",
       "</style>\n",
       "<table border=\"1\" class=\"dataframe\">\n",
       "  <thead>\n",
       "    <tr style=\"text-align: right;\">\n",
       "      <th></th>\n",
       "      <th>PR_BI</th>\n",
       "      <th>M_STR</th>\n",
       "    </tr>\n",
       "    <tr>\n",
       "      <th>YEAR</th>\n",
       "      <th></th>\n",
       "      <th></th>\n",
       "    </tr>\n",
       "  </thead>\n",
       "  <tbody>\n",
       "    <tr>\n",
       "      <th>2017</th>\n",
       "      <td>3.164124</td>\n",
       "      <td>2.767101</td>\n",
       "    </tr>\n",
       "    <tr>\n",
       "      <th>2018</th>\n",
       "      <td>3.160276</td>\n",
       "      <td>2.698867</td>\n",
       "    </tr>\n",
       "    <tr>\n",
       "      <th>2019</th>\n",
       "      <td>3.153796</td>\n",
       "      <td>2.717380</td>\n",
       "    </tr>\n",
       "    <tr>\n",
       "      <th>2020</th>\n",
       "      <td>3.184247</td>\n",
       "      <td>2.830021</td>\n",
       "    </tr>\n",
       "  </tbody>\n",
       "</table>\n",
       "</div>"
      ],
      "text/plain": [
       "         PR_BI     M_STR\n",
       "YEAR                    \n",
       "2017  3.164124  2.767101\n",
       "2018  3.160276  2.698867\n",
       "2019  3.153796  2.717380\n",
       "2020  3.184247  2.830021"
      ]
     },
     "execution_count": 56,
     "metadata": {},
     "output_type": "execute_result"
    }
   ],
   "source": [
    "df1720_mean"
   ]
  },
  {
   "cell_type": "markdown",
   "metadata": {},
   "source": [
    "cov matrix"
   ]
  },
  {
   "cell_type": "code",
   "execution_count": 69,
   "metadata": {},
   "outputs": [
    {
     "name": "stdout",
     "output_type": "stream",
     "text": [
      "65528\n",
      "62276\n",
      "60040\n",
      "57303\n",
      "57303\n",
      "57303\n",
      "57303\n",
      "57303\n"
     ]
    }
   ],
   "source": [
    "# PR_BI 16-19\n",
    "PR_BI_16 = df1619.loc[df1619['YEAR'] == 2016, 'PR_BI'].dropna().reset_index(drop = True).tolist()\n",
    "PR_BI_17 = df1619.loc[df1619['YEAR'] == 2017, 'PR_BI'].dropna().reset_index(drop = True).tolist()\n",
    "PR_BI_18 = df1619.loc[df1619['YEAR'] == 2018, 'PR_BI'].dropna().reset_index(drop = True).tolist()\n",
    "PR_BI_19 = df1619.loc[df1619['YEAR'] == 2019, 'PR_BI'].dropna().reset_index(drop = True).tolist()\n",
    "\n",
    "print(len(PR_BI_16))\n",
    "print(len(PR_BI_17))\n",
    "print(len(PR_BI_18))\n",
    "print(len(PR_BI_19))\n",
    "\n",
    "# 가장 적은 PR_BI_19 맞춰서 랜덤샘플링\n",
    "\n",
    "import random\n",
    "\n",
    "PR_BI_16_sample = random.choices(PR_BI_16, k=len(PR_BI_19))\n",
    "PR_BI_17_sample = random.choices(PR_BI_17, k=len(PR_BI_19))\n",
    "PR_BI_18_sample = random.choices(PR_BI_18, k=len(PR_BI_19))\n",
    "\n",
    "print(len(PR_BI_16_sample))\n",
    "print(len(PR_BI_17_sample))\n",
    "print(len(PR_BI_18_sample))\n",
    "print(len(PR_BI_19))\n",
    "\n",
    "x = [PR_BI_16_sample, PR_BI_17_sample, PR_BI_18_sample, PR_BI_19]"
   ]
  },
  {
   "cell_type": "code",
   "execution_count": 73,
   "metadata": {},
   "outputs": [
    {
     "data": {
      "text/plain": [
       "array([[ 0.92991896,  0.00047376, -0.00295474, -0.00093627],\n",
       "       [ 0.00047376,  0.93972841, -0.00134169,  0.0027709 ],\n",
       "       [-0.00295474, -0.00134169,  0.94068394, -0.00478322],\n",
       "       [-0.00093627,  0.0027709 , -0.00478322,  0.94687082]])"
      ]
     },
     "execution_count": 73,
     "metadata": {},
     "output_type": "execute_result"
    }
   ],
   "source": [
    "np.set_printoptions(suppress=True)\n",
    "np.cov(x)"
   ]
  },
  {
   "cell_type": "code",
   "execution_count": 75,
   "metadata": {},
   "outputs": [
    {
     "data": {
      "image/png": "[encoded data removed]",
      "text/plain": [
       "<Figure size 432x288 with 2 Axes>"
      ]
     },
     "metadata": {
      "needs_background": "light"
     },
     "output_type": "display_data"
    }
   ],
   "source": [
    "import seaborn as sns\n",
    "import matplotlib.pyplot as plt\n",
    "\n",
    "cov = np.cov(x, bias=True)\n",
    "labs = ['PR_BI_16', 'PR_BI_17', 'PR_BI_18', 'PR_BI_19']\n",
    "\n",
    "sns.heatmap(cov, annot=True, fmt='g', xticklabels=labs, yticklabels=labs)\n",
    "plt.show()"
   ]
  },
  {
   "cell_type": "code",
   "execution_count": 77,
   "metadata": {},
   "outputs": [
    {
     "name": "stdout",
     "output_type": "stream",
     "text": [
      "65528\n",
      "62276\n",
      "60040\n",
      "57303\n",
      "57303\n",
      "57303\n",
      "57303\n",
      "57303\n"
     ]
    }
   ],
   "source": [
    "# M_STR 16-19\n",
    "M_STR_16 = df1619.loc[df1619['YEAR'] == 2016, 'M_STR'].dropna().reset_index(drop = True).tolist()\n",
    "M_STR_17 = df1619.loc[df1619['YEAR'] == 2017, 'M_STR'].dropna().reset_index(drop = True).tolist()\n",
    "M_STR_18 = df1619.loc[df1619['YEAR'] == 2018, 'M_STR'].dropna().reset_index(drop = True).tolist()\n",
    "M_STR_19 = df1619.loc[df1619['YEAR'] == 2019, 'M_STR'].dropna().reset_index(drop = True).tolist()\n",
    "\n",
    "print(len(M_STR_16))\n",
    "print(len(M_STR_17))\n",
    "print(len(M_STR_18))\n",
    "print(len(M_STR_19))\n",
    "\n",
    "# 가장 적은 M_STR_19 맞춰서 랜덤샘플링\n",
    "\n",
    "import random\n",
    "\n",
    "M_STR_16_sample = random.choices(M_STR_16, k=len(M_STR_19))\n",
    "M_STR_17_sample = random.choices(M_STR_17, k=len(M_STR_19))\n",
    "M_STR_18_sample = random.choices(M_STR_18, k=len(M_STR_19))\n",
    "\n",
    "print(len(M_STR_16_sample))\n",
    "print(len(M_STR_17_sample))\n",
    "print(len(M_STR_18_sample))\n",
    "print(len(M_STR_19))\n",
    "\n",
    "x = [M_STR_16_sample, M_STR_17_sample, M_STR_18_sample, M_STR_19]"
   ]
  },
  {
   "cell_type": "code",
   "execution_count": 78,
   "metadata": {},
   "outputs": [
    {
     "data": {
      "text/plain": [
       "array([[ 0.92192685, -0.0029068 ,  0.00067583, -0.00159346],\n",
       "       [-0.0029068 ,  0.95646604,  0.00111389,  0.00292226],\n",
       "       [ 0.00067583,  0.00111389,  0.94705712, -0.00452   ],\n",
       "       [-0.00159346,  0.00292226, -0.00452   ,  0.9833856 ]])"
      ]
     },
     "execution_count": 78,
     "metadata": {},
     "output_type": "execute_result"
    }
   ],
   "source": [
    "np.set_printoptions(suppress=True)\n",
    "np.cov(x)"
   ]
  },
  {
   "cell_type": "code",
   "execution_count": 79,
   "metadata": {},
   "outputs": [
    {
     "data": {
      "image/png": "[encoded data removed]",
      "text/plain": [
       "<Figure size 432x288 with 2 Axes>"
      ]
     },
     "metadata": {
      "needs_background": "light"
     },
     "output_type": "display_data"
    }
   ],
   "source": [
    "import seaborn as sns\n",
    "import matplotlib.pyplot as plt\n",
    "\n",
    "cov = np.cov(x, bias=True)\n",
    "labs = ['M_STR_16', 'M_STR_17', 'M_STR_18', 'M_STR_19']\n",
    "\n",
    "sns.heatmap(cov, annot=True, fmt='g', xticklabels=labs, yticklabels=labs)\n",
    "plt.show()"
   ]
  },
  {
   "cell_type": "code",
   "execution_count": 82,
   "metadata": {},
   "outputs": [
    {
     "name": "stdout",
     "output_type": "stream",
     "text": [
      "62276\n",
      "60040\n",
      "57303\n",
      "54948\n",
      "54948\n",
      "54948\n",
      "54948\n",
      "54948\n"
     ]
    }
   ],
   "source": [
    "# PR_BI 17-20\n",
    "PR_BI_17 = df1720.loc[df1720['YEAR'] == 2017, 'PR_BI'].dropna().reset_index(drop = True).tolist()\n",
    "PR_BI_18 = df1720.loc[df1720['YEAR'] == 2018, 'PR_BI'].dropna().reset_index(drop = True).tolist()\n",
    "PR_BI_19 = df1720.loc[df1720['YEAR'] == 2019, 'PR_BI'].dropna().reset_index(drop = True).tolist()\n",
    "PR_BI_20 = df1720.loc[df1720['YEAR'] == 2020, 'PR_BI'].dropna().reset_index(drop = True).tolist()\n",
    "\n",
    "print(len(PR_BI_17))\n",
    "print(len(PR_BI_18))\n",
    "print(len(PR_BI_19))\n",
    "print(len(PR_BI_20))\n",
    "\n",
    "# 가장 적은 PR_BI_20 에 맞춰서 랜덤샘플링\n",
    "\n",
    "import random\n",
    "\n",
    "PR_BI_17_sample = random.choices(PR_BI_17, k=len(PR_BI_20))\n",
    "PR_BI_18_sample = random.choices(PR_BI_18, k=len(PR_BI_20))\n",
    "PR_BI_19_sample = random.choices(PR_BI_20, k=len(PR_BI_20))\n",
    "\n",
    "print(len(PR_BI_17_sample))\n",
    "print(len(PR_BI_18_sample))\n",
    "print(len(PR_BI_19_sample))\n",
    "print(len(PR_BI_20))\n",
    "\n",
    "x = [PR_BI_17_sample, PR_BI_18_sample, PR_BI_19_sample, PR_BI_20]"
   ]
  },
  {
   "cell_type": "code",
   "execution_count": 83,
   "metadata": {},
   "outputs": [
    {
     "data": {
      "text/plain": [
       "array([[ 0.94335003, -0.00620554,  0.00498644,  0.00039933],\n",
       "       [-0.00620554,  0.92984723, -0.00129968,  0.00129134],\n",
       "       [ 0.00498644, -0.00129968,  0.94399635,  0.00439079],\n",
       "       [ 0.00039933,  0.00129134,  0.00439079,  0.94525059]])"
      ]
     },
     "execution_count": 83,
     "metadata": {},
     "output_type": "execute_result"
    }
   ],
   "source": [
    "np.set_printoptions(suppress=True)\n",
    "np.cov(x)"
   ]
  },
  {
   "cell_type": "code",
   "execution_count": 84,
   "metadata": {},
   "outputs": [
    {
     "data": {
      "image/png": "[encoded data removed]",
      "text/plain": [
       "<Figure size 432x288 with 2 Axes>"
      ]
     },
     "metadata": {
      "needs_background": "light"
     },
     "output_type": "display_data"
    }
   ],
   "source": [
    "import seaborn as sns\n",
    "import matplotlib.pyplot as plt\n",
    "\n",
    "cov = np.cov(x, bias=True)\n",
    "labs = ['PR_BI_17', 'PR_BI_18', 'PR_BI_19', 'PR_BI_20']\n",
    "\n",
    "sns.heatmap(cov, annot=True, fmt='g', xticklabels=labs, yticklabels=labs)\n",
    "plt.show()"
   ]
  },
  {
   "cell_type": "code",
   "execution_count": 86,
   "metadata": {},
   "outputs": [
    {
     "name": "stdout",
     "output_type": "stream",
     "text": [
      "62276\n",
      "60040\n",
      "57303\n",
      "54948\n",
      "54948\n",
      "54948\n",
      "54948\n",
      "54948\n"
     ]
    }
   ],
   "source": [
    "# M_STR 17-20\n",
    "M_STR_17 = df1720.loc[df1720['YEAR'] == 2017, 'M_STR'].dropna().reset_index(drop = True).tolist()\n",
    "M_STR_18 = df1720.loc[df1720['YEAR'] == 2018, 'M_STR'].dropna().reset_index(drop = True).tolist()\n",
    "M_STR_19 = df1720.loc[df1720['YEAR'] == 2019, 'M_STR'].dropna().reset_index(drop = True).tolist()\n",
    "M_STR_20 = df1720.loc[df1720['YEAR'] == 2020, 'M_STR'].dropna().reset_index(drop = True).tolist()\n",
    "\n",
    "print(len(M_STR_17))\n",
    "print(len(M_STR_18))\n",
    "print(len(M_STR_19))\n",
    "print(len(M_STR_20))\n",
    "\n",
    "# 가장 적은 M_STR_20 에 맞춰서 랜덤샘플링\n",
    "\n",
    "import random\n",
    "\n",
    "M_STR_17_sample = random.choices(M_STR_17, k=len(M_STR_20))\n",
    "M_STR_18_sample = random.choices(M_STR_18, k=len(M_STR_20))\n",
    "M_STR_19_sample = random.choices(M_STR_20, k=len(M_STR_20))\n",
    "\n",
    "print(len(M_STR_17_sample))\n",
    "print(len(M_STR_18_sample))\n",
    "print(len(M_STR_19_sample))\n",
    "print(len(M_STR_20))\n",
    "\n",
    "x = [M_STR_17_sample, M_STR_18_sample, M_STR_19_sample, M_STR_20]"
   ]
  },
  {
   "cell_type": "code",
   "execution_count": 87,
   "metadata": {},
   "outputs": [
    {
     "data": {
      "text/plain": [
       "array([[ 0.96166182, -0.00336115,  0.00300671,  0.00029217],\n",
       "       [-0.00336115,  0.94469479, -0.0008757 , -0.00996249],\n",
       "       [ 0.00300671, -0.0008757 ,  0.88747391, -0.00152256],\n",
       "       [ 0.00029217, -0.00996249, -0.00152256,  0.88893656]])"
      ]
     },
     "execution_count": 87,
     "metadata": {},
     "output_type": "execute_result"
    }
   ],
   "source": [
    "np.set_printoptions(suppress=True)\n",
    "np.cov(x)"
   ]
  },
  {
   "cell_type": "code",
   "execution_count": 88,
   "metadata": {},
   "outputs": [
    {
     "data": {
      "image/png": "[encoded data removed]",
      "text/plain": [
       "<Figure size 432x288 with 2 Axes>"
      ]
     },
     "metadata": {
      "needs_background": "light"
     },
     "output_type": "display_data"
    }
   ],
   "source": [
    "import seaborn as sns\n",
    "import matplotlib.pyplot as plt\n",
    "\n",
    "cov = np.cov(x, bias=True)\n",
    "labs = ['M_STR_17', 'M_STR_18', 'M_STR_19', 'M_STR_20']\n",
    "\n",
    "sns.heatmap(cov, annot=True, fmt='g', xticklabels=labs, yticklabels=labs)\n",
    "plt.show()"
   ]
  },
  {
   "cell_type": "code",
   "execution_count": null,
   "metadata": {},
   "outputs": [],
   "source": []
  }
 ],
 "metadata": {
  "kernelspec": {
   "display_name": "Python 3.8.8 ('base')",
   "language": "python",
   "name": "python3"
  },
  "language_info": {
   "codemirror_mode": {
    "name": "ipython",
    "version": 3
   },
   "file_extension": ".py",
   "mimetype": "text/x-python",
   "name": "python",
   "nbconvert_exporter": "python",
   "pygments_lexer": "ipython3",
   "version": "3.8.8"
  },
  "orig_nbformat": 4,
  "vscode": {
   "interpreter": {
    "hash": "a077222d77dfe082b8f1dd562ad70e458ac2ab76993a0b248ab0476e32e9e8dd"
   }
  }
 },
 "nbformat": 4,
 "nbformat_minor": 2
}
